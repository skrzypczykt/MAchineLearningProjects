{
  "nbformat": 4,
  "nbformat_minor": 0,
  "metadata": {
    "colab": {
      "name": "MLP_with_ES_numpy.ipynb",
      "provenance": [],
      "collapsed_sections": [],
      "include_colab_link": true
    },
    "kernelspec": {
      "name": "python3",
      "display_name": "Python 3"
    },
    "language_info": {
      "name": "python"
    }
  },
  "cells": [
    {
      "cell_type": "markdown",
      "metadata": {
        "id": "view-in-github",
        "colab_type": "text"
      },
      "source": [
        "<a href=\"https://colab.research.google.com/github/skrzypczykt/MAchineLearningProjects/blob/main/NeuralNetworksTutorials/MLP_with_ES_numpy.ipynb\" target=\"_parent\"><img src=\"https://colab.research.google.com/assets/colab-badge.svg\" alt=\"Open In Colab\"/></a>"
      ]
    },
    {
      "cell_type": "markdown",
      "metadata": {
        "id": "ax6TI2vDatCH"
      },
      "source": [
        "#Klasyfikacja binarna za pomocą sieci MLP"
      ]
    },
    {
      "cell_type": "code",
      "metadata": {
        "id": "mj2uc6dQggJC"
      },
      "source": [
        "import numpy as np\n",
        "import math\n",
        "from typing import List, Tuple\n",
        "import numpy as np\n",
        "import matplotlib.pyplot as plt\n",
        "import tqdm"
      ],
      "execution_count": null,
      "outputs": []
    },
    {
      "cell_type": "markdown",
      "metadata": {
        "id": "wOH8ZVa5bV23"
      },
      "source": [
        "#Definicja sieci"
      ]
    },
    {
      "cell_type": "markdown",
      "metadata": {
        "id": "PLQ4Hi0yb3DB"
      },
      "source": [
        "####Element wczesnego zatrzymania treningu:\n",
        "\n",
        "  Trening zatrzymujemy gdy `val_accuracy` nie poprawia się przez `patience` iteracji z rzedu.\n",
        "\n",
        "\n",
        "####Wariant wstecznej propagacji \n",
        "   niestochastyczny\n",
        "  \n",
        "####Funkcja aktywacji\n",
        "  Sigmoida, w każdym memencie możną ją zmienić w pierwszych liniach kodu redefiniując zmienne `sigmoid` oraz \n",
        "`sigmoid_derivative` wprowadzając np. skok jednostkowy lub relu."
      ]
    },
    {
      "cell_type": "code",
      "metadata": {
        "id": "OZrdQ2R5bHSW"
      },
      "source": [
        "\n",
        "\n",
        "beta = 1\n",
        "sigmoid = lambda _sum: 1/(1 + np.exp(-beta*_sum))\n",
        "sigmoid_derivative = lambda _sum:  sigmoid(_sum) * (1 - sigmoid(_sum))\n",
        "\n",
        "\n",
        "class NeuralNetwork:\n",
        "    def __init__(self, hidden_sizes: List[int], output_size: int, input_size: int) -> None:\n",
        "        self.sizes = [input_size, *hidden_sizes, output_size]\n",
        "        self.weights = [[np.random.normal(size=(size_in, size_out)), np.zeros(shape=(1, size_out))] for size_in, size_out in zip(self.sizes[:-1], self.sizes[1:])]  # inicjujemy wagi sieci dla warstw ukrytych\n",
        "        self.layers = []  #umieszczamy wartosci znajdujace sie w poszczegolnych ukrytych warstwach sieci\n",
        "        self.activation_function = sigmoid\n",
        "        self.activation_derivate = sigmoid_derivative\n",
        "\n",
        "    def predict(self, input_: np.ndarray) -> np.ndarray:\n",
        "        prediction = input_.copy()\n",
        "        self.layers = [prediction]\n",
        "        for weights, biases in self.weights:\n",
        "            _sum = prediction @ weights + biases\n",
        "            self.layers.append(_sum)\n",
        "            prediction = self.activation_function(_sum)\n",
        "        return prediction\n",
        "\n",
        "    def fit(self, data: np.ndarray, labels: np.ndarray, iterations: int, alpha: float, validation_data: tuple) -> float:\n",
        "        errors = []\n",
        "        val_errors = []\n",
        "        val_classification_errors = []\n",
        "        classification_errors = []\n",
        "        n = data.shape[0]\n",
        "\n",
        "        best_val_accuracy = 0\n",
        "        #If we have no improvment for patience epoch then we stop the training.\n",
        "        patience = 25\n",
        "        semafor = 0\n",
        "        for _ in tqdm.tqdm(range(iterations)):\n",
        "\n",
        "            #Validation step\n",
        "            y_val_pred = self.predict(validation_data[0])\n",
        "            val_error = (validation_data[1] - y_val_pred) ** 2\n",
        "            val_errors.append(np.mean(val_error))\n",
        "\n",
        "            #Classification Error\n",
        "            y_val_predicted_classes = np.round(y_val_pred)\n",
        "            # print(y_prediction_classes)\n",
        "            val_accuracy = np.mean(y_val_predicted_classes == validation_data[1])\n",
        "            val_classification_errors.append(1 - val_accuracy)\n",
        "\n",
        "            #Early stopping module\n",
        "            \n",
        "            if semafor == patience:\n",
        "              return errors, classification_errors, val_errors, val_classification_errors\n",
        "            else:\n",
        "              if val_accuracy > best_val_accuracy:\n",
        "                semafor = 0\n",
        "                best_val_accuracy = val_accuracy\n",
        "              else:\n",
        "                semafor = semafor + 1\n",
        "\n",
        "            #Forward step\n",
        "            y_pred = self.predict(data)\n",
        "            error = (labels - y_pred) ** 2\n",
        "            errors.append(np.mean(error))\n",
        "\n",
        "            #Classification Error\n",
        "            y_prediction_classes = np.round(y_pred)\n",
        "            # print(y_prediction_classes)\n",
        "            accuracy = np.mean(y_prediction_classes == labels)\n",
        "            # print(accuracy)\n",
        "            ce = 1 - accuracy\n",
        "            classification_errors.append(ce)\n",
        "\n",
        "            #Back prop\n",
        "            gradient = 2 * (y_pred - labels)\n",
        "            # print(\"Gradient:\" , gradient)\n",
        "\n",
        "            # print(\"Layer shapes\")\n",
        "            # [print(layer.shape) for layer in self.layers]\n",
        "            for indx in range(1, len(self.weights) + 1):\n",
        "                # print(\"Layer=\", indx)\n",
        "                indx = -indx\n",
        "                m = self.weights[indx][0].shape[1]\n",
        "                k = self.weights[indx][0].shape[0]\n",
        "                # print(\"Sumy:\", self.activation_derivate(self.layers[indx]))\n",
        "                # print(\"GRadient shape przed aktywacja\", gradient.shape)\n",
        "                assert gradient.shape == (n, m)\n",
        "                # print(\"Aktywacke\", self.layers[-1])\n",
        "                # print(\"Akrtywacje obecne shape = \", self.layers[indx].shape)\n",
        "                gradient = gradient * self.activation_derivate(self.layers[indx])\n",
        "                assert gradient.shape == (n, m)\n",
        "                # print(\"Po fukcji aktywacji\", gradient.shape)\n",
        "                # print(\"GRadient po przeskalowaniu\", gradient)\n",
        "\n",
        "                #update biases\n",
        "                self.weights[indx][1] = self.weights[indx][1] - alpha * np.sum(gradient)\n",
        "\n",
        "                #aktualizacja wag\n",
        "\n",
        "                gradient_to_be_passed_further = np.array([self.weights[indx][0] * grad for grad in gradient ])\n",
        "\n",
        "\n",
        "                assert gradient_to_be_passed_further.shape == (n, k, m)\n",
        "                gradient_to_be_passed_further = gradient_to_be_passed_further.sum(axis = -1)\n",
        "                assert gradient_to_be_passed_further.shape == (n, k)\n",
        "                gradient = gradient.reshape(n,1,m)\n",
        "                # print(\"gradient before\" , gradient.shape)\n",
        "                # print(\"actrivation before\",  self.activation_function(self.layers[indx - 1]).shape)\n",
        "                gradient = np.array([a @ g for a, g in zip (self.activation_function(self.layers[indx - 1]).reshape(n,k,1), gradient)]).reshape(n, k, m)\n",
        "                # print(\"n,k,m\", n,k,m)\n",
        "                # print(\"Shahsasdfsape\", gradient.shape)\n",
        "                assert gradient.shape == (n, k, m)\n",
        "                gradient = np.sum(gradient,axis=-3)\n",
        "                assert gradient.shape == (k, m)\n",
        "                self.weights[indx][0] = self.weights[indx][0] - alpha * gradient\n",
        "\n",
        "\n",
        "                gradient = gradient_to_be_passed_further\n",
        "              \n",
        "\n",
        "        # zwracamy wartosc bledu treningu\n",
        "        return errors, classification_errors, val_errors, val_classification_errors\n"
      ],
      "execution_count": null,
      "outputs": []
    },
    {
      "cell_type": "markdown",
      "metadata": {
        "id": "-ALb6HC9bYe2"
      },
      "source": [
        "# Przygotowanie danych"
      ]
    },
    {
      "cell_type": "code",
      "metadata": {
        "id": "VfXzTdeJ0T5l"
      },
      "source": [
        "#iris data\n",
        "from sklearn.datasets import load_iris\n",
        "from sklearn.model_selection import train_test_split\n",
        "from sklearn.preprocessing import StandardScaler\n",
        "\n",
        "data = load_iris()\n",
        "columns = data.feature_names\n",
        "\n",
        "X = data.data\n",
        "y = data.target\n",
        "\n",
        "#Wybieramy próbki o etykietach 0 i 2\n",
        "binary_indices = (y == 0) + (y == 2)\n",
        "X = X[binary_indices]\n",
        "y = y[binary_indices]\n",
        "\n",
        "y[y==2] = 1\n",
        "\n",
        "#Podział danych na treningowe, walidacyjne i testowe\n",
        "\n",
        "X_train, X_test, y_train, y_test = train_test_split(X, y,test_size= 0.1)\n",
        "X_train, X_val, y_train, y_val = train_test_split(X_train, y_train,test_size=0.1)\n",
        "\n",
        "scaler = StandardScaler()\n",
        "X_train = scaler.fit_transform(X_train)\n",
        "X_val = scaler.transform(X_val)\n",
        "X_test = scaler.transform(X_test)"
      ],
      "execution_count": null,
      "outputs": []
    },
    {
      "cell_type": "markdown",
      "metadata": {
        "id": "Pd-xUklibbQP"
      },
      "source": [
        "#Trening"
      ]
    },
    {
      "cell_type": "code",
      "metadata": {
        "id": "knKfWDQNbO5V",
        "colab": {
          "base_uri": "https://localhost:8080/"
        },
        "outputId": "342a6de3-39d6-4038-95b1-213f52c08301"
      },
      "source": [
        "\n",
        "\n",
        "input_size = X_train.shape[-1]\n",
        "output_size = 1\n",
        "\n",
        "max_iterations = 20000\n",
        "#wspolczynnik uczenia\n",
        "alpha = 0.1\n",
        "\n",
        "#tworzymy siec O 2 warstwach ukrytych po 2 neurony w warstwie\n",
        "network = NeuralNetwork([2,2], output_size, input_size)\n",
        "\n",
        "# print(network.weights)\n",
        "\n",
        "#patrzymy jak daje wyniki na podstawie losowych wag - przed treningiwem\n",
        "y_pred = network.predict(X_train)\n",
        "print('Predictions before training:' ,y_pred)\n",
        "\n",
        "#uruchamiamy trening\n",
        "training_history = network.fit(X_train, y_train.reshape(-1,1), iterations=max_iterations, alpha=alpha, validation_data = (X_val, y_val.reshape(-1,1)))\n",
        "# print(\"Blad na danych treningowych: \\n\", \"\\tBłąd bezwzględny:\", absolute_error, \"\\tBłąd średniokwadratowy:\",error )\n",
        "\n",
        "print(network.weights)\n",
        "# patrzymy jak daje wyniki na podstawie nauczonych wag - po treningu\n",
        "y_pred = network.predict(X_train)\n",
        "print('Predictions:' ,y_pred)"
      ],
      "execution_count": null,
      "outputs": [
        {
          "output_type": "stream",
          "text": [
            "  0%|          | 0/20000 [00:00<?, ?it/s]"
          ],
          "name": "stderr"
        },
        {
          "output_type": "stream",
          "text": [
            "Predictions before training: [[0.65007233]\n",
            " [0.66326985]\n",
            " [0.6422219 ]\n",
            " [0.63236992]\n",
            " [0.62279209]\n",
            " [0.61831834]\n",
            " [0.62083983]\n",
            " [0.66180079]\n",
            " [0.61753991]\n",
            " [0.64180768]\n",
            " [0.65136375]\n",
            " [0.66323759]\n",
            " [0.61643668]\n",
            " [0.61436559]\n",
            " [0.62509181]\n",
            " [0.63422855]\n",
            " [0.61641137]\n",
            " [0.62150721]\n",
            " [0.64425954]\n",
            " [0.62048036]\n",
            " [0.63120534]\n",
            " [0.64193611]\n",
            " [0.65934346]\n",
            " [0.65466609]\n",
            " [0.61589218]\n",
            " [0.61493226]\n",
            " [0.62146476]\n",
            " [0.61592983]\n",
            " [0.63072317]\n",
            " [0.66248342]\n",
            " [0.66076942]\n",
            " [0.65842274]\n",
            " [0.66389733]\n",
            " [0.63411347]\n",
            " [0.66575168]\n",
            " [0.62443483]\n",
            " [0.63848795]\n",
            " [0.66116776]\n",
            " [0.62624502]\n",
            " [0.66622434]\n",
            " [0.64131163]\n",
            " [0.65951762]\n",
            " [0.62257211]\n",
            " [0.6161081 ]\n",
            " [0.61722641]\n",
            " [0.61836174]\n",
            " [0.66098563]\n",
            " [0.64020908]\n",
            " [0.64640295]\n",
            " [0.66155517]\n",
            " [0.63422855]\n",
            " [0.64461504]\n",
            " [0.62344588]\n",
            " [0.66127998]\n",
            " [0.61879399]\n",
            " [0.66039601]\n",
            " [0.63006285]\n",
            " [0.61584018]\n",
            " [0.61557829]\n",
            " [0.61957617]\n",
            " [0.66399443]\n",
            " [0.66234351]\n",
            " [0.65994404]\n",
            " [0.65549336]\n",
            " [0.62068909]\n",
            " [0.6267647 ]\n",
            " [0.64519688]\n",
            " [0.64002513]\n",
            " [0.61621258]\n",
            " [0.6287779 ]\n",
            " [0.65941679]\n",
            " [0.61542569]\n",
            " [0.66309557]\n",
            " [0.65404437]\n",
            " [0.66162908]\n",
            " [0.66168663]\n",
            " [0.6477962 ]\n",
            " [0.61665205]\n",
            " [0.66104192]\n",
            " [0.66533808]\n",
            " [0.65031528]]\n",
            "[[array([[ 0.59247973, -2.83809488],\n",
            "       [-0.20571171, -0.77099414],\n",
            "       [ 1.51633001,  0.21009204],\n",
            "       [ 1.19739172, -1.48287623]]), array([[0.47571637, 0.47571637]])], [array([[ 4.10234836, -0.42844064],\n",
            "       [-2.44802359,  0.44251401]]), array([[-0.22831774, -0.22831774]])], [array([[ 5.48133161],\n",
            "       [-0.99163325]]), array([[-2.21183229]])]]\n",
            "Predictions: [[0.21479536]\n",
            " [0.94348835]\n",
            " [0.91505538]\n",
            " [0.09741726]\n",
            " [0.09128065]\n",
            " [0.08581164]\n",
            " [0.09245925]\n",
            " [0.9420973 ]\n",
            " [0.08755051]\n",
            " [0.9279272 ]\n",
            " [0.93896924]\n",
            " [0.94338405]\n",
            " [0.09056257]\n",
            " [0.08543556]\n",
            " [0.72905513]\n",
            " [0.89792929]\n",
            " [0.08908515]\n",
            " [0.09097211]\n",
            " [0.92012928]\n",
            " [0.09033496]\n",
            " [0.09730193]\n",
            " [0.12690006]\n",
            " [0.94197231]\n",
            " [0.93744819]\n",
            " [0.08894034]\n",
            " [0.08663407]\n",
            " [0.0897475 ]\n",
            " [0.0893357 ]\n",
            " [0.88271891]\n",
            " [0.94271971]\n",
            " [0.94225344]\n",
            " [0.94006973]\n",
            " [0.94343196]\n",
            " [0.88765829]\n",
            " [0.94333291]\n",
            " [0.09587724]\n",
            " [0.09484259]\n",
            " [0.94277746]\n",
            " [0.09940262]\n",
            " [0.94344128]\n",
            " [0.9206403 ]\n",
            " [0.94115108]\n",
            " [0.08920806]\n",
            " [0.08720509]\n",
            " [0.0883784 ]\n",
            " [0.08850673]\n",
            " [0.94293756]\n",
            " [0.11056738]\n",
            " [0.92611798]\n",
            " [0.94194776]\n",
            " [0.89792929]\n",
            " [0.93704797]\n",
            " [0.09166948]\n",
            " [0.94249885]\n",
            " [0.08983767]\n",
            " [0.9405974 ]\n",
            " [0.09303298]\n",
            " [0.08775658]\n",
            " [0.0862802 ]\n",
            " [0.08944988]\n",
            " [0.94339256]\n",
            " [0.94264114]\n",
            " [0.94200731]\n",
            " [0.93945515]\n",
            " [0.08757242]\n",
            " [0.85686998]\n",
            " [0.93418715]\n",
            " [0.10782971]\n",
            " [0.08725901]\n",
            " [0.09686512]\n",
            " [0.94192709]\n",
            " [0.08767283]\n",
            " [0.94282803]\n",
            " [0.93813305]\n",
            " [0.94280306]\n",
            " [0.9416705 ]\n",
            " [0.93318715]\n",
            " [0.08835223]\n",
            " [0.94247237]\n",
            " [0.94333473]\n",
            " [0.9380992 ]]\n"
          ],
          "name": "stdout"
        },
        {
          "output_type": "stream",
          "text": [
            "\n"
          ],
          "name": "stderr"
        }
      ]
    },
    {
      "cell_type": "code",
      "metadata": {
        "id": "PsFiMtWVf21V",
        "colab": {
          "base_uri": "https://localhost:8080/",
          "height": 297
        },
        "outputId": "c2dc10f8-327c-404b-e173-bed9b929f680"
      },
      "source": [
        "plt.plot(range(len(training_history[0])), training_history[0], label=\"Training error\")\n",
        "plt.plot(range(len(training_history[1])), training_history[1], color='orange', label=\"Validation error\")\n",
        "plt.title(\"MSE\")\n",
        "plt.legend()"
      ],
      "execution_count": null,
      "outputs": [
        {
          "output_type": "execute_result",
          "data": {
            "text/plain": [
              "<matplotlib.legend.Legend at 0x7f297e5b74d0>"
            ]
          },
          "metadata": {
            "tags": []
          },
          "execution_count": 195
        },
        {
          "output_type": "display_data",
          "data": {
            "image/png": "[encoded data removed]",
            "text/plain": [
              "<Figure size 432x288 with 1 Axes>"
            ]
          },
          "metadata": {
            "tags": [],
            "needs_background": "light"
          }
        }
      ]
    },
    {
      "cell_type": "code",
      "metadata": {
        "colab": {
          "base_uri": "https://localhost:8080/",
          "height": 297
        },
        "id": "7cWgHXJzBlcU",
        "outputId": "841d5481-57fb-43b2-a2b0-d1c387d2a74e"
      },
      "source": [
        "#Wykres validation accuracy\n",
        "plt.plot(range(len(training_history[2])), training_history[2], label=\"Training classification error\")\n",
        "plt.plot(range(len(training_history[3])), training_history[3], color='orange',  label=\"Validation classification error\")\n",
        "plt.title(\"Classification error\")"
      ],
      "execution_count": null,
      "outputs": [
        {
          "output_type": "execute_result",
          "data": {
            "text/plain": [
              "Text(0.5, 1.0, 'Classification error')"
            ]
          },
          "metadata": {
            "tags": []
          },
          "execution_count": 197
        },
        {
          "output_type": "display_data",
          "data": {
            "image/png": "[encoded data removed]",
            "text/plain": [
              "<Figure size 432x288 with 1 Axes>"
            ]
          },
          "metadata": {
            "tags": [],
            "needs_background": "light"
          }
        }
      ]
    },
    {
      "cell_type": "markdown",
      "metadata": {
        "id": "-lVe06V6bQnn"
      },
      "source": [
        "Ostatecznie dla danych testowych:"
      ]
    },
    {
      "cell_type": "code",
      "metadata": {
        "colab": {
          "base_uri": "https://localhost:8080/"
        },
        "id": "zJcrUqdSBpxG",
        "outputId": "ce56299a-d228-4464-b0fe-70dfcbd26bf8"
      },
      "source": [
        "#Test accuracy\n",
        "y_pred = network.predict(X_test)\n",
        "\n",
        "y_val_predicted_classes = np.round(y_pred)\n",
        "# print(y_prediction_classes)\n",
        "test_accuracy = np.mean(y_val_predicted_classes == y_test.reshape(-1,1))\n",
        "print(\"Test accuracy:\", test_accuracy)"
      ],
      "execution_count": null,
      "outputs": [
        {
          "output_type": "stream",
          "text": [
            "Test accuracy: 1.0\n"
          ],
          "name": "stdout"
        }
      ]
    }
  ]
}