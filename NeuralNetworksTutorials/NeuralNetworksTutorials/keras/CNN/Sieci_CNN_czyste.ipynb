{
  "nbformat": 4,
  "nbformat_minor": 0,
  "metadata": {
    "colab": {
      "name": "Sieci_CNN_czyste.ipynb",
      "provenance": [],
      "collapsed_sections": [],
      "include_colab_link": true
    },
    "kernelspec": {
      "display_name": "Python 3 (Spyder)",
      "language": "python3",
      "name": "python3"
    },
    "language_info": {
      "codemirror_mode": {
        "name": "ipython",
        "version": 3
      },
      "file_extension": ".py",
      "mimetype": "text/x-python",
      "name": "python",
      "nbconvert_exporter": "python",
      "pygments_lexer": "ipython3",
      "version": "3.7.5"
    }
  },
  "cells": [
    {
      "cell_type": "markdown",
      "metadata": {
        "id": "view-in-github",
        "colab_type": "text"
      },
      "source": [
        "<a href=\"https://colab.research.google.com/github/skrzypczykt/MAchineLearningProjects/blob/main/NeuralNetworksTutorials/NeuralNetworksTutorials/keras/CNN/Sieci_CNN_czyste.ipynb\" target=\"_parent\"><img src=\"https://colab.research.google.com/assets/colab-badge.svg\" alt=\"Open In Colab\"/></a>"
      ]
    },
    {
      "cell_type": "code",
      "metadata": {
        "id": "q3KzJyjv3rnA"
      },
      "source": [
        "import numpy as np\n",
        "import matplotlib.pyplot as plt\n",
        "import keras"
      ],
      "execution_count": null,
      "outputs": []
    },
    {
      "cell_type": "markdown",
      "metadata": {
        "id": "jHJfj3vQ7UDd"
      },
      "source": [
        "# Splot (*convolution*)\n",
        "**Splot** to operacja, z którą już mieliście do czynienia na analizie danych eeg. Nawet jeżeli nie uczyliście się bezpośrednio o splocie, to zarówno filtrowanie sygnału, jak i analiza czas częstość opiera się na operacji splotu. Splot okazuje się również bardzo pomocny gdy budujemy sieci neuronowe do analizy obrazu - przy czym w tym wypadku splot odbywa się w (co najmniej) dwóch wymiarach.  \n",
        "\n",
        "## Na czym polega splot\n",
        "Oryginalny obrazek (lazurowa macierz poniżej) jest przekształcany za pomocą splotu, dając nowy obrazek (macierz w kolorze grynszpan / cyrankowym). Każdy pixel **nowej** macierzy tworzony jest poprzez przemnożenie przez filtr (*kernel*, szara przesuwająca się mała macierz) danego pixela i jego sąsiadów ze **starej** macierzy, a następnie zsumowanie otrzymanych wartości:  \n",
        "<img src=https://miro.medium.com/max/790/1*nYf_cUIHFEWU1JXGwnz-Ig.gif>  \n",
        "W przypadku splotowzch sieci neuronowych (**CNN** od *Convolutional Neural Networks*) - neurony uczą się wag filtrów (*Kernel* w wizualizacji powyżej) wykorzystywanych w splocie. Więcej o tym powiemy sobie później w tym notebook'u.  \n",
        "\n",
        "## Pierwsze spotkanie ze splotem\n",
        "Zanim przejdziemy dalej przerobimy kilka przykładów splotu, celem jego lepszego zrozumienie w dwóch wymiarach oraz jego użyteczności do analizy obrazu.  \n",
        "Wczytamy najpierw przykładowy obraz ze `scipy`:"
      ]
    },
    {
      "cell_type": "code",
      "metadata": {
        "id": "rqcx3XvK7UDe"
      },
      "source": [
        "import scipy.misc\n",
        "\n",
        "ascent = scipy.misc.ascent()"
      ],
      "execution_count": null,
      "outputs": []
    },
    {
      "cell_type": "markdown",
      "metadata": {
        "id": "dm3qsXc-7UDf"
      },
      "source": [
        "obraz ten to po prostu dwuwymiarowa macierz, zobaczmy jaki ma kształt:"
      ]
    },
    {
      "cell_type": "code",
      "metadata": {
        "id": "L2bgpJTx7UDg"
      },
      "source": [
        "ascent._____"
      ],
      "execution_count": null,
      "outputs": []
    },
    {
      "cell_type": "markdown",
      "metadata": {
        "id": "erIesE1M7UDg"
      },
      "source": [
        "aby wyświetlić obraz wykorzystamy funkcję `imshow` biblioteki `matplotlib`:"
      ]
    },
    {
      "cell_type": "code",
      "metadata": {
        "id": "UzcVQgZH7UDh"
      },
      "source": [
        "plt._____(_____, cmap='gray')\n",
        "plt.axis('off')  # <- wyłączamy ramki wykresu, nie są potrzebne jeżeli wyświetlana macierz to obraz"
      ],
      "execution_count": null,
      "outputs": []
    },
    {
      "cell_type": "markdown",
      "metadata": {
        "id": "SCHmVF2r7UDh"
      },
      "source": [
        "Przetestujemy na tym obrazie zachowanie splotu. Najpierw utworzymy i wyświetlimy filtr, który chcemy spleść z obrazem:"
      ]
    },
    {
      "cell_type": "code",
      "metadata": {
        "id": "P3BOmq4s7UDi"
      },
      "source": [
        "kernel = [[-1, 0, 1],\n",
        "          [-1, 0, 1],\n",
        "          [-1, 0, 1]]\n",
        "kernel = np.array(kernel)"
      ],
      "execution_count": null,
      "outputs": []
    },
    {
      "cell_type": "code",
      "metadata": {
        "id": "airYKWoh7UDi"
      },
      "source": [
        "# wyświetlmy kernel\n",
        "plt._____(_____, cmap='gray')"
      ],
      "execution_count": null,
      "outputs": []
    },
    {
      "cell_type": "markdown",
      "metadata": {
        "id": "ALL1QnzU7UDj"
      },
      "source": [
        "Splot to w zasadzie krocząca korelacja (tyle że bez normalizacji, dzięki której korelacja mieści się między -1 a 1) - mówi nam w jakim stopniu dany fragment obrazu jest podobny do filtra. Dlatego korzystamy z implementacji `correlate` dostępnej w ramach `scipy.signal`:"
      ]
    },
    {
      "cell_type": "code",
      "metadata": {
        "id": "pQF7GsXe7UDj"
      },
      "source": [
        "from scipy.signal import _____"
      ],
      "execution_count": null,
      "outputs": []
    },
    {
      "cell_type": "markdown",
      "metadata": {
        "id": "eLspAPmw7UDk"
      },
      "source": [
        "Poniżej wykorzystaj `correlate` podając odpowiednie agumenty (obraz i filtr). W razie wątpliwości względem kolejności agrumentów - sprawdź dokumentację funkcji `correlate`."
      ]
    },
    {
      "cell_type": "code",
      "metadata": {
        "id": "4u0dv8ax7UDk"
      },
      "source": [
        "ascent_k1 = __________(_____, _____)"
      ],
      "execution_count": null,
      "outputs": []
    },
    {
      "cell_type": "markdown",
      "metadata": {
        "id": "F1tutnsS7UDk"
      },
      "source": [
        "Otrzymaliśmy wynik splotu, który możemy nazwyać \"mapą korelacyjną\" - znajduje się w zmiennej `ascent_k1`. Następnie wyświetlimy sobie tę mapę. Poniżej stosujemy `vmin` i `vmax` aby wyznaczyć minima i maksima skali kolorystycznej (splot nie jest normalizowany, tak jak korelacja, do zakresu -1 - 1):"
      ]
    },
    {
      "cell_type": "code",
      "metadata": {
        "id": "FIFxVxvV7UDl"
      },
      "source": [
        "plt._____(_____, cmap='gray', vmin=-255, vmax=255)\n",
        "plt.axis('off');"
      ],
      "execution_count": null,
      "outputs": []
    },
    {
      "cell_type": "markdown",
      "metadata": {
        "id": "QBjZEt_47UDl"
      },
      "source": [
        "Wynik splotu ma wysokie wartości tam gdzie obserwujemy horyzontalne przejście z ciemnych do jasnych wartości.  \n",
        "Spójrz na definicję filtra i zastanów się dlaczego. Przypomnij sobie jaka wartość piksela odpowiada ciemnemu, a jaka jasnemu."
      ]
    },
    {
      "cell_type": "markdown",
      "metadata": {
        "id": "9xgkodTf7UDm"
      },
      "source": [
        "Stwórzmy teraz i wyświetlmy inny filtr:"
      ]
    },
    {
      "cell_type": "code",
      "metadata": {
        "id": "7pFMDf6G7UDm"
      },
      "source": [
        "kernel2 = [[-1, -1, -1],\n",
        "          [0, 0, 0],\n",
        "          [1, 1, 1]]\n",
        "kernel2 = np.array(kernel2)\n",
        "plt._____(_____, cmap='gray')"
      ],
      "execution_count": null,
      "outputs": []
    },
    {
      "cell_type": "markdown",
      "metadata": {
        "id": "o0yI8Zm07UDm"
      },
      "source": [
        "Patrząc na definicję wag filtra - czy jesteś w stanie przewidzieć na jakie cechy fragmentów obrazu będzie reagował najsilniej?  \n",
        "Zobaczmy jak wygląda wynik splecenia go z obrazem:"
      ]
    },
    {
      "cell_type": "code",
      "metadata": {
        "id": "AZojouWx7UDn"
      },
      "source": [
        "ascent_k2 = __________(_____, _____)\n",
        "\n",
        "plt.imshow(_____, cmap='gray', vmin=-255, vmax=255)\n",
        "plt.axis('off')"
      ],
      "execution_count": null,
      "outputs": []
    },
    {
      "cell_type": "markdown",
      "metadata": {
        "id": "l_8gMZHF7UDn"
      },
      "source": [
        "Czy twoje przewidywania zgadzają się z obrazem?"
      ]
    },
    {
      "cell_type": "markdown",
      "metadata": {
        "id": "2smH3stU7UDn"
      },
      "source": [
        "Zobaczmy teraz na jednym wykresie oryginalny obraz oraz oba sploty:"
      ]
    },
    {
      "cell_type": "code",
      "metadata": {
        "id": "t1J-bfGl7UDo"
      },
      "source": [
        "fig, ax = plt.subplots(ncols=3, figsize=(15, 5))\n",
        "\n",
        "images = [ascent, ascent_k1, ascent_k2]\n",
        "for a, img in zip(ax, images):\n",
        "    minval = max(img.min(), -255)\n",
        "    a.imshow(img, cmap='gray', vmin=minval, vmax=255)\n",
        "    a.axis('off')"
      ],
      "execution_count": null,
      "outputs": []
    },
    {
      "cell_type": "markdown",
      "metadata": {
        "id": "oThmAMcZ7UDo"
      },
      "source": [
        "W przypadku sieci neuronowych warstwy splotowe uczą się wag filtra - jeden \"neuron\" takiej warstwy stanowi w zasadzie jeden filtr (o pewnych wymiarach np. 3 x 3), ale jego \"aktywacja\" to cały wynik splotu (u nas obraz spleciony z filtrem). Neurony wczesnych warstw splotowych uczą się zwykle podstawowych kategorii percepcyjnych podobnie jak biologiczne neurony pierwszorzędowej kory wzrokowej: przede wszystkim linii o różnej orientacji.  \n",
        "Neurony kolejnych warstw splotowych mogą następnie kombinować (używając filtrów o odpowiednich wagach) aktywacje warstw poprzednich.  "
      ]
    },
    {
      "cell_type": "markdown",
      "metadata": {
        "id": "hnBWEbVF7UDp"
      },
      "source": [
        "## Blokus\n",
        "Blokus to niegdyś bardzo popularna logiczna gra planszowa dla 2 - 4 osób (na rynku dostępne są też warianty Duo, Trigon i 3d). Podobnie jak program AlphaZero uczy się gry w Go czy Szachy trenując kilka sieci neuronowych do oceny pozycji na planszy, czy generowania dobrych ruchów, my moglibyśmy wytrenować splotową sieć neuronową do znajdywania dobrych pozycji w grze Blokus. Nie będziemy oczywiście trenować takiej sieci, ale zobaczymy w jaki sposób splot może być pomocny w znajdywaniu ruchów w grze Blokus.  \n",
        "Zasady gry Blokus są proste: uzyskać jak najwięcej punktów wykładając turowo na planszę klocki. Wykładane klocki muszą co najmniej jednym rogiem stykać się z innymi klockami naszego koloru, ale nie mogą stykać się bokami z innymi klockami naszego koloru. Tak wygląda przykładowa partia gry Bokus na 4 osoby, zauważ, że wszystkie wyłożone klocki spełniają opisane zasady:  \n",
        "<img src=\"https://image.ceneostatic.pl/data/products/37898385/f293dac7-17db-49d8-8df1-15cefbc915ad_i-mattel-gra-blokus-bjv44.jpg\" width=\"350 pix\">  \n",
        "Aby sieć neuronowa nauczyła się generować poprawne ruchy w tej grze musiałaby w pierwszym kroku nauczyć się znajdywać puste pola sąsiadujące z rogami naszych figur. Weźmy na początek bardzo prostą sytuację - jeden klocek - i zobaczmy jak splot mógłby pomóc nam znaleźć pola stykające się z rogami tego klocka. Najpierw jednak stworzymy funkcję do wyświetlania planszy (nie musicie jej czytać ani rozumieć):"
      ]
    },
    {
      "cell_type": "code",
      "metadata": {
        "id": "n6Dxh4Ah7UDq"
      },
      "source": [
        "def plot_blokus(board):\n",
        "    board_rgb = np.zeros(board.shape + (3,), dtype='float')\n",
        "    \n",
        "    # wartości 1, 2, 3 i 4 tłumaczymy na następujące kolory:\n",
        "    # (niebieski, żółty, czerwony, zielony)\n",
        "    translate = {1: [0, 0, 1], 2: [1, 1, 0], 3: [1, 0, 0], 4: [0, 1, 0],\n",
        "                 0: [0.85, 0.85, 0.85]}\n",
        "    for val, transl in translate.items():\n",
        "        mask = board == val\n",
        "        color = np.array(transl)\n",
        "        for col_idx, col in enumerate(color):\n",
        "            board_rgb[:, :, col_idx][mask] = col\n",
        "        \n",
        "    plt.imshow(board_rgb)\n",
        "    plt.axis('off')"
      ],
      "execution_count": null,
      "outputs": []
    },
    {
      "cell_type": "markdown",
      "metadata": {
        "id": "r0YmBELX7UDq"
      },
      "source": [
        "Tworzymy teraz planszę - jeden klocek, zakodowany wartościami 1 i puste pola jako 0, a następnie ją wyświetlamy."
      ]
    },
    {
      "cell_type": "code",
      "metadata": {
        "id": "3_DtswE57UDr"
      },
      "source": [
        "board = np.array([[0, 0, 0, 0, 0],\n",
        "                  [0, 1, 1, 1, 0],\n",
        "                  [0, 0, 1, 0, 0],\n",
        "                  [0, 0, 1, 0, 0],\n",
        "                  [0, 0, 0, 0, 0]])\n",
        "\n",
        "# wyświetlamy planszę\n",
        "test = plot_blokus(board)"
      ],
      "execution_count": null,
      "outputs": []
    },
    {
      "cell_type": "markdown",
      "metadata": {
        "id": "x5ZQn4Hy7UDr"
      },
      "source": [
        "Funkcja `plot_blokus` wyświetla wartości 0 jako szare, 1 jako niebieskie, 2 - żółte, 3 - czerwone, 4 - zielone."
      ]
    },
    {
      "cell_type": "markdown",
      "metadata": {
        "id": "zbqNrNBy7UDr"
      },
      "source": [
        "Chcemy aby filtr, który skonstruujemy dawał dodatnie wartości dla pól stykających się rogiem z naszym klockiem, ale niepozytywne (np. ujemne) gdy będzie się stykał ze ścianką. Dodatkowo dane pole musi być puste.  \n",
        "Możemy te zasady zapisać liczbowo np. tak:  \n",
        "* zajęte pole sąsiadujące na ukos ma wartość `+1`\n",
        "* natomiast zajęte pole sąsiadujące bezpośrednio `-4`.  \n",
        "\n",
        "Wtedy nawet jeżeli dane pole ma 4 sąsiadów na ukos, ale co najmniej jednego bezpośrednio stycznego - wartość splotu wychodzi na zero (`1 * 4 - 4`).  \n",
        "Ujemną wagę `-4` damy też środkowemu polu filtra - jeżeli dane pole jest zajęte, to nie ma znaczenia, że styka się na ukos z polami zajętymi naszym klockiem. W związku z tym nasza definicja filtra będzie taka:"
      ]
    },
    {
      "cell_type": "code",
      "metadata": {
        "id": "ErQ1v5o37UDs"
      },
      "source": [
        "filtr_dobre_pola = np.array([[ 1, -4,  1],\n",
        "                             [-4, -4, -4],\n",
        "                             [ 1, -4,  1]])"
      ],
      "execution_count": null,
      "outputs": []
    },
    {
      "cell_type": "markdown",
      "metadata": {
        "id": "OThFz-J97UDs"
      },
      "source": [
        "Wyświetlmy sobie teraz ten filtr (korzystamy z mapy kolorystycznej, w której niskie wartości odpowiadają niebieskiemu, a wysokie - czerwonemu):"
      ]
    },
    {
      "cell_type": "code",
      "metadata": {
        "id": "ayMbz1GG7UDs"
      },
      "source": [
        "plt.imshow(____________, vmin=-4, vmax=4, cmap='RdBu_r')"
      ],
      "execution_count": null,
      "outputs": []
    },
    {
      "cell_type": "markdown",
      "metadata": {
        "id": "if99KqNh7UDs"
      },
      "source": [
        "Teraz wykonamy splot planszy z naszym filtrem za pomocą funkcji `correlate`. Użyjemy trybu `mode='same'` aby wynik splotu (mapa korelacyjna) miała ten sam rozmiar co plansza (normalnie tracimy przy splocie na wysokości i szerokości, ale w tym specjalnym trybie - nie)."
      ]
    },
    {
      "cell_type": "code",
      "metadata": {
        "id": "g22SMCTk7UDt"
      },
      "source": [
        "dobre_pola = correlate(_________, _________, mode='same')"
      ],
      "execution_count": null,
      "outputs": []
    },
    {
      "cell_type": "markdown",
      "metadata": {
        "id": "htG1Z7ay7UDt"
      },
      "source": [
        "Wyświetlimy sobie teraz wartości otrzymanej \"mapy korelacyjnej\". Skorzystamy z niskiej wartości dla `vmin` ponieważ filtr ma generalnie ujemne wagi i łatwiej w związku z tym otrzymać ujemną wartość. `vmax` ustawimy takie same jak `vmin` aby mapa kolorystyczna miała swój środek dla wartości 0, a więc dla mapy `RdBu_r`, aby wartości dodatnie były \"czerwonawe\", a ujemne - \"niebieskawe\"."
      ]
    },
    {
      "cell_type": "code",
      "metadata": {
        "id": "rtmfawF-7UDt"
      },
      "source": [
        "plt.imshow(_________, vmin=-12, vmax=12, cmap='RdBu_r')"
      ],
      "execution_count": null,
      "outputs": []
    },
    {
      "cell_type": "markdown",
      "metadata": {
        "id": "TE3fQq3z7UDu"
      },
      "source": [
        "Pamiętajmy jednak, że w sieciach neuronowych nie korzystamy tylko ze splotu - po splocie stosujemy na mapie korelacyjnej nieliniową aktywację. Najczęściej jest to `ReLU`, które zeruje wszystkie wartości poniżej zera. Możemy otrzymać zachowanie aktywacji `ReLU` używając funkcji `np.maximum`, porównując elementy mapy korelacyjnej do 0: jeżeli dany element jest wyższy od zera - zostanie zwrócony, jeżeli jest niższy - zostanie zwrócone zero:"
      ]
    },
    {
      "cell_type": "code",
      "metadata": {
        "id": "aIscXsOP7UDu"
      },
      "source": [
        "# stosujemy relu\n",
        "dobre_pola_po_relu = np.maximum(dobre_pola, 0)\n",
        "\n",
        "# wyświetlamy mapę po relu\n",
        "plt.imshow(_________, cmap='RdBu_r')"
      ],
      "execution_count": null,
      "outputs": []
    },
    {
      "cell_type": "markdown",
      "metadata": {
        "id": "Yq5MQupz7UDu"
      },
      "source": [
        "Teraz wyświetlimy na jednym wykresie klocek na niebiesko (wartość 1) oraz wszystkie znalezione rogi na zielono (wartość 4). Aby mieć pewność, że wszystkie zidentyfikowane dobre pola będą miały dokładnie wartość 4 użyjemy operacji `> 0` na mapie korelacyjnej zamiast relu. Wynikiem operacji `> 0` będzie macierz prawd i fałszy (\"czy większe od 0?\"), którą następnie pomnożymy przez 4. Fałsze działają wtedy jak 0, a prawdy jak 1, więc w konsekwencji w `board_new` będziemy mieli czwórki tylko tam, gdzie w mapie korelacyjnej były wartości wyższe od 0 (a więc prawdy po operacji `> 0`)."
      ]
    },
    {
      "cell_type": "code",
      "metadata": {
        "id": "EQZFB7hZ7UDv"
      },
      "source": [
        "board_new = board + (_________ > 0) * ___\n",
        "plot_blokus(board_new)"
      ],
      "execution_count": null,
      "outputs": []
    },
    {
      "cell_type": "markdown",
      "metadata": {
        "id": "yOVSJn9e7UDv"
      },
      "source": [
        "#### Blokus, ćwiczenie 01\n",
        "Jeżeli nie jest dla Ciebie jasne dlaczego taki filtr zadziałał, przelicz sobie na kartce kilka przykładowych pól - wybierz fragment 3 x 3 wokół danego pola i przemnóż wartości pól przez odpowiadające im wagi filtra, a następnie dodaj wyniki mnożenia. Sprawdź czy otrzymujesz taką samą wartość jak w danym polu w macierzy `dobre_pola`.\n",
        "\n",
        "#### Blokus, ćwiczenie 02\n",
        "Jeżeli wszystko jest jasne - stwórz filtr, który wykrywa pola sąsiadujące bezpośrednio ze ściankami klocka i wyświetl je na wykresie z klockiem na czerwono (`plot_blokus` wyświetla wartości 3 na czerwono). W ten sposób możemy wykrywać pola, na których nasz nowo wykładany klocek nie może się znaleźć."
      ]
    },
    {
      "cell_type": "code",
      "metadata": {
        "id": "98oiZ1TJ7UDv"
      },
      "source": [
        ""
      ],
      "execution_count": null,
      "outputs": []
    },
    {
      "cell_type": "code",
      "metadata": {
        "id": "1WGbPTOp7UDv"
      },
      "source": [
        ""
      ],
      "execution_count": null,
      "outputs": []
    },
    {
      "cell_type": "markdown",
      "metadata": {
        "id": "EdrsQYW17UDw"
      },
      "source": [
        "Przekonajmy się jeszcze, że oba filtry zadziałają na większej planszy. Konstruujemy planszę poniżej:"
      ]
    },
    {
      "cell_type": "code",
      "metadata": {
        "id": "6TeSL99x7UDw"
      },
      "source": [
        "board2 = np.array([\n",
        "    [0, 0, 0, 0, 0, 0, 0, 0],\n",
        "    [0, 0, 0, 0, 1, 1, 0, 0],\n",
        "    [0, 1, 1, 1, 0, 1, 1, 0],\n",
        "    [0, 0, 0, 1, 0, 0, 1, 0],\n",
        "    [0, 0, 0, 1, 0, 0, 0, 0],\n",
        "    [0, 0, 0, 0, 1, 1, 1, 0],\n",
        "    [0, 0, 0, 0, 0, 1, 0, 0],\n",
        "    [0, 0, 1, 0, 0, 1, 0, 0],\n",
        "    [0, 0, 1, 1, 1, 0, 0, 0],\n",
        "    [0, 0, 0, 0, 0, 0, 0, 0]])"
      ],
      "execution_count": null,
      "outputs": []
    },
    {
      "cell_type": "markdown",
      "metadata": {
        "id": "HkFXPcUY7UDw"
      },
      "source": [
        "I wyświetlamy:"
      ]
    },
    {
      "cell_type": "code",
      "metadata": {
        "id": "sBx7Jl3Y7UDw"
      },
      "source": [
        "plot_blokus(board2)"
      ],
      "execution_count": null,
      "outputs": []
    },
    {
      "cell_type": "markdown",
      "metadata": {
        "id": "EUdO3Sz47UDx"
      },
      "source": [
        "#### Blokus, ćwiczenie 03\n",
        "Stwórz teraz macierz `new_board2`, która będzie zawierać informacje o dobrych rogach (zielony kolor) i złych polach (czerwony). Macierz możesz stworzyć w kilku krokach (ale da się też to zrobić jedną linijką). "
      ]
    },
    {
      "cell_type": "code",
      "metadata": {
        "id": "lFL4wz9O7UDx"
      },
      "source": [
        "\n",
        "\n",
        "\n"
      ],
      "execution_count": null,
      "outputs": []
    },
    {
      "cell_type": "markdown",
      "metadata": {
        "id": "YgAk--c57UDx"
      },
      "source": [
        "Na koniec tego ćwiczenia wyświetl macierz `new_board2`:"
      ]
    },
    {
      "cell_type": "code",
      "metadata": {
        "id": "rihCcgjn7UDx"
      },
      "source": [
        "plot_blokus(new_board2)"
      ],
      "execution_count": null,
      "outputs": []
    },
    {
      "cell_type": "markdown",
      "metadata": {
        "id": "xGHAiVfL7UDx"
      },
      "source": [
        "### Arytmetyka wymiarów danych sieci splotowych\n",
        "Możesz przypomnieć sobie wideo o arytmetyce wymiarów splotu (do znalezienia na google classroom). Następnie sprawdź przykład poniżej i policz ręcznie jakie wymiary będzie miała mapa korelacyjna.  "
      ]
    },
    {
      "cell_type": "code",
      "metadata": {
        "id": "u3i8QX0s7UDy"
      },
      "source": [
        "data = np.random.random(size=(10, 10))\n",
        "filtr = np.random.random(size=(4, 3))\n",
        "\n",
        "print('Rozmiar danych wejściowych:', data.shape)\n",
        "print('Rozmiar filtra:', filtr.shape)\n",
        "print('Jakie wymiary będzie miał output splotu?')"
      ],
      "execution_count": null,
      "outputs": []
    },
    {
      "cell_type": "markdown",
      "metadata": {
        "id": "FFH3WbP17UDy"
      },
      "source": [
        "A teraz sprawdź czy liczba wymiarów otrzymanych danych zgadza się z tą policzoną przez Ciebie? Korzystamy z opcji `mode='valid'` aby splot był wykonywany tak jak domyślnie w sieciach neuronowych."
      ]
    },
    {
      "cell_type": "code",
      "metadata": {
        "id": "NNDvcn7J7UDy"
      },
      "source": [
        "wynik = correlate(______, ______, mode='valid')"
      ],
      "execution_count": null,
      "outputs": []
    },
    {
      "cell_type": "markdown",
      "metadata": {
        "id": "tU_XzOJ37UDy"
      },
      "source": [
        "Sprawdź rozmiar macierzy `wynik`"
      ]
    },
    {
      "cell_type": "markdown",
      "metadata": {
        "id": "GMIrWfZJ7UDz"
      },
      "source": [
        "## obrazy RGB"
      ]
    },
    {
      "cell_type": "markdown",
      "metadata": {
        "id": "B1LsD4u87UDz"
      },
      "source": [
        "W przypadku obrazów RGB sprawa jest bardziej skomplikowana - filtr (*kernel*) musi być trójwymiarowy, ponieważ obraz kolorowy jest trójwymiarowy - ma 3 warstwy głębokości - RGB. Nie będziemy robić własnoręcznie splotu w 3d (ale zasada jest ta sama co w przypadku 2d), zobaczymy sobie tylko strukturę obrazu RGB jako macierzy."
      ]
    },
    {
      "cell_type": "code",
      "metadata": {
        "id": "b-F75VNg7UDz"
      },
      "source": [
        "raccoon = scipy.misc.face()\n",
        "plt._____(_____)\n",
        "plt.axis('off')"
      ],
      "execution_count": null,
      "outputs": []
    },
    {
      "cell_type": "markdown",
      "metadata": {
        "id": "4iacNkdw7UDz"
      },
      "source": [
        "Sprawdź czy kształt macierzy faktycznie wskazuje na trzy wymiary:"
      ]
    },
    {
      "cell_type": "code",
      "metadata": {
        "id": "Oq6ezETO7UDz"
      },
      "source": [
        "raccoon._____"
      ],
      "execution_count": null,
      "outputs": []
    },
    {
      "cell_type": "markdown",
      "metadata": {
        "id": "_gCoizSL7UD0"
      },
      "source": [
        "Skorzystamy teraz z funkcji z naszego pakietu `emosie` aby zobaczyć oddzielnie warstwy R, G i B obrazu:"
      ]
    },
    {
      "cell_type": "code",
      "metadata": {
        "id": "OWaYyt2b7UD0"
      },
      "source": [
        "def show_rgb_layers(image, style='light', subplots_args=dict()):\n",
        "    '''\n",
        "    Show RGB layers of the image on separate axes.\n",
        "    '''\n",
        "    im_shape = image.shape\n",
        "    assert im_shape[-1] == 3\n",
        "    assert image.ndim == 3\n",
        "\n",
        "    if style == 'light':\n",
        "        cmaps = ['Reds', 'Greens', 'Blues']\n",
        "\n",
        "    fig, ax = plt.subplots(ncols=3, **subplots_args)\n",
        "    for layer in range(3):\n",
        "        if style == 'light':\n",
        "            ax[layer].imshow(image[..., layer], cmap=cmaps[layer])\n",
        "        else:\n",
        "            temp_img = np.zeros(im_shape[:2] + (3,))\n",
        "            temp_img[..., layer] = image[..., layer]\n",
        "            ax[layer].imshow(temp_img)\n",
        "        ax[layer].axis('off')\n",
        "\n",
        "    return fig\n",
        "\n",
        "\n",
        "show_rgb_layers(raccoon, subplots_args={'figsize': (15, 5)});"
      ],
      "execution_count": null,
      "outputs": []
    },
    {
      "cell_type": "markdown",
      "metadata": {
        "id": "tzyx2XXa7UD0"
      },
      "source": [
        "## Max pooling"
      ]
    },
    {
      "cell_type": "markdown",
      "metadata": {
        "id": "QAfpXyKT7UD0"
      },
      "source": [
        "Zobaczmy teraz co z naszym obrazem robi max pooling."
      ]
    },
    {
      "cell_type": "code",
      "metadata": {
        "id": "R5SfMg8v7UD0"
      },
      "source": [
        "from skimage.measure import block_reduce"
      ],
      "execution_count": null,
      "outputs": []
    },
    {
      "cell_type": "markdown",
      "metadata": {
        "id": "9OIpJ0wZ7UD1"
      },
      "source": [
        "Korzystamy z funkcji `block_reduce`, której podajemy po kolei: obraz, rozmiar redukowanego bloku oraz operację redukcji. Max-pooling to redukcja za pomocą funkcji maksimum (`np.max`). Zrobimy dwa rodzaje max-pooling'u: dla bloku `(2, 2)` oraz dla bloku `(4, 4)`."
      ]
    },
    {
      "cell_type": "code",
      "metadata": {
        "id": "OmqPGzst7UD1"
      },
      "source": [
        "# max-pooling 2 x 2\n",
        "ascent_k1_maxpool = block_reduce(ascent_k1, (2, 2), np.max)\n",
        "\n",
        "# max-pooling 4 x 4\n",
        "ascent_k1_maxpool2 = block_reduce(ascent_k1, (4, 4), np.max)"
      ],
      "execution_count": null,
      "outputs": []
    },
    {
      "cell_type": "markdown",
      "metadata": {
        "id": "vGn0PMfU7UD1"
      },
      "source": [
        "Teraz wyświetlimy sobie obok siebie wyniki max-pooling'u"
      ]
    },
    {
      "cell_type": "code",
      "metadata": {
        "id": "xs48hlSO7UD1"
      },
      "source": [
        "fig, ax = plt.subplots(ncols=3, figsize=(15, 5))\n",
        "\n",
        "images = [ascent_k1, ascent_k1_maxpool, ascent_k1_maxpool2]\n",
        "titles = ['original convolution', 'after 2 x 2 max pooling', 'after 4 x 4 max pooling']\n",
        "\n",
        "for a, img, ttl in zip(ax, images, titles):\n",
        "    a.imshow(img, cmap='gray', vmin=-730, vmax=730)\n",
        "    a.set_title(ttl, fontsize=12)\n",
        "    a.axis('off')"
      ],
      "execution_count": null,
      "outputs": []
    },
    {
      "cell_type": "markdown",
      "metadata": {
        "id": "OVoT37Ar7UD2"
      },
      "source": [
        "Przykład bardziej agresywnego max-pooling'u na obrazie pyszczka szopa, stosujemy max-pooling 12 na 12 (1 w trzecim wymiarze jest potrzebne bo obraz RGB ma trzy wymiary i trzeciego wymiaru nie chcemy redukować):"
      ]
    },
    {
      "cell_type": "code",
      "metadata": {
        "id": "6E_7wV7x7UD2"
      },
      "source": [
        "raccoon_maxpool = block_reduce(raccoon, (12, 12, 1), np.max)\n",
        "\n",
        "fig, ax = plt.subplots(ncols=2, figsize=(10, 5))\n",
        "ax[0].imshow(raccoon)\n",
        "ax[1].imshow(raccoon_maxpool)\n",
        "\n",
        "ax[0].axis('off')\n",
        "ax[1].axis('off')"
      ],
      "execution_count": null,
      "outputs": []
    },
    {
      "cell_type": "markdown",
      "metadata": {
        "id": "65679sSE7UD2"
      },
      "source": [
        "Widzimy, że max-pooling zachowuje informacje o strukturze obrazu, ale wybiera maksymalne wartości, co w przypadku zwykłego obrazu (a nie pobudzenia warstwy sieci splotowej) prowadzi do pikselacji i rozjaśnienia.  \n",
        "\n",
        "#### Max pooling, ćwiczenie\n",
        "Zamiast operacji max pooling, zrób na pyszczku szopa mean pooling (każdy blok redukowany za pomocą średniej, a nie maksimum). Dodatkowo, nich każdy blok ma wielkość 10 x 10 x 1 (a nie 12 x 12 x 1, jak powyżej). "
      ]
    },
    {
      "cell_type": "code",
      "metadata": {
        "id": "weQBwKhY7UD2"
      },
      "source": [
        ""
      ],
      "execution_count": null,
      "outputs": []
    }
  ]
}