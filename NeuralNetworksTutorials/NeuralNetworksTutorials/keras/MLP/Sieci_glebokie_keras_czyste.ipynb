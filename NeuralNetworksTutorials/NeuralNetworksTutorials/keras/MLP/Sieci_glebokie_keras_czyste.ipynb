{
  "nbformat": 4,
  "nbformat_minor": 0,
  "metadata": {
    "colab": {
      "name": "Sieci glebokie- keras -czyste.ipynb",
      "provenance": [],
      "collapsed_sections": [],
      "include_colab_link": true
    },
    "kernelspec": {
      "display_name": "Python 3 (Spyder)",
      "language": "python3",
      "name": "python3"
    },
    "language_info": {
      "codemirror_mode": {
        "name": "ipython",
        "version": 3
      },
      "file_extension": ".py",
      "mimetype": "text/x-python",
      "name": "python",
      "nbconvert_exporter": "python",
      "pygments_lexer": "ipython3",
      "version": "3.7.5"
    }
  },
  "cells": [
    {
      "cell_type": "markdown",
      "metadata": {
        "id": "view-in-github",
        "colab_type": "text"
      },
      "source": [
        "<a href=\"https://colab.research.google.com/github/skrzypczykt/MAchineLearningProjects/blob/main/NeuralNetworksTutorials/NeuralNetworksTutorials/keras/MLP/Sieci_glebokie_keras_czyste.ipynb\" target=\"_parent\"><img src=\"https://colab.research.google.com/assets/colab-badge.svg\" alt=\"Open In Colab\"/></a>"
      ]
    },
    {
      "cell_type": "code",
      "metadata": {
        "id": "q3KzJyjv3rnA"
      },
      "source": [
        "import numpy as np\n",
        "import matplotlib.pyplot as plt\n",
        "import keras"
      ],
      "execution_count": null,
      "outputs": []
    },
    {
      "cell_type": "markdown",
      "metadata": {
        "id": "2-uWutoB0n5j"
      },
      "source": [
        "## Dataset"
      ]
    },
    {
      "cell_type": "markdown",
      "metadata": {
        "id": "nVRPlP-O0n5k"
      },
      "source": [
        "Zastosujemy dane zespołu badawczego Zalando: *Fashion MNIST*."
      ]
    },
    {
      "cell_type": "code",
      "metadata": {
        "id": "PmxkHFpt31bM"
      },
      "source": [
        "mnist = keras.datasets.fashion_mnist\n",
        "(X_train, y_train), (X_test, y_test) = mnist.load_data()"
      ],
      "execution_count": null,
      "outputs": []
    },
    {
      "cell_type": "markdown",
      "metadata": {
        "id": "F4wczsYG0n5l"
      },
      "source": [
        "Zauważcie, że dane są już podzielone na dane testowe i treningowe. Jaki jest kształt danych treningowych i poprawnych etykiet?"
      ]
    },
    {
      "cell_type": "code",
      "metadata": {
        "id": "kEXz3QKA0n5l"
      },
      "source": [
        "X_train = np.array(X_train)"
      ],
      "execution_count": null,
      "outputs": []
    },
    {
      "cell_type": "code",
      "metadata": {
        "id": "TvKbdTl60n5l"
      },
      "source": [
        "X_train.shape"
      ],
      "execution_count": null,
      "outputs": []
    },
    {
      "cell_type": "markdown",
      "metadata": {
        "id": "qx7dmL5l0n5m"
      },
      "source": [
        "Wyświetlmy 10 pierwszy poprawnych etykiet."
      ]
    },
    {
      "cell_type": "code",
      "metadata": {
        "id": "A6VzPOiV0n5m"
      },
      "source": [
        "y_train.shape"
      ],
      "execution_count": null,
      "outputs": []
    },
    {
      "cell_type": "code",
      "metadata": {
        "id": "rkaGSAuv0n5m"
      },
      "source": [
        "y_train[:10]"
      ],
      "execution_count": null,
      "outputs": []
    },
    {
      "cell_type": "markdown",
      "metadata": {
        "id": "2BYL_UnR0n5n"
      },
      "source": [
        "Zobaczmy jak wygląda jeden przykładowy obraz:"
      ]
    },
    {
      "cell_type": "code",
      "metadata": {
        "id": "pX0Sii1A0n5n"
      },
      "source": [
        "%matplotlib inline"
      ],
      "execution_count": null,
      "outputs": []
    },
    {
      "cell_type": "code",
      "metadata": {
        "id": "j_JCz7h10n5n"
      },
      "source": [
        "train_idx = 29\n",
        "\n",
        "plt.imshow(X_train[train_idx], cmap='binary')\n",
        "plt.axis('off')"
      ],
      "execution_count": null,
      "outputs": []
    },
    {
      "cell_type": "markdown",
      "metadata": {
        "id": "GMaBINU20n5n"
      },
      "source": [
        "I jaka jest jego poprawna kategoria:"
      ]
    },
    {
      "cell_type": "code",
      "metadata": {
        "id": "Dgo7UrPy0n5o"
      },
      "source": [
        "y_train[train_idx]"
      ],
      "execution_count": null,
      "outputs": []
    },
    {
      "cell_type": "markdown",
      "metadata": {
        "id": "kBjOE6G00n5o"
      },
      "source": [
        "Za tym obrazem kryje faktycznie dwuwymiarowa macierz wartości liczbowych, zobaczmy w pierwsze 10 wierszy i kolumn:"
      ]
    },
    {
      "cell_type": "code",
      "metadata": {
        "id": "22BhyKTg0n5o"
      },
      "source": [
        "X_train[train_idx, :10, :10]"
      ],
      "execution_count": null,
      "outputs": []
    },
    {
      "cell_type": "markdown",
      "metadata": {
        "id": "JEP2ypOj0n5o"
      },
      "source": [
        "widzimy, że lewy \"bark\" kurtki widzimy zarówno w obrazie jaki i wycinku danych liczbowych."
      ]
    },
    {
      "cell_type": "code",
      "metadata": {
        "id": "ztSuGhwU0n5p"
      },
      "source": [
        "X_train.max()"
      ],
      "execution_count": null,
      "outputs": []
    },
    {
      "cell_type": "markdown",
      "metadata": {
        "id": "gRT9-UZy0n5r"
      },
      "source": [
        "Przekopiuj poniżej kod do wyświetlania pojedynczego obrazu i jego etykiety, wyświetl kilka obrazów i zastanów się co oznaczają etykiety:"
      ]
    },
    {
      "cell_type": "code",
      "metadata": {
        "id": "1cdJCZt70n5r"
      },
      "source": [
        ""
      ],
      "execution_count": null,
      "outputs": []
    },
    {
      "cell_type": "code",
      "metadata": {
        "id": "L9tqY-Zx0n5r"
      },
      "source": [
        ""
      ],
      "execution_count": null,
      "outputs": []
    },
    {
      "cell_type": "markdown",
      "metadata": {
        "id": "SbZzHxZ90n5r"
      },
      "source": [
        "A teraz wyświetlmy kilka obrazów. Najpierw wylosujmy indeksy obrazów. Chcemy wylosować wartości od 0 do długości `X_train` w kształcie macierzy 3 wiersze na 4 kolumny:"
      ]
    },
    {
      "cell_type": "code",
      "metadata": {
        "id": "couvY3vR0n5s"
      },
      "source": [
        "img_idx = np.random.randint(0, high=60000, size=(3, 4))"
      ],
      "execution_count": null,
      "outputs": []
    },
    {
      "cell_type": "code",
      "metadata": {
        "id": "QY220SJO0n5s"
      },
      "source": [
        "img_idx"
      ],
      "execution_count": null,
      "outputs": []
    },
    {
      "cell_type": "markdown",
      "metadata": {
        "id": "3cbrdH225_nH"
      },
      "source": [
        "## Skalowanie wartości\n",
        "Sieci, podobnie jak inne algorytmy z zakresu uczenia maszynowego najlepiej uczą się na przeskalowanych danych (np. wystandaryzowanych). W tym wypadku przeskalujemy dane dzieląc wszystkie wartości przez `255`. Robimy tak ponieważ najwyższa wartość dla obrazu to 255 - po podzieleniu przez 255 zakres wartości wynosić będzie `0 - 1`."
      ]
    },
    {
      "cell_type": "code",
      "metadata": {
        "id": "kRH19pWs6ZDn"
      },
      "source": [
        "X_train_scaled = X_train / 255\n",
        "X_test_scaled = X_test / 255"
      ],
      "execution_count": null,
      "outputs": []
    },
    {
      "cell_type": "markdown",
      "metadata": {
        "id": "yVUJ7Zj60n5v"
      },
      "source": [
        "Upewnijmy się, że wartości są przeskalowane:"
      ]
    },
    {
      "cell_type": "code",
      "metadata": {
        "id": "HzG1Vr_80n5v"
      },
      "source": [
        "print(X_train_scaled.min(), '-', X_train_scaled.max())\n",
        "print(X_test_scaled.min(), '-', X_test_scaled.max())"
      ],
      "execution_count": null,
      "outputs": []
    },
    {
      "cell_type": "markdown",
      "metadata": {
        "id": "t_NRR8Fn0n5v"
      },
      "source": [
        "jeżeli wartości mają inny zakres, przeskaluj je z powrotem do 0 - 1."
      ]
    },
    {
      "cell_type": "code",
      "metadata": {
        "id": "uMd93H1C0n5v"
      },
      "source": [
        "X_train_scaled[train_idx, :10, :10]"
      ],
      "execution_count": null,
      "outputs": []
    },
    {
      "cell_type": "markdown",
      "metadata": {
        "id": "tQcA7Umh0n5w"
      },
      "source": [
        "## Tworzymy pierwszą sieć\n",
        "Stwórzmy teraz prostą sieć, którą nauczymy rozpoznawac ciuchy.\n",
        "\n",
        "* Skorzystamy z jednej warstwy ukrytej z 64 neuronami\n",
        "* oraz warstwy wyjściowej z 10 neuronami\n",
        "  \n",
        "Dlaczego potrzebujemy 10 neuronów w warstwie wyjściowej?  \n",
        "  \n",
        "* Aktywacja neuronów ostatnie warstwy to `'softmax'` - aby przeskalować wszystkie 10 wartości do rozkładu prawdopodobieństwa.  \n",
        "* Jako pierwszą warstwę będziemy natomiast potrzebować `Flatten` - to warstwa, która rozwija wielowymiarowy obiek (np. zdjęcie) w wektor wartości. Zwykłe sieci neuronowe (w przeciwieństwie do sieci splotowych, które omówimy później) nie interesuje przestrzenna struktura zdjęcia - tzn. nie są przygotowane do przetwarzania np. informacji o sąsiedztwie pikseli. Do takich zwykłych sieci neuronowych podajemy wektor wartości, a nie dwu-wymiarowe zdjęcie. Warstwa `Flatten` zamienia zdjęcia w wektor aby sieć dostała poprawny input. Zamiana dwuwymiarowej macierzy (zdjęcia) w wektor jest podobna do prucia swetra - z dwuwymiarowej tkaniny otrzymujemy jedną nitkę."
      ]
    },
    {
      "cell_type": "code",
      "metadata": {
        "id": "B3d31jOP0n5w"
      },
      "source": [
        "from keras.layers import Flatten, Dense\n",
        "from keras.models import Sequential"
      ],
      "execution_count": null,
      "outputs": []
    },
    {
      "cell_type": "code",
      "metadata": {
        "id": "7mAyndG3kVlK"
      },
      "source": [
        "model = Sequential([Flatten(input_shape=(28, 28)), \n",
        "                    Dense(__, activation=______), \n",
        "                    Dense(__, activation=______)])"
      ],
      "execution_count": null,
      "outputs": []
    },
    {
      "cell_type": "code",
      "metadata": {
        "id": "eKWlnWFh0n5x"
      },
      "source": [
        "model.summary()"
      ],
      "execution_count": null,
      "outputs": []
    },
    {
      "cell_type": "markdown",
      "metadata": {
        "id": "f_Ggt9Xo0n5x"
      },
      "source": [
        "Tak jak wcześniej - po zdefiniowaniu modelu musimy go skompilować.\n",
        "Tym razem używamy funkcji kosztu `'sparse_categorical_crossentropy'`:\n",
        "\n",
        "* `categorical_crossentropy` to bardzo popularna funkcja kosztu w przypadku problemów klasyfikacji - używaliśmy jej już wcześniej. Porównuje ona  prawdopodobieństwa wygenerowane przez sieć dla każdej kategorii z poprawną kategorią.\n",
        "* `'sparse'` dodajmy do nazwy aby użyć specjalnej wersji funkcji `categorical_crossentropy` ponieważ `y_labels` zawiera w naszym wypadku wartości od `0` do `9`, a nie tzw. one-hot encoding (w one-hot encoding każda kategoria ma swoją kolumnę i gdy dany obraz przynależy do tej kategorii jej kolumna zawiera 1, a reszta kolumn zaiwera zera).\n",
        "\n",
        "Jako optymalizator wybierzemy `'adam'`, a jako metrykę ustawimy `'accuracy'` (ale argument `metrics` przyjmuje listę nazw metryk!)."
      ]
    },
    {
      "cell_type": "code",
      "metadata": {
        "id": "-GXiIboD0n5x"
      },
      "source": [
        "model.compile(optimizer='adam', metrics=['accuracy'],\n",
        "              loss='sparse_categorical_crossentropy')"
      ],
      "execution_count": null,
      "outputs": []
    },
    {
      "cell_type": "markdown",
      "metadata": {
        "id": "vtWD1zgb0n5x"
      },
      "source": [
        "Wytrenujmy teraz model. Dajmy mu 20 epok podczas treningu."
      ]
    },
    {
      "cell_type": "code",
      "metadata": {
        "id": "BLMdl9aP8nQ0"
      },
      "source": [
        "history = model.fit(______, ______, epochs=__)"
      ],
      "execution_count": null,
      "outputs": []
    },
    {
      "cell_type": "markdown",
      "metadata": {
        "id": "IYAgJ8wB0n5y"
      },
      "source": [
        "Powinniśmy mieć teraz poprawność na danych treningowych równą mniej więcej 90 - 92%. Zobaczmy wykres zmian poprawności wraz z uczeniem:"
      ]
    },
    {
      "cell_type": "code",
      "metadata": {
        "id": "S0NmrAXv0n5y"
      },
      "source": [
        "plt.plot(history.history['accuracy'])"
      ],
      "execution_count": null,
      "outputs": []
    },
    {
      "cell_type": "markdown",
      "metadata": {
        "id": "DLYYjXlq0n5y"
      },
      "source": [
        "Sprawdźmy też poprawność na danych testowych:"
      ]
    },
    {
      "cell_type": "code",
      "metadata": {
        "id": "WzlqsEzX9s5P"
      },
      "source": [
        "model.evaluate(X_test, y_test)"
      ],
      "execution_count": null,
      "outputs": []
    },
    {
      "cell_type": "markdown",
      "metadata": {
        "id": "TGtx4nQu0n5y"
      },
      "source": [
        "Poprawność powinna wynosić ok 88% - to całkiem nieźle, ale jest cały czas dużo miejsca na poprawę."
      ]
    },
    {
      "cell_type": "markdown",
      "metadata": {
        "id": "h4UvMa6g0n5z"
      },
      "source": [
        "## Eksploracja predykcji i błędów sieci\n",
        "Najpierw poprosimy nasz model o wygenerowanie predykcji dla wszystkich obrazów testowych:"
      ]
    },
    {
      "cell_type": "code",
      "metadata": {
        "id": "0ycBchWn0n5z"
      },
      "source": [
        "pred = model.predict(X_test)"
      ],
      "execution_count": null,
      "outputs": []
    },
    {
      "cell_type": "markdown",
      "metadata": {
        "id": "DdB2FKdl0n5z"
      },
      "source": [
        "Zobaczmy kształt:"
      ]
    },
    {
      "cell_type": "code",
      "metadata": {
        "id": "b9eJUsoC0n5z"
      },
      "source": [
        "pred.shape"
      ],
      "execution_count": null,
      "outputs": []
    },
    {
      "cell_type": "markdown",
      "metadata": {
        "id": "Vla2fyzd0n50"
      },
      "source": [
        "Wyświetlmy sobie predykcje dla pierwszego obrazu testowego:"
      ]
    },
    {
      "cell_type": "code",
      "metadata": {
        "id": "xpAXsoGw0n50"
      },
      "source": [
        "pred[0]"
      ],
      "execution_count": null,
      "outputs": []
    },
    {
      "cell_type": "markdown",
      "metadata": {
        "id": "nPyPhlbc0n50"
      },
      "source": [
        "Co reprezentują te wartości? Zastnaów się najpierw, a później narysuj je jako linię:"
      ]
    },
    {
      "cell_type": "code",
      "metadata": {
        "id": "uNwxVh9u0n50"
      },
      "source": [
        "plt.plot(pred[0])"
      ],
      "execution_count": null,
      "outputs": []
    },
    {
      "cell_type": "code",
      "metadata": {
        "id": "cL5NP64a0n50"
      },
      "source": [
        "plt.imshow(X_test[0], cmap='binary')"
      ],
      "execution_count": null,
      "outputs": []
    },
    {
      "cell_type": "markdown",
      "metadata": {
        "id": "KKr5D7Q10n51"
      },
      "source": [
        "### dodatkowe informacje - jak utworzyć własnoręcznie z predykcji coś podobnego do `y_test`"
      ]
    },
    {
      "cell_type": "code",
      "metadata": {
        "id": "Skv72kNh0n51"
      },
      "source": [
        "pred_cat = np.argmax(pred, axis=1)"
      ],
      "execution_count": null,
      "outputs": []
    },
    {
      "cell_type": "code",
      "metadata": {
        "id": "f_WS_8PH0n52"
      },
      "source": [
        "pred_iscorr = pred_cat == y_test"
      ],
      "execution_count": null,
      "outputs": []
    },
    {
      "cell_type": "code",
      "metadata": {
        "id": "imiX1wXn0n52"
      },
      "source": [
        "error_idx = np.where(pred_iscorr == False)[0]"
      ],
      "execution_count": null,
      "outputs": []
    },
    {
      "cell_type": "code",
      "metadata": {
        "id": "LOOgRwUy0n52"
      },
      "source": [
        "error_idx"
      ],
      "execution_count": null,
      "outputs": []
    },
    {
      "cell_type": "markdown",
      "metadata": {
        "id": "cJ04YlWr0n52"
      },
      "source": [
        "Sprawdź jak wygląda powyższy wykres dla kilku innych obrazów z danych treningowych."
      ]
    },
    {
      "cell_type": "markdown",
      "metadata": {
        "id": "UjVHEva00n52"
      },
      "source": [
        "### Ćwiczenie 01\n",
        "Utwórz i wytrenuj drugą sieć, `model2`, zawierającą `128` ukrytych neuronów. Trenuj przez 20 epok. Sprawdź jak wyższa liczba neuronów w sieci `model2` wpływa na zmianę poprawności na danych treningowych oraz testowych."
      ]
    },
    {
      "cell_type": "code",
      "metadata": {
        "id": "qMGTytlK0n53"
      },
      "source": [
        ""
      ],
      "execution_count": null,
      "outputs": []
    },
    {
      "cell_type": "code",
      "metadata": {
        "id": "fOYU0iGk0n53"
      },
      "source": [
        ""
      ],
      "execution_count": null,
      "outputs": []
    },
    {
      "cell_type": "markdown",
      "metadata": {
        "id": "DoGz_YvB0n53"
      },
      "source": [
        "### Ćwiczenie 02\n",
        "Utwórz kolejną sieć `model3`, zawierającą `64` neurony w pierwszej ukrytej warstwie oraz `16` w drugiej ukrytej warstwie.\n",
        "Wytrenuj sieć i porównaj jej poprawność na danych treningowych i testowych z poprzednimi sieciami."
      ]
    },
    {
      "cell_type": "code",
      "metadata": {
        "id": "lTiuN9El0n53"
      },
      "source": [
        ""
      ],
      "execution_count": null,
      "outputs": []
    },
    {
      "cell_type": "code",
      "metadata": {
        "id": "UaRqxvTB0n53"
      },
      "source": [
        ""
      ],
      "execution_count": null,
      "outputs": []
    },
    {
      "cell_type": "code",
      "metadata": {
        "id": "PGAyAlrk0n53"
      },
      "source": [
        ""
      ],
      "execution_count": null,
      "outputs": []
    },
    {
      "cell_type": "markdown",
      "metadata": {
        "id": "bvZ7dHYS0n54"
      },
      "source": [
        "### Ćwiczenie 03\n",
        "Znajdź i wyświetl kilka błędów (sytuacji w których predykcja sieci nie zgadza się z poprawną etykietą obrazu testowego).\n",
        "\n",
        "* najpierw zastanów się jaki jest kształt macierzy predykcji sieci i jak możesz przekształcić tę macierz w wektor przewidywanych przez sieć etykiet. (podpowiedź: przyda Ci się `np.argmax`)\n",
        "* następnie, po przekształceniu macierzy `pred` w przewidywane etykiety (nazwijmy ją `pred_labels`) porównaj `pred_labels` z poprawnymi etykietami aby dostać wektor typu boolean (prawd i fałszy)\n",
        "* wreszcie znajdź w tym wektorze adresy (indeksy) elementów fałszywych - to tym samym adresy (indeksy) obrazów źle rozpoznanych przez sieć.\n",
        "* wykorzystaj kod z wcześniejszej komórki do wyświetlania predykcji sieci obok obrazu aby wyświetlić przykłady, których sieć nie rozpoznała poprawnie"
      ]
    },
    {
      "cell_type": "code",
      "metadata": {
        "id": "Df7ZSGrj0n54"
      },
      "source": [
        "np.argmax([0.3, 0.6, 0.1])"
      ],
      "execution_count": null,
      "outputs": []
    },
    {
      "cell_type": "code",
      "metadata": {
        "id": "JoiHYTDz0n54"
      },
      "source": [
        "pred_label = np.argmax(_______, axis=1)"
      ],
      "execution_count": null,
      "outputs": []
    },
    {
      "cell_type": "code",
      "metadata": {
        "id": "SuO0Uos80n54"
      },
      "source": [
        "label_correct = _______ == _______"
      ],
      "execution_count": null,
      "outputs": []
    },
    {
      "cell_type": "code",
      "metadata": {
        "id": "bgTtSogk0n54"
      },
      "source": [
        "errors_idx = np.where(label_correct == _______)[0]"
      ],
      "execution_count": null,
      "outputs": []
    },
    {
      "cell_type": "code",
      "metadata": {
        "id": "To2vzQQN0n55"
      },
      "source": [
        "errors_idx"
      ],
      "execution_count": null,
      "outputs": []
    }
  ]
}