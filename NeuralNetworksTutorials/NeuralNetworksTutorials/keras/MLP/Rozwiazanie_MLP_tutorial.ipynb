{
  "nbformat": 4,
  "nbformat_minor": 0,
  "metadata": {
    "colab": {
      "name": "Rozwiazanie MLP tutorial.ipynb",
      "provenance": [],
      "collapsed_sections": [],
      "include_colab_link": true
    },
    "kernelspec": {
      "display_name": "Python 3 (Spyder)",
      "language": "python3",
      "name": "python3"
    },
    "language_info": {
      "codemirror_mode": {
        "name": "ipython",
        "version": 3
      },
      "file_extension": ".py",
      "mimetype": "text/x-python",
      "name": "python",
      "nbconvert_exporter": "python",
      "pygments_lexer": "ipython3",
      "version": "3.7.5"
    }
  },
  "cells": [
    {
      "cell_type": "markdown",
      "metadata": {
        "id": "view-in-github",
        "colab_type": "text"
      },
      "source": [
        "<a href=\"https://colab.research.google.com/github/skrzypczykt/MAchineLearningProjects/blob/main/NeuralNetworksTutorials/NeuralNetworksTutorials/keras/MLP/Rozwiazanie_MLP_tutorial.ipynb\" target=\"_parent\"><img src=\"https://colab.research.google.com/assets/colab-badge.svg\" alt=\"Open In Colab\"/></a>"
      ]
    },
    {
      "cell_type": "code",
      "metadata": {
        "id": "q3KzJyjv3rnA"
      },
      "source": [
        "import numpy as np\n",
        "import matplotlib.pyplot as plt\n",
        "import tensorflow.keras as keras"
      ],
      "execution_count": null,
      "outputs": []
    },
    {
      "cell_type": "markdown",
      "metadata": {
        "id": "hICMdbe0GWTv"
      },
      "source": [
        "## Dataset"
      ]
    },
    {
      "cell_type": "markdown",
      "metadata": {
        "id": "OgNxOPRDGWTw"
      },
      "source": [
        "Zastosujemy dane zespołu badawczego Zalando: *Fashion MNIST*."
      ]
    },
    {
      "cell_type": "code",
      "metadata": {
        "colab": {
          "base_uri": "https://localhost:8080/"
        },
        "id": "PmxkHFpt31bM",
        "outputId": "d367a469-3ae2-4cf2-a7a8-2388c73e355e"
      },
      "source": [
        "mnist = keras.datasets.fashion_mnist\n",
        "(X_train, y_train), (X_test, y_test) = mnist.load_data()"
      ],
      "execution_count": null,
      "outputs": [
        {
          "output_type": "stream",
          "text": [
            "Downloading data from https://storage.googleapis.com/tensorflow/tf-keras-datasets/train-labels-idx1-ubyte.gz\n",
            "32768/29515 [=================================] - 0s 0us/step\n",
            "Downloading data from https://storage.googleapis.com/tensorflow/tf-keras-datasets/train-images-idx3-ubyte.gz\n",
            "26427392/26421880 [==============================] - 0s 0us/step\n",
            "Downloading data from https://storage.googleapis.com/tensorflow/tf-keras-datasets/t10k-labels-idx1-ubyte.gz\n",
            "8192/5148 [===============================================] - 0s 0us/step\n",
            "Downloading data from https://storage.googleapis.com/tensorflow/tf-keras-datasets/t10k-images-idx3-ubyte.gz\n",
            "4423680/4422102 [==============================] - 0s 0us/step\n"
          ],
          "name": "stdout"
        }
      ]
    },
    {
      "cell_type": "markdown",
      "metadata": {
        "id": "W0dlb7CUGWTx"
      },
      "source": [
        "Zauważcie, że dane są już podzielone na dane testowe i treningowe. Jaki jest kształt danych treningowych i poprawnych etykiet?"
      ]
    },
    {
      "cell_type": "code",
      "metadata": {
        "id": "nCS2erzEGWTx"
      },
      "source": [
        "X_train = np.array(X_train)"
      ],
      "execution_count": null,
      "outputs": []
    },
    {
      "cell_type": "code",
      "metadata": {
        "colab": {
          "base_uri": "https://localhost:8080/"
        },
        "id": "P1J2GgDYGWTx",
        "outputId": "ee4ea7be-50fb-4667-ac85-2d4fb2436664"
      },
      "source": [
        "X_train.shape"
      ],
      "execution_count": null,
      "outputs": [
        {
          "output_type": "execute_result",
          "data": {
            "text/plain": [
              "(60000, 28, 28)"
            ]
          },
          "metadata": {
            "tags": []
          },
          "execution_count": 8
        }
      ]
    },
    {
      "cell_type": "markdown",
      "metadata": {
        "id": "wYwox9RdGWTy"
      },
      "source": [
        "Wyświetlmy 10 pierwszy poprawnych etykiet."
      ]
    },
    {
      "cell_type": "code",
      "metadata": {
        "colab": {
          "base_uri": "https://localhost:8080/"
        },
        "id": "XPeYfPKbGWTy",
        "outputId": "c0b988f3-6a9a-4ca3-c8fd-c959659f9a76"
      },
      "source": [
        "y_train.shape"
      ],
      "execution_count": null,
      "outputs": [
        {
          "output_type": "execute_result",
          "data": {
            "text/plain": [
              "(60000,)"
            ]
          },
          "metadata": {
            "tags": []
          },
          "execution_count": 9
        }
      ]
    },
    {
      "cell_type": "code",
      "metadata": {
        "colab": {
          "base_uri": "https://localhost:8080/"
        },
        "id": "B8WZ7Af7GWTy",
        "outputId": "84e26cca-8cdf-4f77-c3fe-9abf38f1694a"
      },
      "source": [
        "y_train[:10]"
      ],
      "execution_count": null,
      "outputs": [
        {
          "output_type": "execute_result",
          "data": {
            "text/plain": [
              "array([9, 0, 0, 3, 0, 2, 7, 2, 5, 5], dtype=uint8)"
            ]
          },
          "metadata": {
            "tags": []
          },
          "execution_count": 10
        }
      ]
    },
    {
      "cell_type": "markdown",
      "metadata": {
        "id": "oV97A0qNGWTy"
      },
      "source": [
        "Zobaczmy jak wygląda jeden przykładowy obraz:"
      ]
    },
    {
      "cell_type": "code",
      "metadata": {
        "id": "lmxurxKOGWTz"
      },
      "source": [
        "%matplotlib inline"
      ],
      "execution_count": null,
      "outputs": []
    },
    {
      "cell_type": "code",
      "metadata": {
        "colab": {
          "base_uri": "https://localhost:8080/",
          "height": 265
        },
        "id": "kFizuKUrGWTz",
        "outputId": "40396623-9008-4ec7-deb1-1d88f414a584"
      },
      "source": [
        "train_idx = 29\n",
        "\n",
        "plt.imshow(X_train[train_idx], cmap='binary')\n",
        "plt.axis('off')"
      ],
      "execution_count": null,
      "outputs": [
        {
          "output_type": "execute_result",
          "data": {
            "text/plain": [
              "(-0.5, 27.5, 27.5, -0.5)"
            ]
          },
          "metadata": {
            "tags": []
          },
          "execution_count": 12
        },
        {
          "output_type": "display_data",
          "data": {
            "image/png": "[encoded data removed]",
            "text/plain": [
              "<Figure size 432x288 with 1 Axes>"
            ]
          },
          "metadata": {
            "tags": [],
            "needs_background": "light"
          }
        }
      ]
    },
    {
      "cell_type": "markdown",
      "metadata": {
        "id": "Nadu6MKfGWTz"
      },
      "source": [
        "I jaka jest jego poprawna kategoria:"
      ]
    },
    {
      "cell_type": "code",
      "metadata": {
        "colab": {
          "base_uri": "https://localhost:8080/"
        },
        "id": "rphVAVLOGWTz",
        "outputId": "4b855516-fea1-484d-bb03-5d738dd1eb4c"
      },
      "source": [
        "y_train[train_idx]"
      ],
      "execution_count": null,
      "outputs": [
        {
          "output_type": "execute_result",
          "data": {
            "text/plain": [
              "4"
            ]
          },
          "metadata": {
            "tags": []
          },
          "execution_count": 13
        }
      ]
    },
    {
      "cell_type": "markdown",
      "metadata": {
        "id": "_6Hhk-IIGWTz"
      },
      "source": [
        "Za tym obrazem kryje faktycznie dwuwymiarowa macierz wartości liczbowych, zobaczmy w pierwsze 10 wierszy i kolumn:"
      ]
    },
    {
      "cell_type": "code",
      "metadata": {
        "colab": {
          "base_uri": "https://localhost:8080/"
        },
        "id": "I-CdTlhgGWT0",
        "outputId": "f6db61b8-0704-4e90-c3d4-a420ae9da35e"
      },
      "source": [
        "X_train[train_idx, :10, :10]"
      ],
      "execution_count": null,
      "outputs": [
        {
          "output_type": "execute_result",
          "data": {
            "text/plain": [
              "array([[  0,   0,   0,   0,   0,   0,   0,   0,   0,   0],\n",
              "       [  0,   0,   0,   0,   0,   0,   0,   0,   0,   0],\n",
              "       [  0,   0,   0,   0,   1,   0,   0,   6,   0,   0],\n",
              "       [  0,   0,   0,   0,   0,   2,   0,   0,   0, 158],\n",
              "       [  0,   0,   0,   0,   1,   0,   0,  90, 182, 192],\n",
              "       [  0,   0,   0,   0,   0,   0, 153, 195, 178, 165],\n",
              "       [  0,   0,   0,   0,   0, 147, 205,  82, 112, 190],\n",
              "       [  0,   0,   0,   0,   1, 185, 177,  49, 126, 195],\n",
              "       [  0,   0,   0,   0,  57, 205, 168, 177, 198, 195],\n",
              "       [  0,   0,   0,   0,  89, 214, 168, 219, 213, 205]], dtype=uint8)"
            ]
          },
          "metadata": {
            "tags": []
          },
          "execution_count": 14
        }
      ]
    },
    {
      "cell_type": "markdown",
      "metadata": {
        "id": "JZXOgipZGWT0"
      },
      "source": [
        "widzimy, że lewy \"bark\" kurtki widzimy zarówno w obrazie jaki i wycinku danych liczbowych."
      ]
    },
    {
      "cell_type": "code",
      "metadata": {
        "colab": {
          "base_uri": "https://localhost:8080/"
        },
        "id": "kkMN7mAqGWT0",
        "outputId": "468264d0-021a-4786-9370-2bdb3be20ebe"
      },
      "source": [
        "X_train.max()"
      ],
      "execution_count": null,
      "outputs": [
        {
          "output_type": "execute_result",
          "data": {
            "text/plain": [
              "255"
            ]
          },
          "metadata": {
            "tags": []
          },
          "execution_count": 15
        }
      ]
    },
    {
      "cell_type": "markdown",
      "metadata": {
        "id": "tyXMz-v5GWT0"
      },
      "source": [
        "Przekopiuj poniżej kod do wyświetlania pojedynczego obrazu i jego etykiety, wyświetl kilka obrazów i zastanów się co oznaczają etykiety:"
      ]
    },
    {
      "cell_type": "code",
      "metadata": {
        "id": "Sfv2Rg4dGWT0"
      },
      "source": [
        ""
      ],
      "execution_count": null,
      "outputs": []
    },
    {
      "cell_type": "code",
      "metadata": {
        "id": "KYdVSK_nGWT1"
      },
      "source": [
        ""
      ],
      "execution_count": null,
      "outputs": []
    },
    {
      "cell_type": "markdown",
      "metadata": {
        "id": "nkkormibGWT1"
      },
      "source": [
        "A teraz wyświetlmy kilka obrazów. Najpierw wylosujmy indeksy obrazów. Chcemy wylosować wartości od 0 do długości `X_train` w kształcie macierzy 3 wiersze na 4 kolumny:"
      ]
    },
    {
      "cell_type": "code",
      "metadata": {
        "id": "zpJFlB2qGWT1"
      },
      "source": [
        "img_idx = np.random.randint(0, high=60000, size=(3, 4))"
      ],
      "execution_count": null,
      "outputs": []
    },
    {
      "cell_type": "code",
      "metadata": {
        "colab": {
          "base_uri": "https://localhost:8080/"
        },
        "id": "PBskuU27GWT1",
        "outputId": "1709d5fb-37b8-4682-fbe9-5a458c8f1851"
      },
      "source": [
        "img_idx"
      ],
      "execution_count": null,
      "outputs": [
        {
          "output_type": "execute_result",
          "data": {
            "text/plain": [
              "array([[39481, 34050, 39840, 24206],\n",
              "       [34093, 38262, 24868, 29490],\n",
              "       [41235,  7579, 31283, 26610]])"
            ]
          },
          "metadata": {
            "tags": []
          },
          "execution_count": 17
        }
      ]
    },
    {
      "cell_type": "code",
      "metadata": {
        "id": "FBq23k6YG8g_"
      },
      "source": [
        ""
      ],
      "execution_count": null,
      "outputs": []
    },
    {
      "cell_type": "markdown",
      "metadata": {
        "id": "8tdmj-kqGWT1"
      },
      "source": [
        "Korzystamy teraz z wylosowanych indeksów aby wyświetlić obrazy. Ten kod jest trudniejszy, więc nie musicie nic uzupełniać, ale warto spróbować przeczytać go ze zrozumieniem."
      ]
    },
    {
      "cell_type": "markdown",
      "metadata": {
        "id": "UGz-f2FpcE1S"
      },
      "source": [
        "plot_images(X_train, y=y_train);"
      ]
    },
    {
      "cell_type": "markdown",
      "metadata": {
        "id": "MzAU3r4qGWT3"
      },
      "source": [
        "Zamiast zastanawiać się nad znaczeniem tych wartości liczbowych możemy pobrać przez `emosie` tekstowe opisy liczbowych etykiet:"
      ]
    },
    {
      "cell_type": "code",
      "metadata": {
        "id": "aGJAPXfhGWT3"
      },
      "source": [
        "from emosie import get_fashion_labels\n",
        "\n",
        "labels = get_fashion_labels()"
      ],
      "execution_count": null,
      "outputs": []
    },
    {
      "cell_type": "code",
      "metadata": {
        "id": "qy81-jTbGWT3"
      },
      "source": [
        "labels"
      ],
      "execution_count": null,
      "outputs": []
    },
    {
      "cell_type": "markdown",
      "metadata": {
        "id": "OZ2pSYjbGWT3"
      },
      "source": [
        "Wykorzystamy nazwy kategorii w funkcji `plot_images` (podając samą kolumnę `description`):"
      ]
    },
    {
      "cell_type": "code",
      "metadata": {
        "id": "pA9hmeKZGWT3"
      },
      "source": [
        "plot_images(X_train, y=y_train, label_names=labels.description);"
      ],
      "execution_count": null,
      "outputs": []
    },
    {
      "cell_type": "markdown",
      "metadata": {
        "id": "3cbrdH225_nH"
      },
      "source": [
        "## Skalowanie wartości\n",
        "Sieci, podobnie jak inne algorytmy z zakresu uczenia maszynowego najlepiej uczą się na przeskalowanych danych (np. wystandaryzowanych). W tym wypadku przeskalujemy dane dzieląc wszystkie wartości przez `255`. Robimy tak ponieważ najwyższa wartość dla obrazu to 255 - po podzieleniu przez 255 zakres wartości wynosić będzie `0 - 1`."
      ]
    },
    {
      "cell_type": "code",
      "metadata": {
        "id": "kRH19pWs6ZDn"
      },
      "source": [
        "X_train_scaled = X_train / 255\n",
        "X_test_scaled = X_test / 255"
      ],
      "execution_count": null,
      "outputs": []
    },
    {
      "cell_type": "markdown",
      "metadata": {
        "id": "mGx5bMXpGWT4"
      },
      "source": [
        "Upewnijmy się, że wartości są przeskalowane:"
      ]
    },
    {
      "cell_type": "code",
      "metadata": {
        "colab": {
          "base_uri": "https://localhost:8080/"
        },
        "id": "05JSQdr7GWT4",
        "outputId": "79116585-8ef2-4116-aceb-3b9dcb8fa365"
      },
      "source": [
        "print(X_train_scaled.min(), '-', X_train_scaled.max())\n",
        "print(X_test_scaled.min(), '-', X_test_scaled.max())"
      ],
      "execution_count": null,
      "outputs": [
        {
          "output_type": "stream",
          "text": [
            "0.0 - 1.0\n",
            "0.0 - 1.0\n"
          ],
          "name": "stdout"
        }
      ]
    },
    {
      "cell_type": "markdown",
      "metadata": {
        "id": "F9z8R6_8GWT4"
      },
      "source": [
        "jeżeli wartości mają inny zakres, przeskaluj je z powrotem do 0 - 1."
      ]
    },
    {
      "cell_type": "code",
      "metadata": {
        "colab": {
          "base_uri": "https://localhost:8080/"
        },
        "id": "HBQrPzDNGWT5",
        "outputId": "ee610bd5-cf2e-4a8b-e1cf-5166d8a43c88"
      },
      "source": [
        "X_train_scaled[train_idx, :10, :10]"
      ],
      "execution_count": null,
      "outputs": [
        {
          "output_type": "execute_result",
          "data": {
            "text/plain": [
              "array([[0.        , 0.        , 0.        , 0.        , 0.        ,\n",
              "        0.        , 0.        , 0.        , 0.        , 0.        ],\n",
              "       [0.        , 0.        , 0.        , 0.        , 0.        ,\n",
              "        0.        , 0.        , 0.        , 0.        , 0.        ],\n",
              "       [0.        , 0.        , 0.        , 0.        , 0.00392157,\n",
              "        0.        , 0.        , 0.02352941, 0.        , 0.        ],\n",
              "       [0.        , 0.        , 0.        , 0.        , 0.        ,\n",
              "        0.00784314, 0.        , 0.        , 0.        , 0.61960784],\n",
              "       [0.        , 0.        , 0.        , 0.        , 0.00392157,\n",
              "        0.        , 0.        , 0.35294118, 0.71372549, 0.75294118],\n",
              "       [0.        , 0.        , 0.        , 0.        , 0.        ,\n",
              "        0.        , 0.6       , 0.76470588, 0.69803922, 0.64705882],\n",
              "       [0.        , 0.        , 0.        , 0.        , 0.        ,\n",
              "        0.57647059, 0.80392157, 0.32156863, 0.43921569, 0.74509804],\n",
              "       [0.        , 0.        , 0.        , 0.        , 0.00392157,\n",
              "        0.7254902 , 0.69411765, 0.19215686, 0.49411765, 0.76470588],\n",
              "       [0.        , 0.        , 0.        , 0.        , 0.22352941,\n",
              "        0.80392157, 0.65882353, 0.69411765, 0.77647059, 0.76470588],\n",
              "       [0.        , 0.        , 0.        , 0.        , 0.34901961,\n",
              "        0.83921569, 0.65882353, 0.85882353, 0.83529412, 0.80392157]])"
            ]
          },
          "metadata": {
            "tags": []
          },
          "execution_count": 24
        }
      ]
    },
    {
      "cell_type": "markdown",
      "metadata": {
        "id": "LG0MKSqOGWT5"
      },
      "source": [
        "## Tworzymy pierwszą sieć\n",
        "Stwórzmy teraz prostą sieć, którą nauczymy rozpoznawac ciuchy.\n",
        "\n",
        "* Skorzystamy z jednej warstwy ukrytej z 64 neuronami\n",
        "* oraz warstwy wyjściowej z 10 neuronami\n",
        "  \n",
        "Dlaczego potrzebujemy 10 neuronów w warstwie wyjściowej?  \n",
        "  \n",
        "* Aktywacja neuronów ostatnie warstwy to `'softmax'` - aby przeskalować wszystkie 10 wartości do rozkładu prawdopodobieństwa.  \n",
        "* Jako pierwszą warstwę będziemy natomiast potrzebować `Flatten` - to warstwa, która rozwija wielowymiarowy obiek (np. zdjęcie) w wektor wartości. Zwykłe sieci neuronowe (w przeciwieństwie do sieci splotowych, które omówimy później) nie interesuje przestrzenna struktura zdjęcia - tzn. nie są przygotowane do przetwarzania np. informacji o sąsiedztwie pikseli. Do takich zwykłych sieci neuronowych podajemy wektor wartości, a nie dwu-wymiarowe zdjęcie. Warstwa `Flatten` zamienia zdjęcia w wektor aby sieć dostała poprawny input. Zamiana dwuwymiarowej macierzy (zdjęcia) w wektor jest podobna do prucia swetra - z dwuwymiarowej tkaniny otrzymujemy jedną nitkę."
      ]
    },
    {
      "cell_type": "code",
      "metadata": {
        "id": "2Zh8-SZLGWT6"
      },
      "source": [
        "from keras.layers import Flatten, Dense\n",
        "from keras.models import Sequential"
      ],
      "execution_count": null,
      "outputs": []
    },
    {
      "cell_type": "code",
      "metadata": {
        "id": "7mAyndG3kVlK"
      },
      "source": [
        "model = Sequential([Flatten(input_shape=(28, 28)), \n",
        "                    Dense(64, activation='relu'), \n",
        "                    Dense(10, activation='softmax')])"
      ],
      "execution_count": null,
      "outputs": []
    },
    {
      "cell_type": "code",
      "metadata": {
        "colab": {
          "base_uri": "https://localhost:8080/"
        },
        "id": "cMZTPDQ9GWT6",
        "outputId": "0a6ae26b-341d-46b1-ca0d-c35f8abfe09d"
      },
      "source": [
        "model.summary()"
      ],
      "execution_count": null,
      "outputs": [
        {
          "output_type": "stream",
          "text": [
            "Model: \"sequential\"\n",
            "_________________________________________________________________\n",
            "Layer (type)                 Output Shape              Param #   \n",
            "=================================================================\n",
            "flatten (Flatten)            (None, 784)               0         \n",
            "_________________________________________________________________\n",
            "dense (Dense)                (None, 64)                50240     \n",
            "_________________________________________________________________\n",
            "dense_1 (Dense)              (None, 10)                650       \n",
            "=================================================================\n",
            "Total params: 50,890\n",
            "Trainable params: 50,890\n",
            "Non-trainable params: 0\n",
            "_________________________________________________________________\n"
          ],
          "name": "stdout"
        }
      ]
    },
    {
      "cell_type": "markdown",
      "metadata": {
        "id": "va9GIH4wGWT7"
      },
      "source": [
        "Tak jak wcześniej - po zdefiniowaniu modelu musimy go skompilować.\n",
        "Tym razem używamy funkcji kosztu `'sparse_categorical_crossentropy'`:\n",
        "\n",
        "* `categorical_crossentropy` to bardzo popularna funkcja kosztu w przypadku problemów klasyfikacji - używaliśmy jej już wcześniej. Porównuje ona  prawdopodobieństwa wygenerowane przez sieć dla każdej kategorii z poprawną kategorią.\n",
        "* `'sparse'` dodajmy do nazwy aby użyć specjalnej wersji funkcji `categorical_crossentropy` ponieważ `y_labels` zawiera w naszym wypadku wartości od `0` do `9`, a nie tzw. one-hot encoding (w one-hot encoding każda kategoria ma swoją kolumnę i gdy dany obraz przynależy do tej kategorii jej kolumna zawiera 1, a reszta kolumn zaiwera zera).\n",
        "\n",
        "Jako optymalizator wybierzemy `'adam'`, a jako metrykę ustawimy `'accuracy'` (ale argument `metrics` przyjmuje listę nazw metryk!)."
      ]
    },
    {
      "cell_type": "code",
      "metadata": {
        "id": "xowOga5GGWT7"
      },
      "source": [
        "model.compile(optimizer='adam', metrics=['accuracy'],\n",
        "              loss='sparse_categorical_crossentropy')"
      ],
      "execution_count": null,
      "outputs": []
    },
    {
      "cell_type": "markdown",
      "metadata": {
        "id": "N7YDk29xGWT7"
      },
      "source": [
        "Wytrenujmy teraz model. Dajmy mu 20 epok podczas treningu."
      ]
    },
    {
      "cell_type": "code",
      "metadata": {
        "colab": {
          "base_uri": "https://localhost:8080/"
        },
        "id": "BLMdl9aP8nQ0",
        "outputId": "a7ef2384-f309-4685-83e7-d45c57cdce5e"
      },
      "source": [
        "history = model.fit(X_train_scaled, y_train, epochs=20)"
      ],
      "execution_count": null,
      "outputs": [
        {
          "output_type": "stream",
          "text": [
            "Epoch 1/20\n",
            "1875/1875 [==============================] - 16s 2ms/step - loss: 0.6462 - accuracy: 0.7829\n",
            "Epoch 2/20\n",
            "1875/1875 [==============================] - 3s 2ms/step - loss: 0.3993 - accuracy: 0.8587\n",
            "Epoch 3/20\n",
            "1875/1875 [==============================] - 3s 2ms/step - loss: 0.3582 - accuracy: 0.8709\n",
            "Epoch 4/20\n",
            "1875/1875 [==============================] - 3s 2ms/step - loss: 0.3310 - accuracy: 0.8788\n",
            "Epoch 5/20\n",
            "1875/1875 [==============================] - 3s 2ms/step - loss: 0.3045 - accuracy: 0.8877\n",
            "Epoch 6/20\n",
            "1875/1875 [==============================] - 3s 2ms/step - loss: 0.2989 - accuracy: 0.8902\n",
            "Epoch 7/20\n",
            "1875/1875 [==============================] - 3s 2ms/step - loss: 0.2841 - accuracy: 0.8939\n",
            "Epoch 8/20\n",
            "1875/1875 [==============================] - 3s 2ms/step - loss: 0.2725 - accuracy: 0.8995\n",
            "Epoch 9/20\n",
            "1875/1875 [==============================] - 3s 2ms/step - loss: 0.2591 - accuracy: 0.9037\n",
            "Epoch 10/20\n",
            "1875/1875 [==============================] - 3s 2ms/step - loss: 0.2532 - accuracy: 0.9063\n",
            "Epoch 11/20\n",
            "1875/1875 [==============================] - 3s 2ms/step - loss: 0.2483 - accuracy: 0.9073\n",
            "Epoch 12/20\n",
            "1875/1875 [==============================] - 3s 2ms/step - loss: 0.2409 - accuracy: 0.9103\n",
            "Epoch 13/20\n",
            "1875/1875 [==============================] - 3s 2ms/step - loss: 0.2364 - accuracy: 0.9129\n",
            "Epoch 14/20\n",
            "1875/1875 [==============================] - 3s 2ms/step - loss: 0.2318 - accuracy: 0.9146\n",
            "Epoch 15/20\n",
            "1875/1875 [==============================] - 3s 2ms/step - loss: 0.2254 - accuracy: 0.9165\n",
            "Epoch 16/20\n",
            "1875/1875 [==============================] - 3s 2ms/step - loss: 0.2208 - accuracy: 0.9173\n",
            "Epoch 17/20\n",
            "1875/1875 [==============================] - 3s 2ms/step - loss: 0.2120 - accuracy: 0.9211\n",
            "Epoch 18/20\n",
            "1875/1875 [==============================] - 3s 2ms/step - loss: 0.2106 - accuracy: 0.9216\n",
            "Epoch 19/20\n",
            "1875/1875 [==============================] - 3s 2ms/step - loss: 0.2082 - accuracy: 0.9216\n",
            "Epoch 20/20\n",
            "1875/1875 [==============================] - 3s 2ms/step - loss: 0.1963 - accuracy: 0.9280\n"
          ],
          "name": "stdout"
        }
      ]
    },
    {
      "cell_type": "markdown",
      "metadata": {
        "id": "OiAGoQq4GWT8"
      },
      "source": [
        "Powinniśmy mieć teraz poprawność na danych treningowych równą mniej więcej 90 - 92%. Zobaczmy wykres zmian poprawności wraz z uczeniem:"
      ]
    },
    {
      "cell_type": "code",
      "metadata": {
        "colab": {
          "base_uri": "https://localhost:8080/",
          "height": 282
        },
        "id": "YBYMWQGaGWT8",
        "outputId": "758fdb13-c481-4d36-9edf-c17bccadb07b"
      },
      "source": [
        "plt.plot(history.history['accuracy'])"
      ],
      "execution_count": null,
      "outputs": [
        {
          "output_type": "execute_result",
          "data": {
            "text/plain": [
              "[<matplotlib.lines.Line2D at 0x7f80ccccf990>]"
            ]
          },
          "metadata": {
            "tags": []
          },
          "execution_count": 30
        },
        {
          "output_type": "display_data",
          "data": {
            "image/png": "[encoded data removed]",
            "text/plain": [
              "<Figure size 432x288 with 1 Axes>"
            ]
          },
          "metadata": {
            "tags": [],
            "needs_background": "light"
          }
        }
      ]
    },
    {
      "cell_type": "markdown",
      "metadata": {
        "id": "gdKaxYdXGWT8"
      },
      "source": [
        "Sprawdźmy też poprawność na danych testowych:"
      ]
    },
    {
      "cell_type": "code",
      "metadata": {
        "colab": {
          "base_uri": "https://localhost:8080/"
        },
        "id": "WzlqsEzX9s5P",
        "outputId": "6d15ab5c-6fc0-40c0-994a-7ff13b1e4762"
      },
      "source": [
        "model.evaluate(X_test, y_test)"
      ],
      "execution_count": null,
      "outputs": [
        {
          "output_type": "stream",
          "text": [
            "313/313 [==============================] - 1s 1ms/step - loss: 76.5853 - accuracy: 0.8498\n"
          ],
          "name": "stdout"
        },
        {
          "output_type": "execute_result",
          "data": {
            "text/plain": [
              "[76.58525085449219, 0.8497999906539917]"
            ]
          },
          "metadata": {
            "tags": []
          },
          "execution_count": 31
        }
      ]
    },
    {
      "cell_type": "markdown",
      "metadata": {
        "id": "6fdjK7NbGWT9"
      },
      "source": [
        "Poprawność powinna wynosić ok 88% - to całkiem nieźle, ale jest cały czas dużo miejsca na poprawę."
      ]
    },
    {
      "cell_type": "markdown",
      "metadata": {
        "id": "pyr7yvQDGWT9"
      },
      "source": [
        "## Eksploracja predykcji i błędów sieci\n",
        "Najpierw poprosimy nasz model o wygenerowanie predykcji dla wszystkich obrazów testowych:"
      ]
    },
    {
      "cell_type": "code",
      "metadata": {
        "id": "AXUdMVMcGWT9"
      },
      "source": [
        "pred = model.predict(X_test)"
      ],
      "execution_count": null,
      "outputs": []
    },
    {
      "cell_type": "markdown",
      "metadata": {
        "id": "pXDPuMSuGWT-"
      },
      "source": [
        "Zobaczmy kształt:"
      ]
    },
    {
      "cell_type": "code",
      "metadata": {
        "colab": {
          "base_uri": "https://localhost:8080/"
        },
        "id": "0g3KtBjDGWT-",
        "outputId": "3182d3bc-01d4-4bf7-9300-69ad13775324"
      },
      "source": [
        "pred.shape"
      ],
      "execution_count": null,
      "outputs": [
        {
          "output_type": "execute_result",
          "data": {
            "text/plain": [
              "(10000, 10)"
            ]
          },
          "metadata": {
            "tags": []
          },
          "execution_count": 33
        }
      ]
    },
    {
      "cell_type": "markdown",
      "metadata": {
        "id": "IS4M8SB6GWT-"
      },
      "source": [
        "Wyświetlmy sobie predykcje dla pierwszego obrazu testowego:"
      ]
    },
    {
      "cell_type": "code",
      "metadata": {
        "colab": {
          "base_uri": "https://localhost:8080/"
        },
        "id": "vOuo3KGyGWT-",
        "outputId": "a42b3477-519b-4b52-f6f2-34bedcce64b4"
      },
      "source": [
        "pred[0]"
      ],
      "execution_count": null,
      "outputs": [
        {
          "output_type": "execute_result",
          "data": {
            "text/plain": [
              "array([0., 0., 0., 0., 0., 0., 0., 0., 0., 1.], dtype=float32)"
            ]
          },
          "metadata": {
            "tags": []
          },
          "execution_count": 34
        }
      ]
    },
    {
      "cell_type": "markdown",
      "metadata": {
        "id": "aPT9xPDdGWT_"
      },
      "source": [
        "Co reprezentują te wartości? Zastnaów się najpierw, a później narysuj je jako linię:"
      ]
    },
    {
      "cell_type": "code",
      "metadata": {
        "colab": {
          "base_uri": "https://localhost:8080/",
          "height": 282
        },
        "id": "pjvcF0GFGWT_",
        "outputId": "ffb755e6-703d-4e90-cd81-8373a02b1bfe"
      },
      "source": [
        "plt.plot(pred[0])"
      ],
      "execution_count": null,
      "outputs": [
        {
          "output_type": "execute_result",
          "data": {
            "text/plain": [
              "[<matplotlib.lines.Line2D at 0x7f80cd7f2350>]"
            ]
          },
          "metadata": {
            "tags": []
          },
          "execution_count": 35
        },
        {
          "output_type": "display_data",
          "data": {
            "image/png": "[encoded data removed]",
            "text/plain": [
              "<Figure size 432x288 with 1 Axes>"
            ]
          },
          "metadata": {
            "tags": [],
            "needs_background": "light"
          }
        }
      ]
    },
    {
      "cell_type": "code",
      "metadata": {
        "colab": {
          "base_uri": "https://localhost:8080/",
          "height": 282
        },
        "id": "B8TtI5-BGWT_",
        "outputId": "8b333452-9d29-4607-a9c8-1b4790ae8a71"
      },
      "source": [
        "plt.imshow(X_test[0], cmap='binary')"
      ],
      "execution_count": null,
      "outputs": [
        {
          "output_type": "execute_result",
          "data": {
            "text/plain": [
              "<matplotlib.image.AxesImage at 0x7f80ccf4de10>"
            ]
          },
          "metadata": {
            "tags": []
          },
          "execution_count": 36
        },
        {
          "output_type": "display_data",
          "data": {
            "image/png": "[encoded data removed]",
            "text/plain": [
              "<Figure size 432x288 with 1 Axes>"
            ]
          },
          "metadata": {
            "tags": [],
            "needs_background": "light"
          }
        }
      ]
    },
    {
      "cell_type": "markdown",
      "metadata": {
        "id": "MFmJl9sHGWT_"
      },
      "source": [
        "Zobaczmy teraz jak reprezentuje to funkcja `show_image_predictions`:"
      ]
    },
    {
      "cell_type": "markdown",
      "metadata": {
        "id": "IHFzkiSWGWUA"
      },
      "source": [
        "### dodatkowe informacje - jak utworzyć własnoręcznie z predykcji coś podobnego do `y_test`"
      ]
    },
    {
      "cell_type": "code",
      "metadata": {
        "id": "q4SwuQtSGWUA"
      },
      "source": [
        "pred_cat = np.argmax(pred, axis=1)"
      ],
      "execution_count": null,
      "outputs": []
    },
    {
      "cell_type": "code",
      "metadata": {
        "id": "AE0_XttpGWUA"
      },
      "source": [
        "pred_iscorr = pred_cat == y_test"
      ],
      "execution_count": null,
      "outputs": []
    },
    {
      "cell_type": "code",
      "metadata": {
        "id": "8IYigbvAGWUA"
      },
      "source": [
        "error_idx = np.where(pred_iscorr == False)[0]"
      ],
      "execution_count": null,
      "outputs": []
    },
    {
      "cell_type": "code",
      "metadata": {
        "colab": {
          "base_uri": "https://localhost:8080/"
        },
        "id": "FFbghAAeGWUA",
        "outputId": "53479d58-ff41-4318-9dc3-8293ee96f2a6"
      },
      "source": [
        "error_idx"
      ],
      "execution_count": null,
      "outputs": [
        {
          "output_type": "execute_result",
          "data": {
            "text/plain": [
              "array([   7,   12,   17, ..., 9972, 9977, 9989])"
            ]
          },
          "metadata": {
            "tags": []
          },
          "execution_count": 43
        }
      ]
    },
    {
      "cell_type": "markdown",
      "metadata": {
        "id": "Rj_CRnUpGWUA"
      },
      "source": [
        "Sprawdź jak wygląda powyższy wykres dla kilku innych obrazów z danych treningowych."
      ]
    },
    {
      "cell_type": "markdown",
      "metadata": {
        "id": "hKhbd9ruGWUB"
      },
      "source": [
        "### Ćwiczenie 01\n",
        "Utwórz i wytrenuj drugą sieć, `model2`, zawierającą `128` ukrytych neuronów. Trenuj przez 20 epok. Sprawdź jak wyższa liczba neuronów w sieci `model2` wpływa na zmianę poprawności na danych treningowych oraz testowych."
      ]
    },
    {
      "cell_type": "code",
      "metadata": {
        "id": "UJrcpPFrGWUB"
      },
      "source": [
        "model2 = Sequential([Flatten(input_shape=(28, 28)), \n",
        "                    Dense(128, activation='relu'), \n",
        "                    Dense(10, activation='softmax')])\n",
        "\n",
        "model2.compile(optimizer='adam', metrics=['accuracy'],\n",
        "              loss='sparse_categorical_crossentropy')"
      ],
      "execution_count": null,
      "outputs": []
    },
    {
      "cell_type": "code",
      "metadata": {
        "colab": {
          "base_uri": "https://localhost:8080/"
        },
        "id": "cidyY0vxGWUB",
        "outputId": "3271e95f-b8e2-4944-e65e-1372e7437f97"
      },
      "source": [
        "history = model2.fit(X_train_scaled, y_train, epochs=20)"
      ],
      "execution_count": null,
      "outputs": [
        {
          "output_type": "stream",
          "text": [
            "Epoch 1/20\n",
            "1875/1875 [==============================] - 4s 2ms/step - loss: 0.6198 - accuracy: 0.7844\n",
            "Epoch 2/20\n",
            "1875/1875 [==============================] - 3s 2ms/step - loss: 0.3820 - accuracy: 0.8634\n",
            "Epoch 3/20\n",
            "1875/1875 [==============================] - 3s 2ms/step - loss: 0.3354 - accuracy: 0.8757\n",
            "Epoch 4/20\n",
            "1875/1875 [==============================] - 3s 2ms/step - loss: 0.3115 - accuracy: 0.8857\n",
            "Epoch 5/20\n",
            "1875/1875 [==============================] - 3s 2ms/step - loss: 0.2906 - accuracy: 0.8927\n",
            "Epoch 6/20\n",
            "1875/1875 [==============================] - 3s 2ms/step - loss: 0.2823 - accuracy: 0.8957\n",
            "Epoch 7/20\n",
            "1875/1875 [==============================] - 3s 2ms/step - loss: 0.2641 - accuracy: 0.9008\n",
            "Epoch 8/20\n",
            "1875/1875 [==============================] - 3s 2ms/step - loss: 0.2495 - accuracy: 0.9074\n",
            "Epoch 9/20\n",
            "1875/1875 [==============================] - 3s 2ms/step - loss: 0.2415 - accuracy: 0.9084\n",
            "Epoch 10/20\n",
            "1875/1875 [==============================] - 3s 2ms/step - loss: 0.2318 - accuracy: 0.9133\n",
            "Epoch 11/20\n",
            "1875/1875 [==============================] - 3s 2ms/step - loss: 0.2272 - accuracy: 0.9147\n",
            "Epoch 12/20\n",
            "1875/1875 [==============================] - 3s 2ms/step - loss: 0.2145 - accuracy: 0.9194\n",
            "Epoch 13/20\n",
            "1875/1875 [==============================] - 3s 2ms/step - loss: 0.2158 - accuracy: 0.9184\n",
            "Epoch 14/20\n",
            "1875/1875 [==============================] - 3s 2ms/step - loss: 0.2039 - accuracy: 0.9225\n",
            "Epoch 15/20\n",
            "1875/1875 [==============================] - 3s 2ms/step - loss: 0.2008 - accuracy: 0.9256\n",
            "Epoch 16/20\n",
            "1875/1875 [==============================] - 3s 2ms/step - loss: 0.1882 - accuracy: 0.9280\n",
            "Epoch 17/20\n",
            "1875/1875 [==============================] - 3s 2ms/step - loss: 0.1875 - accuracy: 0.9289\n",
            "Epoch 18/20\n",
            "1875/1875 [==============================] - 3s 2ms/step - loss: 0.1817 - accuracy: 0.9316\n",
            "Epoch 19/20\n",
            "1875/1875 [==============================] - 3s 2ms/step - loss: 0.1733 - accuracy: 0.9343\n",
            "Epoch 20/20\n",
            "1875/1875 [==============================] - 3s 2ms/step - loss: 0.1746 - accuracy: 0.9336\n"
          ],
          "name": "stdout"
        }
      ]
    },
    {
      "cell_type": "code",
      "metadata": {
        "colab": {
          "base_uri": "https://localhost:8080/"
        },
        "id": "QvHgQF2xJhI0",
        "outputId": "67e9e7e7-5e7b-41eb-a1c4-9e2365f84842"
      },
      "source": [
        "model2.evaluate(X_test, y_test)"
      ],
      "execution_count": null,
      "outputs": [
        {
          "output_type": "stream",
          "text": [
            "313/313 [==============================] - 1s 1ms/step - loss: 63.9253 - accuracy: 0.8827\n"
          ],
          "name": "stdout"
        },
        {
          "output_type": "execute_result",
          "data": {
            "text/plain": [
              "[63.925254821777344, 0.8827000260353088]"
            ]
          },
          "metadata": {
            "tags": []
          },
          "execution_count": 50
        }
      ]
    },
    {
      "cell_type": "markdown",
      "metadata": {
        "id": "CTcCuI7KJwjO"
      },
      "source": [
        "Poprawa trening: wzrost 92% do 93%\n",
        "\n",
        "poprawa test: wzrost z 84% do 88%"
      ]
    },
    {
      "cell_type": "markdown",
      "metadata": {
        "id": "tgfWfN_xGWUB"
      },
      "source": [
        "### Ćwiczenie 02\n",
        "Utwórz kolejną sieć `model3`, zawierającą `64` neurony w pierwszej ukrytej warstwie oraz `16` w drugiej ukrytej warstwie.\n",
        "Wytrenuj sieć i porównaj jej poprawność na danych treningowych i testowych z poprzednimi sieciami."
      ]
    },
    {
      "cell_type": "code",
      "metadata": {
        "id": "qciredOuGWUB"
      },
      "source": [
        "model3 = Sequential([Flatten(input_shape=(28, 28)), \n",
        "                    Dense(64, activation='relu'), \n",
        "                    Dense(16, activation='relu'),\n",
        "                    Dense(10, activation='softmax')])\n",
        "\n",
        "model3.compile(optimizer='adam', metrics=['accuracy'],\n",
        "              loss='sparse_categorical_crossentropy')"
      ],
      "execution_count": null,
      "outputs": []
    },
    {
      "cell_type": "code",
      "metadata": {
        "colab": {
          "base_uri": "https://localhost:8080/"
        },
        "id": "aTYUjtXxGWUB",
        "outputId": "a78836a8-9fdc-4329-ec97-de18d748e3aa"
      },
      "source": [
        "history = model3.fit(X_train_scaled, y_train, epochs=20)"
      ],
      "execution_count": null,
      "outputs": [
        {
          "output_type": "stream",
          "text": [
            "Epoch 1/20\n",
            "1875/1875 [==============================] - 4s 2ms/step - loss: 0.7135 - accuracy: 0.7583\n",
            "Epoch 2/20\n",
            "1875/1875 [==============================] - 3s 2ms/step - loss: 0.3969 - accuracy: 0.8599\n",
            "Epoch 3/20\n",
            "1875/1875 [==============================] - 3s 2ms/step - loss: 0.3505 - accuracy: 0.8729\n",
            "Epoch 4/20\n",
            "1875/1875 [==============================] - 3s 2ms/step - loss: 0.3246 - accuracy: 0.8802\n",
            "Epoch 5/20\n",
            "1875/1875 [==============================] - 3s 2ms/step - loss: 0.3157 - accuracy: 0.8827\n",
            "Epoch 6/20\n",
            "1875/1875 [==============================] - 3s 2ms/step - loss: 0.3012 - accuracy: 0.8902\n",
            "Epoch 7/20\n",
            "1875/1875 [==============================] - 3s 2ms/step - loss: 0.2856 - accuracy: 0.8950\n",
            "Epoch 8/20\n",
            "1875/1875 [==============================] - 3s 2ms/step - loss: 0.2814 - accuracy: 0.8959\n",
            "Epoch 9/20\n",
            "1875/1875 [==============================] - 3s 2ms/step - loss: 0.2671 - accuracy: 0.9010\n",
            "Epoch 10/20\n",
            "1875/1875 [==============================] - 3s 2ms/step - loss: 0.2592 - accuracy: 0.9040\n",
            "Epoch 11/20\n",
            "1875/1875 [==============================] - 3s 2ms/step - loss: 0.2547 - accuracy: 0.9044\n",
            "Epoch 12/20\n",
            "1875/1875 [==============================] - 3s 2ms/step - loss: 0.2540 - accuracy: 0.9055\n",
            "Epoch 13/20\n",
            "1875/1875 [==============================] - 3s 2ms/step - loss: 0.2426 - accuracy: 0.9092\n",
            "Epoch 14/20\n",
            "1875/1875 [==============================] - 3s 2ms/step - loss: 0.2347 - accuracy: 0.9122\n",
            "Epoch 15/20\n",
            "1875/1875 [==============================] - 3s 2ms/step - loss: 0.2269 - accuracy: 0.9153\n",
            "Epoch 16/20\n",
            "1875/1875 [==============================] - 3s 2ms/step - loss: 0.2246 - accuracy: 0.9163\n",
            "Epoch 17/20\n",
            "1875/1875 [==============================] - 3s 2ms/step - loss: 0.2211 - accuracy: 0.9165\n",
            "Epoch 18/20\n",
            "1875/1875 [==============================] - 3s 2ms/step - loss: 0.2177 - accuracy: 0.9179\n",
            "Epoch 19/20\n",
            "1875/1875 [==============================] - 3s 2ms/step - loss: 0.2136 - accuracy: 0.9199\n",
            "Epoch 20/20\n",
            "1875/1875 [==============================] - 3s 2ms/step - loss: 0.2105 - accuracy: 0.9194\n"
          ],
          "name": "stdout"
        }
      ]
    },
    {
      "cell_type": "code",
      "metadata": {
        "colab": {
          "base_uri": "https://localhost:8080/"
        },
        "id": "6UxR4h7IGWUC",
        "outputId": "5ee78a6d-fe56-4ba1-8f2b-8de5536e1d84"
      },
      "source": [
        "model3.evaluate(X_test, y_test)"
      ],
      "execution_count": null,
      "outputs": [
        {
          "output_type": "stream",
          "text": [
            "313/313 [==============================] - 1s 1ms/step - loss: 72.7354 - accuracy: 0.8455\n"
          ],
          "name": "stdout"
        },
        {
          "output_type": "execute_result",
          "data": {
            "text/plain": [
              "[72.73544311523438, 0.8454999923706055]"
            ]
          },
          "metadata": {
            "tags": []
          },
          "execution_count": 53
        }
      ]
    },
    {
      "cell_type": "markdown",
      "metadata": {
        "id": "um6dXR3EKa_7"
      },
      "source": [
        "Poprawa trening: spadek 92% (model 1 ) do 91.9%\n",
        "\n",
        "poprawa test: spadel z 84% (model 1) do 84.55%"
      ]
    },
    {
      "cell_type": "markdown",
      "metadata": {
        "id": "pPKuRDdzGWUC"
      },
      "source": [
        "### Ćwiczenie 03\n",
        "Znajdź i wyświetl kilka błędów (sytuacji w których predykcja sieci nie zgadza się z poprawną etykietą obrazu testowego).\n",
        "\n",
        "* najpierw zastanów się jaki jest kształt macierzy predykcji sieci i jak możesz przekształcić tę macierz w wektor przewidywanych przez sieć etykiet. (podpowiedź: przyda Ci się `np.argmax`)\n",
        "* następnie, po przekształceniu macierzy `pred` w przewidywane etykiety (nazwijmy ją `pred_labels`) porównaj `pred_labels` z poprawnymi etykietami aby dostać wektor typu boolean (prawd i fałszy)\n",
        "* wreszcie znajdź w tym wektorze adresy (indeksy) elementów fałszywych - to tym samym adresy (indeksy) obrazów źle rozpoznanych przez sieć.\n",
        "* wykorzystaj kod z wcześniejszej komórki do wyświetlania predykcji sieci obok obrazu aby wyświetlić przykłady, których sieć nie rozpoznała poprawnie"
      ]
    },
    {
      "cell_type": "code",
      "metadata": {
        "id": "7oqMiq5XGWUC"
      },
      "source": [
        "np.argmax([0.3, 0.6, 0.1])"
      ],
      "execution_count": null,
      "outputs": []
    },
    {
      "cell_type": "code",
      "metadata": {
        "id": "Pq8F0LosGWUC"
      },
      "source": [
        "pred_label = np.argmax(_______, axis=1)"
      ],
      "execution_count": null,
      "outputs": []
    },
    {
      "cell_type": "code",
      "metadata": {
        "id": "PHtR88tPGWUC"
      },
      "source": [
        "label_correct = _______ == _______"
      ],
      "execution_count": null,
      "outputs": []
    },
    {
      "cell_type": "code",
      "metadata": {
        "id": "bZL_CeR8GWUE"
      },
      "source": [
        "errors_idx = np.where(label_correct == _______)[0]"
      ],
      "execution_count": null,
      "outputs": []
    },
    {
      "cell_type": "code",
      "metadata": {
        "id": "h2Uku-7bGWUF"
      },
      "source": [
        "errors_idx"
      ],
      "execution_count": null,
      "outputs": []
    }
  ]
}