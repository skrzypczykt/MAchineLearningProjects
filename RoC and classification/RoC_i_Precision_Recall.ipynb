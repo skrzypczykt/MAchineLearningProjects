{
  "nbformat": 4,
  "nbformat_minor": 0,
  "metadata": {
    "colab": {
      "name": "RoC i Precision-Recall.ipynb",
      "provenance": [],
      "authorship_tag": "ABX9TyOuzLgaD8gTRhRTA79b2C1D",
      "include_colab_link": true
    },
    "kernelspec": {
      "name": "python3",
      "display_name": "Python 3"
    },
    "language_info": {
      "name": "python"
    }
  },
  "cells": [
    {
      "cell_type": "markdown",
      "metadata": {
        "id": "view-in-github",
        "colab_type": "text"
      },
      "source": [
        "<a href=\"https://colab.research.google.com/github/skrzypczykt/MAchineLearningProjects/blob/main/RoC%20and%20classification/RoC_i_Precision_Recall.ipynb\" target=\"_parent\"><img src=\"https://colab.research.google.com/assets/colab-badge.svg\" alt=\"Open In Colab\"/></a>"
      ]
    },
    {
      "cell_type": "code",
      "metadata": {
        "id": "174T-H9Ksb7L"
      },
      "source": [
        "import numpy as np\n",
        "import pandas as pd\n",
        "from sklearn.linear_model import LogisticRegression\n",
        "\n",
        "from sklearn.model_selection import train_test_split\n",
        "from sklearn.preprocessing import StandardScaler\n",
        "from sklearn.metrics import roc_curve, auc\n",
        "from sklearn.metrics import accuracy_score\n",
        "\n",
        "data = np.genfromtxt('/content/data_ROC_PR.txt',\n",
        "                     skip_header=0,\n",
        "                     skip_footer=0,\n",
        "                     names=True,\n",
        "                     dtype=float,\n",
        "                     delimiter=',')\n",
        "df = pd.DataFrame(data)\n"
      ],
      "execution_count": null,
      "outputs": []
    },
    {
      "cell_type": "code",
      "metadata": {
        "colab": {
          "base_uri": "https://localhost:8080/",
          "height": 419
        },
        "id": "VaItq7q80lGr",
        "outputId": "d594365c-4670-4d0d-b451-6a00e79bc4c5"
      },
      "source": [
        "df"
      ],
      "execution_count": null,
      "outputs": [
        {
          "output_type": "execute_result",
          "data": {
            "text/html": [
              "<div>\n",
              "<style scoped>\n",
              "    .dataframe tbody tr th:only-of-type {\n",
              "        vertical-align: middle;\n",
              "    }\n",
              "\n",
              "    .dataframe tbody tr th {\n",
              "        vertical-align: top;\n",
              "    }\n",
              "\n",
              "    .dataframe thead th {\n",
              "        text-align: right;\n",
              "    }\n",
              "</style>\n",
              "<table border=\"1\" class=\"dataframe\">\n",
              "  <thead>\n",
              "    <tr style=\"text-align: right;\">\n",
              "      <th></th>\n",
              "      <th>x1</th>\n",
              "      <th>x2</th>\n",
              "      <th>x3</th>\n",
              "      <th>x4</th>\n",
              "      <th>x5</th>\n",
              "      <th>x6</th>\n",
              "      <th>x7</th>\n",
              "      <th>x8</th>\n",
              "      <th>x9</th>\n",
              "      <th>x10</th>\n",
              "      <th>y</th>\n",
              "    </tr>\n",
              "  </thead>\n",
              "  <tbody>\n",
              "    <tr>\n",
              "      <th>0</th>\n",
              "      <td>-2.101187</td>\n",
              "      <td>-0.247208</td>\n",
              "      <td>-1.989335</td>\n",
              "      <td>-1.484556</td>\n",
              "      <td>1.128668</td>\n",
              "      <td>-0.925564</td>\n",
              "      <td>1.210290</td>\n",
              "      <td>2.070526</td>\n",
              "      <td>0.091527</td>\n",
              "      <td>-2.376400</td>\n",
              "      <td>0.0</td>\n",
              "    </tr>\n",
              "    <tr>\n",
              "      <th>1</th>\n",
              "      <td>0.323703</td>\n",
              "      <td>-0.126894</td>\n",
              "      <td>-1.309524</td>\n",
              "      <td>-0.022738</td>\n",
              "      <td>-0.398725</td>\n",
              "      <td>0.280419</td>\n",
              "      <td>0.034598</td>\n",
              "      <td>1.184820</td>\n",
              "      <td>-0.186802</td>\n",
              "      <td>1.969326</td>\n",
              "      <td>0.0</td>\n",
              "    </tr>\n",
              "    <tr>\n",
              "      <th>2</th>\n",
              "      <td>-4.375435</td>\n",
              "      <td>0.334123</td>\n",
              "      <td>-0.852703</td>\n",
              "      <td>-2.701280</td>\n",
              "      <td>2.699135</td>\n",
              "      <td>-2.141198</td>\n",
              "      <td>-2.233844</td>\n",
              "      <td>-0.066448</td>\n",
              "      <td>-0.313881</td>\n",
              "      <td>1.499174</td>\n",
              "      <td>0.0</td>\n",
              "    </tr>\n",
              "    <tr>\n",
              "      <th>3</th>\n",
              "      <td>-1.537919</td>\n",
              "      <td>1.627132</td>\n",
              "      <td>0.484649</td>\n",
              "      <td>-1.020738</td>\n",
              "      <td>0.884990</td>\n",
              "      <td>-0.713543</td>\n",
              "      <td>0.943132</td>\n",
              "      <td>0.713558</td>\n",
              "      <td>-0.468041</td>\n",
              "      <td>0.075341</td>\n",
              "      <td>0.0</td>\n",
              "    </tr>\n",
              "    <tr>\n",
              "      <th>4</th>\n",
              "      <td>-3.240622</td>\n",
              "      <td>0.338141</td>\n",
              "      <td>-0.186530</td>\n",
              "      <td>-2.238088</td>\n",
              "      <td>1.786790</td>\n",
              "      <td>-1.455719</td>\n",
              "      <td>0.951526</td>\n",
              "      <td>0.398790</td>\n",
              "      <td>0.729005</td>\n",
              "      <td>0.372213</td>\n",
              "      <td>0.0</td>\n",
              "    </tr>\n",
              "    <tr>\n",
              "      <th>...</th>\n",
              "      <td>...</td>\n",
              "      <td>...</td>\n",
              "      <td>...</td>\n",
              "      <td>...</td>\n",
              "      <td>...</td>\n",
              "      <td>...</td>\n",
              "      <td>...</td>\n",
              "      <td>...</td>\n",
              "      <td>...</td>\n",
              "      <td>...</td>\n",
              "      <td>...</td>\n",
              "    </tr>\n",
              "    <tr>\n",
              "      <th>995</th>\n",
              "      <td>-1.148812</td>\n",
              "      <td>-0.048464</td>\n",
              "      <td>0.555170</td>\n",
              "      <td>-2.167311</td>\n",
              "      <td>-0.595136</td>\n",
              "      <td>0.237045</td>\n",
              "      <td>-1.241394</td>\n",
              "      <td>-0.144619</td>\n",
              "      <td>-0.136638</td>\n",
              "      <td>-1.363868</td>\n",
              "      <td>0.0</td>\n",
              "    </tr>\n",
              "    <tr>\n",
              "      <th>996</th>\n",
              "      <td>1.960479</td>\n",
              "      <td>1.269868</td>\n",
              "      <td>1.193456</td>\n",
              "      <td>-0.674479</td>\n",
              "      <td>-2.894824</td>\n",
              "      <td>1.992562</td>\n",
              "      <td>2.260748</td>\n",
              "      <td>-0.182916</td>\n",
              "      <td>-0.959332</td>\n",
              "      <td>0.263967</td>\n",
              "      <td>0.0</td>\n",
              "    </tr>\n",
              "    <tr>\n",
              "      <th>997</th>\n",
              "      <td>-1.169663</td>\n",
              "      <td>0.230641</td>\n",
              "      <td>-2.710394</td>\n",
              "      <td>-3.217224</td>\n",
              "      <td>-1.509607</td>\n",
              "      <td>0.795293</td>\n",
              "      <td>-0.854581</td>\n",
              "      <td>0.021500</td>\n",
              "      <td>-1.066801</td>\n",
              "      <td>0.528868</td>\n",
              "      <td>0.0</td>\n",
              "    </tr>\n",
              "    <tr>\n",
              "      <th>998</th>\n",
              "      <td>0.073129</td>\n",
              "      <td>-0.117844</td>\n",
              "      <td>0.149377</td>\n",
              "      <td>-0.255504</td>\n",
              "      <td>-0.313958</td>\n",
              "      <td>0.200589</td>\n",
              "      <td>-1.865016</td>\n",
              "      <td>0.340473</td>\n",
              "      <td>-0.276940</td>\n",
              "      <td>-0.871014</td>\n",
              "      <td>0.0</td>\n",
              "    </tr>\n",
              "    <tr>\n",
              "      <th>999</th>\n",
              "      <td>-4.075695</td>\n",
              "      <td>-0.331306</td>\n",
              "      <td>-0.111816</td>\n",
              "      <td>-2.867222</td>\n",
              "      <td>2.200368</td>\n",
              "      <td>-1.802118</td>\n",
              "      <td>-1.288487</td>\n",
              "      <td>-0.416476</td>\n",
              "      <td>0.364444</td>\n",
              "      <td>-0.534328</td>\n",
              "      <td>0.0</td>\n",
              "    </tr>\n",
              "  </tbody>\n",
              "</table>\n",
              "<p>1000 rows × 11 columns</p>\n",
              "</div>"
            ],
            "text/plain": [
              "           x1        x2        x3        x4  ...        x8        x9       x10    y\n",
              "0   -2.101187 -0.247208 -1.989335 -1.484556  ...  2.070526  0.091527 -2.376400  0.0\n",
              "1    0.323703 -0.126894 -1.309524 -0.022738  ...  1.184820 -0.186802  1.969326  0.0\n",
              "2   -4.375435  0.334123 -0.852703 -2.701280  ... -0.066448 -0.313881  1.499174  0.0\n",
              "3   -1.537919  1.627132  0.484649 -1.020738  ...  0.713558 -0.468041  0.075341  0.0\n",
              "4   -3.240622  0.338141 -0.186530 -2.238088  ...  0.398790  0.729005  0.372213  0.0\n",
              "..        ...       ...       ...       ...  ...       ...       ...       ...  ...\n",
              "995 -1.148812 -0.048464  0.555170 -2.167311  ... -0.144619 -0.136638 -1.363868  0.0\n",
              "996  1.960479  1.269868  1.193456 -0.674479  ... -0.182916 -0.959332  0.263967  0.0\n",
              "997 -1.169663  0.230641 -2.710394 -3.217224  ...  0.021500 -1.066801  0.528868  0.0\n",
              "998  0.073129 -0.117844  0.149377 -0.255504  ...  0.340473 -0.276940 -0.871014  0.0\n",
              "999 -4.075695 -0.331306 -0.111816 -2.867222  ... -0.416476  0.364444 -0.534328  0.0\n",
              "\n",
              "[1000 rows x 11 columns]"
            ]
          },
          "metadata": {
            "tags": []
          },
          "execution_count": 31
        }
      ]
    },
    {
      "cell_type": "code",
      "metadata": {
        "colab": {
          "base_uri": "https://localhost:8080/"
        },
        "id": "YiPZLlQp0s4A",
        "outputId": "60595166-2c72-46cd-84b9-631398b0d221"
      },
      "source": [
        "df.y.value_counts()"
      ],
      "execution_count": null,
      "outputs": [
        {
          "output_type": "execute_result",
          "data": {
            "text/plain": [
              "0.0    986\n",
              "1.0     14\n",
              "Name: y, dtype: int64"
            ]
          },
          "metadata": {
            "tags": []
          },
          "execution_count": 32
        }
      ]
    },
    {
      "cell_type": "code",
      "metadata": {
        "id": "mLNUMCbw0wu3"
      },
      "source": [
        "X,y = df.drop(['y'],axis=1), df['y']\n",
        "train_ratio = 0.8\n",
        "\n",
        "X_train,X_test, y_train,y_test  = train_test_split(X,y, test_size=1 - train_ratio , random_state=41)"
      ],
      "execution_count": null,
      "outputs": []
    },
    {
      "cell_type": "code",
      "metadata": {
        "id": "CeS4n1XE5zlB"
      },
      "source": [
        "#Standaryzacja\n",
        "scaler = StandardScaler()\n",
        "X_train_scaled = scaler.fit_transform(X_train)\n",
        "X_test_scaled = scaler.transform(X_test)"
      ],
      "execution_count": null,
      "outputs": []
    },
    {
      "cell_type": "code",
      "metadata": {
        "colab": {
          "base_uri": "https://localhost:8080/"
        },
        "id": "BzltwGJu5-qo",
        "outputId": "e7571491-8375-4f00-bed4-b339d5e4ad7b"
      },
      "source": [
        "model = LogisticRegression()\n",
        "model.fit(X_train_scaled, y_train)"
      ],
      "execution_count": null,
      "outputs": [
        {
          "output_type": "execute_result",
          "data": {
            "text/plain": [
              "LogisticRegression(C=1.0, class_weight=None, dual=False, fit_intercept=True,\n",
              "                   intercept_scaling=1, l1_ratio=None, max_iter=100,\n",
              "                   multi_class='auto', n_jobs=None, penalty='l2',\n",
              "                   random_state=None, solver='lbfgs', tol=0.0001, verbose=0,\n",
              "                   warm_start=False)"
            ]
          },
          "metadata": {
            "tags": []
          },
          "execution_count": 35
        }
      ]
    },
    {
      "cell_type": "code",
      "metadata": {
        "colab": {
          "base_uri": "https://localhost:8080/"
        },
        "id": "6GVS_OWc7KlR",
        "outputId": "97651c42-a846-40bb-d54b-ab6625574a8a"
      },
      "source": [
        "y_test[:]"
      ],
      "execution_count": null,
      "outputs": [
        {
          "output_type": "execute_result",
          "data": {
            "text/plain": [
              "219    0.0\n",
              "522    0.0\n",
              "833    0.0\n",
              "484    0.0\n",
              "670    0.0\n",
              "      ... \n",
              "835    0.0\n",
              "938    0.0\n",
              "873    0.0\n",
              "757    0.0\n",
              "537    0.0\n",
              "Name: y, Length: 200, dtype: float64"
            ]
          },
          "metadata": {
            "tags": []
          },
          "execution_count": 36
        }
      ]
    },
    {
      "cell_type": "code",
      "metadata": {
        "colab": {
          "base_uri": "https://localhost:8080/"
        },
        "id": "vpvBFHkc7UCA",
        "outputId": "b42cad84-c19e-42d2-c8ab-24fbea0b5afc"
      },
      "source": [
        "y_score"
      ],
      "execution_count": null,
      "outputs": [
        {
          "output_type": "execute_result",
          "data": {
            "text/plain": [
              "array([ -6.30828259,  -4.72056709,  -5.43254607,  -8.32987378,\n",
              "        -7.99149802,  -7.16598479,  -3.95037095,  -7.63500295,\n",
              "        -7.21669323,  -7.32765117,  -5.93784265,  -7.24104778,\n",
              "        -8.79377643,  -4.92809242,  -6.13221157,  -6.19703774,\n",
              "        -5.01324568,  -8.09396933,  -6.8064136 ,  -8.30900042,\n",
              "        -5.57384343,  -5.91944659,  -7.02197222,  -5.29437591,\n",
              "        -8.74460252,  -5.74482816,  -5.15926682,  -5.72822535,\n",
              "        -5.53664525,  -5.47913074,  -4.52170797,  -5.57007097,\n",
              "       -10.68666482,  -6.16607773,  -3.51299988,  -4.40973612,\n",
              "        -8.00347045,  -7.29422232,  -8.87190112,  -5.66957984,\n",
              "        -7.92487889,  -9.32574837,  -2.57991766,  -7.99471952,\n",
              "        -9.50203454,  -7.77565373,  -3.42540332,  -7.92064689,\n",
              "        -6.33872207,  -6.16143007,  -8.72028402,  -7.51906247,\n",
              "        -6.74613046,  -8.39613488,  -6.07600184,  -7.17310451,\n",
              "        -4.11068276,  -3.98355052,  -7.33016892,  -7.48330254,\n",
              "       -10.83338121,  -5.2005148 ,  -3.80620937,  -7.18365112,\n",
              "        -4.10212138,  -8.72918735,  -7.05475485,  -6.17228359,\n",
              "        -5.84740368,  -7.12704802,  -5.68541613, -10.51296666,\n",
              "        -4.7304775 ,  -2.81107533,  -8.50252756,  -9.01267404,\n",
              "        -3.0077596 ,  -6.75356389,  -6.61525425,  -3.02005874,\n",
              "        -5.57140348,  -3.8997124 ,  -5.94122094,  -6.32747773,\n",
              "        -6.85303809,  -7.64311481,  -7.07534214,  -6.61612964,\n",
              "        -5.52417341,  -7.84231321,  -5.36214709,  -5.94749743,\n",
              "        -7.64791752,  -5.33928236,  -6.4356041 ,  -6.79316118,\n",
              "        -7.2166745 ,  -8.55989817,  -6.76441172,  -6.35746045,\n",
              "        -6.23838627,  -7.60146318,  -6.8068701 ,  -8.52324509,\n",
              "        -8.49993973,  -9.77456408,  -7.0864006 ,  -7.42044163,\n",
              "        -7.42821116,  -5.27803217,  -5.80647669,  -8.09098217,\n",
              "        -8.7381311 ,  -8.74547001,  -5.29722289,  -4.52611048,\n",
              "        -6.36642731,  -6.68137337,  -7.5650068 ,  -7.90387168,\n",
              "        -7.70058182,  -6.0364242 ,  -7.15037043,  -7.92732428,\n",
              "        -4.37060052,  -7.76483742,  -5.53490132,  -6.80352026,\n",
              "        -6.12291403,  -7.64764202,  -5.9334892 ,  -8.50572374,\n",
              "       -10.18600848, -10.16306207,  -7.07537654,  -5.57444637,\n",
              "        -5.03124517,  -7.43581446,  -7.98184952,  -5.51781302,\n",
              "        -6.25848095,  -6.12006525,  -6.94420175,  -7.32053767,\n",
              "       -10.54440032,  -8.14656073,  -6.95900286,  -7.6955037 ,\n",
              "        -6.40459938,  -5.97594606,  -7.76302115,  -5.63468232,\n",
              "        -5.36151045,  -8.05973018,  -8.35213179,  -5.58025526,\n",
              "        -3.45702254,  -4.3938554 ,  -4.62905814,  -5.82334716,\n",
              "        -8.3978044 ,  -7.58348758,  -7.53741991,  -6.40504981,\n",
              "        -4.82234693,  -6.44265709,  -9.69646743,  -5.40532812,\n",
              "        -4.5816681 ,  -3.86759876,  -8.93866701,  -9.96639999,\n",
              "        -8.1542054 ,  -6.55991069,  -7.55358683,  -7.06020056,\n",
              "        -4.20232972,  -8.21782508,  -4.15246971, -10.28253516,\n",
              "        -6.78654833,  -5.52554454, -10.74937863,  -8.29045843,\n",
              "        -8.3053745 ,  -8.56696623,  -6.40473137,  -3.27824011,\n",
              "        -0.71566711,  -9.22089078,  -9.1639778 ,  -6.66614829,\n",
              "        -5.19045301,  -4.84563316,  -7.09040473,  -6.63215381,\n",
              "        -4.31604279,  -5.45985971,  -6.30711026,  -8.13262428])"
            ]
          },
          "metadata": {
            "tags": []
          },
          "execution_count": 37
        }
      ]
    },
    {
      "cell_type": "code",
      "metadata": {
        "id": "xSbbnyy66IoW"
      },
      "source": [
        "#source: https://scikit-learn.org/stable/auto_examples/model_selection/plot_roc.html#sphx-glr-auto-examples-model-selection-plot-roc-py\n",
        "y_score = model.decision_function(X_test)\n",
        "# Compute ROC curve and ROC area for each class\n",
        "n_classes = 2\n",
        "fpr = dict()\n",
        "tpr = dict()\n",
        "roc_auc = dict()\n",
        "for i in range(n_classes):\n",
        "    fpr[i], tpr[i], _ = roc_curve(y_test, y_score)\n",
        "    roc_auc[i] = auc(fpr[i], tpr[i])\n",
        "\n",
        "# Compute micro-average ROC curve and ROC area\n",
        "fpr[\"micro\"], tpr[\"micro\"], _ = roc_curve(y_test.ravel(), y_score.ravel())\n",
        "roc_auc[\"micro\"] = auc(fpr[\"micro\"], tpr[\"micro\"])"
      ],
      "execution_count": null,
      "outputs": []
    },
    {
      "cell_type": "code",
      "metadata": {
        "colab": {
          "base_uri": "https://localhost:8080/",
          "height": 295
        },
        "id": "ovv03L3P6gkU",
        "outputId": "de8c8371-f5a2-4b82-dfaa-7cc58329433f"
      },
      "source": [
        "import matplotlib.pyplot as plt\n",
        "plt.figure()\n",
        "lw = 2\n",
        "plt.plot(fpr[1], tpr[1], color='darkorange',\n",
        "         lw=lw, label='ROC curve (area = %0.2f)' % roc_auc[1])\n",
        "plt.plot([0, 1], [0, 1], color='navy', lw=lw, linestyle='--')\n",
        "plt.xlim([0.0, 1.0])\n",
        "plt.ylim([0.0, 1.05])\n",
        "plt.xlabel('False Positive Rate')\n",
        "plt.ylabel('True Positive Rate')\n",
        "plt.title('Receiver operating characteristic example')\n",
        "plt.legend(loc=\"lower right\")\n",
        "plt.show()"
      ],
      "execution_count": null,
      "outputs": [
        {
          "output_type": "display_data",
          "data": {
            "image/png": "[encoded data removed]",
            "text/plain": [
              "<Figure size 432x288 with 1 Axes>"
            ]
          },
          "metadata": {
            "tags": [],
            "needs_background": "light"
          }
        }
      ]
    },
    {
      "cell_type": "markdown",
      "metadata": {
        "id": "3mwMlxKt-_EJ"
      },
      "source": [
        "Poziom AUC mocno powyżej 50%. Model przebija klasyfikator szacujący losowo. Model bardzo szybko osiąga TP rate = 100% - już dla FP Rate wynoszącym około 0.3. Model wygląda tutaj obiecująco.\n",
        "\n",
        " Kształt krzywej jest prawidłowy: \n",
        " - znajduje się w całości nad przekątną \n",
        " -Jest ona też niemalejąca."
      ]
    },
    {
      "cell_type": "code",
      "metadata": {
        "colab": {
          "base_uri": "https://localhost:8080/",
          "height": 312
        },
        "id": "dLlxkOU986vg",
        "outputId": "653ce1cf-e788-49ca-feca-8b2b42d0e165"
      },
      "source": [
        "#source: https://scikit-learn.org/stable/auto_examples/model_selection/plot_precision_recall.html\n",
        "from sklearn.metrics import average_precision_score\n",
        "average_precision = average_precision_score(y_test, y_score)\n",
        "\n",
        "from sklearn.metrics import precision_recall_curve\n",
        "from sklearn.metrics import plot_precision_recall_curve\n",
        "\n",
        "\n",
        "disp = plot_precision_recall_curve(model, X_test, y_test)\n",
        "disp.ax_.set_title('2-class Precision-Recall curve: '\n",
        "                   'AP={0:0.2f}'.format(average_precision))"
      ],
      "execution_count": null,
      "outputs": [
        {
          "output_type": "execute_result",
          "data": {
            "text/plain": [
              "Text(0.5, 1.0, '2-class Precision-Recall curve: AP=0.21')"
            ]
          },
          "metadata": {
            "tags": []
          },
          "execution_count": 40
        },
        {
          "output_type": "display_data",
          "data": {
            "image/png": "[encoded data removed]",
            "text/plain": [
              "<Figure size 432x288 with 1 Axes>"
            ]
          },
          "metadata": {
            "tags": [],
            "needs_background": "light"
          }
        }
      ]
    },
    {
      "cell_type": "markdown",
      "metadata": {
        "id": "5X3_e7UFALvW"
      },
      "source": [
        "Krzywa jest mocno *poucinana*, być może rozważono za **małą liczbę różnych thresholdów**. Może to wynikać z **małego zbioru testowego**. AP=0.21 oznacza, że model wypada tutaj słabo.\n",
        "\n",
        "Generalnie obserwujemy **spadek** - prawidłowe zachowanie. Użycie tego modelu dla wysokiego recall wydaje się być bezsensowne - wyjątkowo niska precyzja.\n",
        "\n",
        "*Najlepszym poziomem *będzie (mniej wiecej) **recall=0.22** i **precyzja = 0.5**. To najwieksza precyzja jaką można uzyskać przy sensownym recallu. Recall na poziomie około 0.10 wydaje się dawać model całkiem bezużyteczny."
      ]
    }
  ]
}