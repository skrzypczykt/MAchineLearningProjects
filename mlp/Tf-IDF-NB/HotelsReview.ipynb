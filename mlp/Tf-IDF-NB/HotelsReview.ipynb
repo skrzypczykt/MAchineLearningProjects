{
  "nbformat": 4,
  "nbformat_minor": 0,
  "metadata": {
    "kernelspec": {
      "display_name": "Python 3",
      "language": "python",
      "name": "python3"
    },
    "language_info": {
      "codemirror_mode": {
        "name": "ipython",
        "version": 3
      },
      "file_extension": ".py",
      "mimetype": "text/x-python",
      "name": "python",
      "nbconvert_exporter": "python",
      "pygments_lexer": "ipython3",
      "version": "3.8.5"
    },
    "colab": {
      "name": "HotelsReview.ipynb",
      "provenance": [],
      "include_colab_link": true
    }
  },
  "cells": [
    {
      "cell_type": "markdown",
      "metadata": {
        "id": "view-in-github",
        "colab_type": "text"
      },
      "source": [
        "<a href=\"https://colab.research.google.com/github/skrzypczykt/MAchineLearningProjects/blob/main/mlp/Tf-IDF-NB/HotelsReview.ipynb\" target=\"_parent\"><img src=\"https://colab.research.google.com/assets/colab-badge.svg\" alt=\"Open In Colab\"/></a>"
      ]
    },
    {
      "cell_type": "markdown",
      "metadata": {
        "id": "mKJO7pLd-PUN"
      },
      "source": [
        "https://www.kaggle.com/jiashenliu/515k-hotel-reviews-data-in-europe"
      ]
    },
    {
      "cell_type": "code",
      "metadata": {
        "id": "t9X4uuhXRp1d"
      },
      "source": [
        "import pandas as pd\n",
        "import numpy as np\n",
        "import nltk"
      ],
      "execution_count": 165,
      "outputs": []
    },
    {
      "cell_type": "code",
      "metadata": {
        "scrolled": true,
        "colab": {
          "base_uri": "https://localhost:8080/",
          "height": 1000
        },
        "id": "pX5jHmZkRp1g",
        "outputId": "0305fdda-128c-49b1-a953-81ff16df2619"
      },
      "source": [
        "# df = pd.read_csv('D:\\kacpe\\Documents\\Studia\\Seminarium\\Praca\\Hotel_Reviews.csv')\n",
        "df = pd.read_csv('/content/Hotel_Reviews.csv')\n",
        "df.head(10)"
      ],
      "execution_count": 166,
      "outputs": [
        {
          "output_type": "execute_result",
          "data": {
            "text/html": [
              "<div>\n",
              "<style scoped>\n",
              "    .dataframe tbody tr th:only-of-type {\n",
              "        vertical-align: middle;\n",
              "    }\n",
              "\n",
              "    .dataframe tbody tr th {\n",
              "        vertical-align: top;\n",
              "    }\n",
              "\n",
              "    .dataframe thead th {\n",
              "        text-align: right;\n",
              "    }\n",
              "</style>\n",
              "<table border=\"1\" class=\"dataframe\">\n",
              "  <thead>\n",
              "    <tr style=\"text-align: right;\">\n",
              "      <th></th>\n",
              "      <th>Hotel_Address</th>\n",
              "      <th>Additional_Number_of_Scoring</th>\n",
              "      <th>Review_Date</th>\n",
              "      <th>Average_Score</th>\n",
              "      <th>Hotel_Name</th>\n",
              "      <th>Reviewer_Nationality</th>\n",
              "      <th>Negative_Review</th>\n",
              "      <th>Review_Total_Negative_Word_Counts</th>\n",
              "      <th>Total_Number_of_Reviews</th>\n",
              "      <th>Positive_Review</th>\n",
              "      <th>Review_Total_Positive_Word_Counts</th>\n",
              "      <th>Total_Number_of_Reviews_Reviewer_Has_Given</th>\n",
              "      <th>Reviewer_Score</th>\n",
              "      <th>Tags</th>\n",
              "      <th>days_since_review</th>\n",
              "      <th>lat</th>\n",
              "      <th>lng</th>\n",
              "    </tr>\n",
              "  </thead>\n",
              "  <tbody>\n",
              "    <tr>\n",
              "      <th>0</th>\n",
              "      <td>s Gravesandestraat 55 Oost 1092 AA Amsterdam ...</td>\n",
              "      <td>194</td>\n",
              "      <td>8/3/2017</td>\n",
              "      <td>7.7</td>\n",
              "      <td>Hotel Arena</td>\n",
              "      <td>Russia</td>\n",
              "      <td>I am so angry that i made this post available...</td>\n",
              "      <td>397</td>\n",
              "      <td>1403</td>\n",
              "      <td>Only the park outside of the hotel was beauti...</td>\n",
              "      <td>11</td>\n",
              "      <td>7</td>\n",
              "      <td>2.9</td>\n",
              "      <td>[' Leisure trip ', ' Couple ', ' Duplex Double...</td>\n",
              "      <td>0 days</td>\n",
              "      <td>52.360576</td>\n",
              "      <td>4.915968</td>\n",
              "    </tr>\n",
              "    <tr>\n",
              "      <th>1</th>\n",
              "      <td>s Gravesandestraat 55 Oost 1092 AA Amsterdam ...</td>\n",
              "      <td>194</td>\n",
              "      <td>8/3/2017</td>\n",
              "      <td>7.7</td>\n",
              "      <td>Hotel Arena</td>\n",
              "      <td>Ireland</td>\n",
              "      <td>No Negative</td>\n",
              "      <td>0</td>\n",
              "      <td>1403</td>\n",
              "      <td>No real complaints the hotel was great great ...</td>\n",
              "      <td>105</td>\n",
              "      <td>7</td>\n",
              "      <td>7.5</td>\n",
              "      <td>[' Leisure trip ', ' Couple ', ' Duplex Double...</td>\n",
              "      <td>0 days</td>\n",
              "      <td>52.360576</td>\n",
              "      <td>4.915968</td>\n",
              "    </tr>\n",
              "    <tr>\n",
              "      <th>2</th>\n",
              "      <td>s Gravesandestraat 55 Oost 1092 AA Amsterdam ...</td>\n",
              "      <td>194</td>\n",
              "      <td>7/31/2017</td>\n",
              "      <td>7.7</td>\n",
              "      <td>Hotel Arena</td>\n",
              "      <td>Australia</td>\n",
              "      <td>Rooms are nice but for elderly a bit difficul...</td>\n",
              "      <td>42</td>\n",
              "      <td>1403</td>\n",
              "      <td>Location was good and staff were ok It is cut...</td>\n",
              "      <td>21</td>\n",
              "      <td>9</td>\n",
              "      <td>7.1</td>\n",
              "      <td>[' Leisure trip ', ' Family with young childre...</td>\n",
              "      <td>3 days</td>\n",
              "      <td>52.360576</td>\n",
              "      <td>4.915968</td>\n",
              "    </tr>\n",
              "    <tr>\n",
              "      <th>3</th>\n",
              "      <td>s Gravesandestraat 55 Oost 1092 AA Amsterdam ...</td>\n",
              "      <td>194</td>\n",
              "      <td>7/31/2017</td>\n",
              "      <td>7.7</td>\n",
              "      <td>Hotel Arena</td>\n",
              "      <td>United Kingdom</td>\n",
              "      <td>My room was dirty and I was afraid to walk ba...</td>\n",
              "      <td>210</td>\n",
              "      <td>1403</td>\n",
              "      <td>Great location in nice surroundings the bar a...</td>\n",
              "      <td>26</td>\n",
              "      <td>1</td>\n",
              "      <td>3.8</td>\n",
              "      <td>[' Leisure trip ', ' Solo traveler ', ' Duplex...</td>\n",
              "      <td>3 days</td>\n",
              "      <td>52.360576</td>\n",
              "      <td>4.915968</td>\n",
              "    </tr>\n",
              "    <tr>\n",
              "      <th>4</th>\n",
              "      <td>s Gravesandestraat 55 Oost 1092 AA Amsterdam ...</td>\n",
              "      <td>194</td>\n",
              "      <td>7/24/2017</td>\n",
              "      <td>7.7</td>\n",
              "      <td>Hotel Arena</td>\n",
              "      <td>New Zealand</td>\n",
              "      <td>You When I booked with your company on line y...</td>\n",
              "      <td>140</td>\n",
              "      <td>1403</td>\n",
              "      <td>Amazing location and building Romantic setting</td>\n",
              "      <td>8</td>\n",
              "      <td>3</td>\n",
              "      <td>6.7</td>\n",
              "      <td>[' Leisure trip ', ' Couple ', ' Suite ', ' St...</td>\n",
              "      <td>10 days</td>\n",
              "      <td>52.360576</td>\n",
              "      <td>4.915968</td>\n",
              "    </tr>\n",
              "    <tr>\n",
              "      <th>5</th>\n",
              "      <td>s Gravesandestraat 55 Oost 1092 AA Amsterdam ...</td>\n",
              "      <td>194</td>\n",
              "      <td>7/24/2017</td>\n",
              "      <td>7.7</td>\n",
              "      <td>Hotel Arena</td>\n",
              "      <td>Poland</td>\n",
              "      <td>Backyard of the hotel is total mess shouldn t...</td>\n",
              "      <td>17</td>\n",
              "      <td>1403</td>\n",
              "      <td>Good restaurant with modern design great chil...</td>\n",
              "      <td>20</td>\n",
              "      <td>1</td>\n",
              "      <td>6.7</td>\n",
              "      <td>[' Leisure trip ', ' Group ', ' Duplex Double ...</td>\n",
              "      <td>10 days</td>\n",
              "      <td>52.360576</td>\n",
              "      <td>4.915968</td>\n",
              "    </tr>\n",
              "    <tr>\n",
              "      <th>6</th>\n",
              "      <td>s Gravesandestraat 55 Oost 1092 AA Amsterdam ...</td>\n",
              "      <td>194</td>\n",
              "      <td>7/17/2017</td>\n",
              "      <td>7.7</td>\n",
              "      <td>Hotel Arena</td>\n",
              "      <td>United Kingdom</td>\n",
              "      <td>Cleaner did not change our sheet and duvet ev...</td>\n",
              "      <td>33</td>\n",
              "      <td>1403</td>\n",
              "      <td>The room is spacious and bright The hotel is ...</td>\n",
              "      <td>18</td>\n",
              "      <td>6</td>\n",
              "      <td>4.6</td>\n",
              "      <td>[' Leisure trip ', ' Group ', ' Duplex Twin Ro...</td>\n",
              "      <td>17 days</td>\n",
              "      <td>52.360576</td>\n",
              "      <td>4.915968</td>\n",
              "    </tr>\n",
              "    <tr>\n",
              "      <th>7</th>\n",
              "      <td>s Gravesandestraat 55 Oost 1092 AA Amsterdam ...</td>\n",
              "      <td>194</td>\n",
              "      <td>7/17/2017</td>\n",
              "      <td>7.7</td>\n",
              "      <td>Hotel Arena</td>\n",
              "      <td>United Kingdom</td>\n",
              "      <td>Apart from the price for the brekfast Everyth...</td>\n",
              "      <td>11</td>\n",
              "      <td>1403</td>\n",
              "      <td>Good location Set in a lovely park friendly s...</td>\n",
              "      <td>19</td>\n",
              "      <td>1</td>\n",
              "      <td>10.0</td>\n",
              "      <td>[' Leisure trip ', ' Couple ', ' Duplex Double...</td>\n",
              "      <td>17 days</td>\n",
              "      <td>52.360576</td>\n",
              "      <td>4.915968</td>\n",
              "    </tr>\n",
              "    <tr>\n",
              "      <th>8</th>\n",
              "      <td>s Gravesandestraat 55 Oost 1092 AA Amsterdam ...</td>\n",
              "      <td>194</td>\n",
              "      <td>7/9/2017</td>\n",
              "      <td>7.7</td>\n",
              "      <td>Hotel Arena</td>\n",
              "      <td>Belgium</td>\n",
              "      <td>Even though the pictures show very clean room...</td>\n",
              "      <td>34</td>\n",
              "      <td>1403</td>\n",
              "      <td>No Positive</td>\n",
              "      <td>0</td>\n",
              "      <td>3</td>\n",
              "      <td>6.5</td>\n",
              "      <td>[' Leisure trip ', ' Couple ', ' Duplex Double...</td>\n",
              "      <td>25 days</td>\n",
              "      <td>52.360576</td>\n",
              "      <td>4.915968</td>\n",
              "    </tr>\n",
              "    <tr>\n",
              "      <th>9</th>\n",
              "      <td>s Gravesandestraat 55 Oost 1092 AA Amsterdam ...</td>\n",
              "      <td>194</td>\n",
              "      <td>7/8/2017</td>\n",
              "      <td>7.7</td>\n",
              "      <td>Hotel Arena</td>\n",
              "      <td>Norway</td>\n",
              "      <td>The aircondition makes so much noise and its ...</td>\n",
              "      <td>15</td>\n",
              "      <td>1403</td>\n",
              "      <td>The room was big enough and the bed is good T...</td>\n",
              "      <td>50</td>\n",
              "      <td>1</td>\n",
              "      <td>7.9</td>\n",
              "      <td>[' Leisure trip ', ' Couple ', ' Large King Ro...</td>\n",
              "      <td>26 days</td>\n",
              "      <td>52.360576</td>\n",
              "      <td>4.915968</td>\n",
              "    </tr>\n",
              "  </tbody>\n",
              "</table>\n",
              "</div>"
            ],
            "text/plain": [
              "                                       Hotel_Address  ...       lng\n",
              "0   s Gravesandestraat 55 Oost 1092 AA Amsterdam ...  ...  4.915968\n",
              "1   s Gravesandestraat 55 Oost 1092 AA Amsterdam ...  ...  4.915968\n",
              "2   s Gravesandestraat 55 Oost 1092 AA Amsterdam ...  ...  4.915968\n",
              "3   s Gravesandestraat 55 Oost 1092 AA Amsterdam ...  ...  4.915968\n",
              "4   s Gravesandestraat 55 Oost 1092 AA Amsterdam ...  ...  4.915968\n",
              "5   s Gravesandestraat 55 Oost 1092 AA Amsterdam ...  ...  4.915968\n",
              "6   s Gravesandestraat 55 Oost 1092 AA Amsterdam ...  ...  4.915968\n",
              "7   s Gravesandestraat 55 Oost 1092 AA Amsterdam ...  ...  4.915968\n",
              "8   s Gravesandestraat 55 Oost 1092 AA Amsterdam ...  ...  4.915968\n",
              "9   s Gravesandestraat 55 Oost 1092 AA Amsterdam ...  ...  4.915968\n",
              "\n",
              "[10 rows x 17 columns]"
            ]
          },
          "metadata": {
            "tags": []
          },
          "execution_count": 166
        }
      ]
    },
    {
      "cell_type": "code",
      "metadata": {
        "colab": {
          "base_uri": "https://localhost:8080/"
        },
        "id": "J_9F11BURp1h",
        "outputId": "d56c9ade-5c2e-4ec2-8d95-055d3f2135ea"
      },
      "source": [
        "df.columns"
      ],
      "execution_count": 167,
      "outputs": [
        {
          "output_type": "execute_result",
          "data": {
            "text/plain": [
              "Index(['Hotel_Address', 'Additional_Number_of_Scoring', 'Review_Date',\n",
              "       'Average_Score', 'Hotel_Name', 'Reviewer_Nationality',\n",
              "       'Negative_Review', 'Review_Total_Negative_Word_Counts',\n",
              "       'Total_Number_of_Reviews', 'Positive_Review',\n",
              "       'Review_Total_Positive_Word_Counts',\n",
              "       'Total_Number_of_Reviews_Reviewer_Has_Given', 'Reviewer_Score', 'Tags',\n",
              "       'days_since_review', 'lat', 'lng'],\n",
              "      dtype='object')"
            ]
          },
          "metadata": {
            "tags": []
          },
          "execution_count": 167
        }
      ]
    },
    {
      "cell_type": "code",
      "metadata": {
        "scrolled": true,
        "colab": {
          "base_uri": "https://localhost:8080/"
        },
        "id": "RvqGmPHNRp1i",
        "outputId": "8f411d48-580c-4e3b-c96c-d100392e6c63"
      },
      "source": [
        "scores=df.groupby(['Reviewer_Score']).size()\n",
        "scores"
      ],
      "execution_count": 168,
      "outputs": [
        {
          "output_type": "execute_result",
          "data": {
            "text/plain": [
              "Reviewer_Score\n",
              "2.5       2199\n",
              "2.9       1589\n",
              "3.0         37\n",
              "3.1          8\n",
              "3.3       2772\n",
              "3.5         79\n",
              "3.8       4044\n",
              "4.0         84\n",
              "4.2       5095\n",
              "4.4         12\n",
              "4.5        122\n",
              "4.6       6240\n",
              "5.0       8422\n",
              "5.4       9526\n",
              "5.5        227\n",
              "5.6         17\n",
              "5.8      12034\n",
              "6.0        253\n",
              "6.3      14924\n",
              "6.5        345\n",
              "6.7      18793\n",
              "6.9         29\n",
              "7.0        411\n",
              "7.1      24855\n",
              "7.5      34878\n",
              "7.9      33097\n",
              "8.0        505\n",
              "8.1         39\n",
              "8.3      41128\n",
              "8.5        508\n",
              "8.8      46429\n",
              "9.0        647\n",
              "9.2      58583\n",
              "9.4         63\n",
              "9.5        724\n",
              "9.6      71167\n",
              "10.0    115853\n",
              "dtype: int64"
            ]
          },
          "metadata": {
            "tags": []
          },
          "execution_count": 168
        }
      ]
    },
    {
      "cell_type": "code",
      "metadata": {
        "colab": {
          "base_uri": "https://localhost:8080/",
          "height": 564
        },
        "id": "05yDdJUURp1i",
        "outputId": "0508f2a7-938f-42e1-bf77-79a09833f340"
      },
      "source": [
        "bar_plot=scores.plot.bar(x='Reviewer_Score', figsize=(13,9))"
      ],
      "execution_count": 169,
      "outputs": [
        {
          "output_type": "display_data",
          "data": {
            "image/png": "[encoded data removed]",
            "text/plain": [
              "<Figure size 936x648 with 1 Axes>"
            ]
          },
          "metadata": {
            "tags": [],
            "needs_background": "light"
          }
        }
      ]
    },
    {
      "cell_type": "code",
      "metadata": {
        "colab": {
          "base_uri": "https://localhost:8080/"
        },
        "id": "0nAAdb2ZRp1j",
        "outputId": "29370222-9b54-43f7-f037-147f93678cea"
      },
      "source": [
        "cumsum=scores.cumsum()\n",
        "cumsum"
      ],
      "execution_count": 170,
      "outputs": [
        {
          "output_type": "execute_result",
          "data": {
            "text/plain": [
              "Reviewer_Score\n",
              "2.5       2199\n",
              "2.9       3788\n",
              "3.0       3825\n",
              "3.1       3833\n",
              "3.3       6605\n",
              "3.5       6684\n",
              "3.8      10728\n",
              "4.0      10812\n",
              "4.2      15907\n",
              "4.4      15919\n",
              "4.5      16041\n",
              "4.6      22281\n",
              "5.0      30703\n",
              "5.4      40229\n",
              "5.5      40456\n",
              "5.6      40473\n",
              "5.8      52507\n",
              "6.0      52760\n",
              "6.3      67684\n",
              "6.5      68029\n",
              "6.7      86822\n",
              "6.9      86851\n",
              "7.0      87262\n",
              "7.1     112117\n",
              "7.5     146995\n",
              "7.9     180092\n",
              "8.0     180597\n",
              "8.1     180636\n",
              "8.3     221764\n",
              "8.5     222272\n",
              "8.8     268701\n",
              "9.0     269348\n",
              "9.2     327931\n",
              "9.4     327994\n",
              "9.5     328718\n",
              "9.6     399885\n",
              "10.0    515738\n",
              "dtype: int64"
            ]
          },
          "metadata": {
            "tags": []
          },
          "execution_count": 170
        }
      ]
    },
    {
      "cell_type": "code",
      "metadata": {
        "scrolled": true,
        "colab": {
          "base_uri": "https://localhost:8080/",
          "height": 203
        },
        "id": "FBbXd6L5Rp1j",
        "outputId": "77ea3609-3e3a-4cd3-f29b-132150265afa"
      },
      "source": [
        "reduced_df = df.drop(columns=['Average_Score','Hotel_Address', 'Additional_Number_of_Scoring','Review_Total_Negative_Word_Counts', 'Review_Date','Review_Total_Positive_Word_Counts', 'Total_Number_of_Reviews','Hotel_Name', 'Reviewer_Nationality', 'Total_Number_of_Reviews_Reviewer_Has_Given', 'days_since_review', 'lat', 'lng', 'Tags'])\n",
        "reduced_df.head()"
      ],
      "execution_count": 171,
      "outputs": [
        {
          "output_type": "execute_result",
          "data": {
            "text/html": [
              "<div>\n",
              "<style scoped>\n",
              "    .dataframe tbody tr th:only-of-type {\n",
              "        vertical-align: middle;\n",
              "    }\n",
              "\n",
              "    .dataframe tbody tr th {\n",
              "        vertical-align: top;\n",
              "    }\n",
              "\n",
              "    .dataframe thead th {\n",
              "        text-align: right;\n",
              "    }\n",
              "</style>\n",
              "<table border=\"1\" class=\"dataframe\">\n",
              "  <thead>\n",
              "    <tr style=\"text-align: right;\">\n",
              "      <th></th>\n",
              "      <th>Negative_Review</th>\n",
              "      <th>Positive_Review</th>\n",
              "      <th>Reviewer_Score</th>\n",
              "    </tr>\n",
              "  </thead>\n",
              "  <tbody>\n",
              "    <tr>\n",
              "      <th>0</th>\n",
              "      <td>I am so angry that i made this post available...</td>\n",
              "      <td>Only the park outside of the hotel was beauti...</td>\n",
              "      <td>2.9</td>\n",
              "    </tr>\n",
              "    <tr>\n",
              "      <th>1</th>\n",
              "      <td>No Negative</td>\n",
              "      <td>No real complaints the hotel was great great ...</td>\n",
              "      <td>7.5</td>\n",
              "    </tr>\n",
              "    <tr>\n",
              "      <th>2</th>\n",
              "      <td>Rooms are nice but for elderly a bit difficul...</td>\n",
              "      <td>Location was good and staff were ok It is cut...</td>\n",
              "      <td>7.1</td>\n",
              "    </tr>\n",
              "    <tr>\n",
              "      <th>3</th>\n",
              "      <td>My room was dirty and I was afraid to walk ba...</td>\n",
              "      <td>Great location in nice surroundings the bar a...</td>\n",
              "      <td>3.8</td>\n",
              "    </tr>\n",
              "    <tr>\n",
              "      <th>4</th>\n",
              "      <td>You When I booked with your company on line y...</td>\n",
              "      <td>Amazing location and building Romantic setting</td>\n",
              "      <td>6.7</td>\n",
              "    </tr>\n",
              "  </tbody>\n",
              "</table>\n",
              "</div>"
            ],
            "text/plain": [
              "                                     Negative_Review  ... Reviewer_Score\n",
              "0   I am so angry that i made this post available...  ...            2.9\n",
              "1                                        No Negative  ...            7.5\n",
              "2   Rooms are nice but for elderly a bit difficul...  ...            7.1\n",
              "3   My room was dirty and I was afraid to walk ba...  ...            3.8\n",
              "4   You When I booked with your company on line y...  ...            6.7\n",
              "\n",
              "[5 rows x 3 columns]"
            ]
          },
          "metadata": {
            "tags": []
          },
          "execution_count": 171
        }
      ]
    },
    {
      "cell_type": "code",
      "metadata": {
        "colab": {
          "base_uri": "https://localhost:8080/",
          "height": 357
        },
        "id": "_kijhYGeRp1j",
        "outputId": "430b028f-27f1-47e7-9258-838acabb0799"
      },
      "source": [
        "# reduced_df=reduced_df.loc[(reduced_df['Reviewer_Score'] <= 6.9) | (reduced_df['Reviewer_Score'] >= 8.8)]\n",
        "reduced_df=reduced_df.loc[(reduced_df['Reviewer_Score'] <= 6.9) | (reduced_df['Reviewer_Score'] >= 9.5)]\n",
        "reduced_df.head(10)"
      ],
      "execution_count": 172,
      "outputs": [
        {
          "output_type": "execute_result",
          "data": {
            "text/html": [
              "<div>\n",
              "<style scoped>\n",
              "    .dataframe tbody tr th:only-of-type {\n",
              "        vertical-align: middle;\n",
              "    }\n",
              "\n",
              "    .dataframe tbody tr th {\n",
              "        vertical-align: top;\n",
              "    }\n",
              "\n",
              "    .dataframe thead th {\n",
              "        text-align: right;\n",
              "    }\n",
              "</style>\n",
              "<table border=\"1\" class=\"dataframe\">\n",
              "  <thead>\n",
              "    <tr style=\"text-align: right;\">\n",
              "      <th></th>\n",
              "      <th>Negative_Review</th>\n",
              "      <th>Positive_Review</th>\n",
              "      <th>Reviewer_Score</th>\n",
              "    </tr>\n",
              "  </thead>\n",
              "  <tbody>\n",
              "    <tr>\n",
              "      <th>0</th>\n",
              "      <td>I am so angry that i made this post available...</td>\n",
              "      <td>Only the park outside of the hotel was beauti...</td>\n",
              "      <td>2.9</td>\n",
              "    </tr>\n",
              "    <tr>\n",
              "      <th>3</th>\n",
              "      <td>My room was dirty and I was afraid to walk ba...</td>\n",
              "      <td>Great location in nice surroundings the bar a...</td>\n",
              "      <td>3.8</td>\n",
              "    </tr>\n",
              "    <tr>\n",
              "      <th>4</th>\n",
              "      <td>You When I booked with your company on line y...</td>\n",
              "      <td>Amazing location and building Romantic setting</td>\n",
              "      <td>6.7</td>\n",
              "    </tr>\n",
              "    <tr>\n",
              "      <th>5</th>\n",
              "      <td>Backyard of the hotel is total mess shouldn t...</td>\n",
              "      <td>Good restaurant with modern design great chil...</td>\n",
              "      <td>6.7</td>\n",
              "    </tr>\n",
              "    <tr>\n",
              "      <th>6</th>\n",
              "      <td>Cleaner did not change our sheet and duvet ev...</td>\n",
              "      <td>The room is spacious and bright The hotel is ...</td>\n",
              "      <td>4.6</td>\n",
              "    </tr>\n",
              "    <tr>\n",
              "      <th>7</th>\n",
              "      <td>Apart from the price for the brekfast Everyth...</td>\n",
              "      <td>Good location Set in a lovely park friendly s...</td>\n",
              "      <td>10.0</td>\n",
              "    </tr>\n",
              "    <tr>\n",
              "      <th>8</th>\n",
              "      <td>Even though the pictures show very clean room...</td>\n",
              "      <td>No Positive</td>\n",
              "      <td>6.5</td>\n",
              "    </tr>\n",
              "    <tr>\n",
              "      <th>10</th>\n",
              "      <td>Nothing all great</td>\n",
              "      <td>Rooms were stunningly decorated and really sp...</td>\n",
              "      <td>10.0</td>\n",
              "    </tr>\n",
              "    <tr>\n",
              "      <th>11</th>\n",
              "      <td>6 30 AM started big noise workers loading woo...</td>\n",
              "      <td>Style location rooms</td>\n",
              "      <td>5.8</td>\n",
              "    </tr>\n",
              "    <tr>\n",
              "      <th>12</th>\n",
              "      <td>The floor in my room was filfy dirty Very bas...</td>\n",
              "      <td>Comfy bed good location</td>\n",
              "      <td>4.6</td>\n",
              "    </tr>\n",
              "  </tbody>\n",
              "</table>\n",
              "</div>"
            ],
            "text/plain": [
              "                                      Negative_Review  ... Reviewer_Score\n",
              "0    I am so angry that i made this post available...  ...            2.9\n",
              "3    My room was dirty and I was afraid to walk ba...  ...            3.8\n",
              "4    You When I booked with your company on line y...  ...            6.7\n",
              "5    Backyard of the hotel is total mess shouldn t...  ...            6.7\n",
              "6    Cleaner did not change our sheet and duvet ev...  ...            4.6\n",
              "7    Apart from the price for the brekfast Everyth...  ...           10.0\n",
              "8    Even though the pictures show very clean room...  ...            6.5\n",
              "10                                 Nothing all great   ...           10.0\n",
              "11   6 30 AM started big noise workers loading woo...  ...            5.8\n",
              "12   The floor in my room was filfy dirty Very bas...  ...            4.6\n",
              "\n",
              "[10 rows x 3 columns]"
            ]
          },
          "metadata": {
            "tags": []
          },
          "execution_count": 172
        }
      ]
    },
    {
      "cell_type": "code",
      "metadata": {
        "colab": {
          "base_uri": "https://localhost:8080/"
        },
        "id": "hb5hxCUjRp1k",
        "outputId": "47196e26-308c-4c21-c5c9-2a0e30c44d74"
      },
      "source": [
        "reduced_df.shape"
      ],
      "execution_count": 173,
      "outputs": [
        {
          "output_type": "execute_result",
          "data": {
            "text/plain": [
              "(380317, 3)"
            ]
          },
          "metadata": {
            "tags": []
          },
          "execution_count": 173
        }
      ]
    },
    {
      "cell_type": "code",
      "metadata": {
        "colab": {
          "base_uri": "https://localhost:8080/",
          "height": 357
        },
        "id": "eWSEthn3Rp1k",
        "outputId": "2f79b317-6b36-4792-86d7-19f6c3e5a93f"
      },
      "source": [
        "positive_reviews=reduced_df.loc[reduced_df['Reviewer_Score'] >= 8.8]\n",
        "positive_reviews=positive_reviews.drop(columns='Negative_Review')\n",
        "positive_reviews.head(10)"
      ],
      "execution_count": 174,
      "outputs": [
        {
          "output_type": "execute_result",
          "data": {
            "text/html": [
              "<div>\n",
              "<style scoped>\n",
              "    .dataframe tbody tr th:only-of-type {\n",
              "        vertical-align: middle;\n",
              "    }\n",
              "\n",
              "    .dataframe tbody tr th {\n",
              "        vertical-align: top;\n",
              "    }\n",
              "\n",
              "    .dataframe thead th {\n",
              "        text-align: right;\n",
              "    }\n",
              "</style>\n",
              "<table border=\"1\" class=\"dataframe\">\n",
              "  <thead>\n",
              "    <tr style=\"text-align: right;\">\n",
              "      <th></th>\n",
              "      <th>Positive_Review</th>\n",
              "      <th>Reviewer_Score</th>\n",
              "    </tr>\n",
              "  </thead>\n",
              "  <tbody>\n",
              "    <tr>\n",
              "      <th>7</th>\n",
              "      <td>Good location Set in a lovely park friendly s...</td>\n",
              "      <td>10.0</td>\n",
              "    </tr>\n",
              "    <tr>\n",
              "      <th>10</th>\n",
              "      <td>Rooms were stunningly decorated and really sp...</td>\n",
              "      <td>10.0</td>\n",
              "    </tr>\n",
              "    <tr>\n",
              "      <th>13</th>\n",
              "      <td>This hotel is being renovated with great care...</td>\n",
              "      <td>9.2</td>\n",
              "    </tr>\n",
              "    <tr>\n",
              "      <th>14</th>\n",
              "      <td>It was very good very historic building that ...</td>\n",
              "      <td>8.8</td>\n",
              "    </tr>\n",
              "    <tr>\n",
              "      <th>15</th>\n",
              "      <td>This hotel is awesome I took it sincirely bec...</td>\n",
              "      <td>10.0</td>\n",
              "    </tr>\n",
              "    <tr>\n",
              "      <th>23</th>\n",
              "      <td>Bed was extremely comfy and the staff where w...</td>\n",
              "      <td>9.6</td>\n",
              "    </tr>\n",
              "    <tr>\n",
              "      <th>24</th>\n",
              "      <td>Lovely hotel with extremely comfortable huge ...</td>\n",
              "      <td>9.6</td>\n",
              "    </tr>\n",
              "    <tr>\n",
              "      <th>26</th>\n",
              "      <td>The Hotel itself is in a lovely location a 5m...</td>\n",
              "      <td>9.6</td>\n",
              "    </tr>\n",
              "    <tr>\n",
              "      <th>29</th>\n",
              "      <td>The hotel is located in a beautiful old monas...</td>\n",
              "      <td>9.2</td>\n",
              "    </tr>\n",
              "    <tr>\n",
              "      <th>30</th>\n",
              "      <td>The staff were so friendly and helpful plus t...</td>\n",
              "      <td>9.2</td>\n",
              "    </tr>\n",
              "  </tbody>\n",
              "</table>\n",
              "</div>"
            ],
            "text/plain": [
              "                                      Positive_Review  Reviewer_Score\n",
              "7    Good location Set in a lovely park friendly s...            10.0\n",
              "10   Rooms were stunningly decorated and really sp...            10.0\n",
              "13   This hotel is being renovated with great care...             9.2\n",
              "14   It was very good very historic building that ...             8.8\n",
              "15   This hotel is awesome I took it sincirely bec...            10.0\n",
              "23   Bed was extremely comfy and the staff where w...             9.6\n",
              "24   Lovely hotel with extremely comfortable huge ...             9.6\n",
              "26   The Hotel itself is in a lovely location a 5m...             9.6\n",
              "29   The hotel is located in a beautiful old monas...             9.2\n",
              "30   The staff were so friendly and helpful plus t...             9.2"
            ]
          },
          "metadata": {
            "tags": []
          },
          "execution_count": 174
        }
      ]
    },
    {
      "cell_type": "code",
      "metadata": {
        "scrolled": true,
        "colab": {
          "base_uri": "https://localhost:8080/",
          "height": 357
        },
        "id": "2L3YXt34Rp1l",
        "outputId": "7464b80c-0900-4ff5-b985-54af7d5ff682"
      },
      "source": [
        "negative_reviews=reduced_df.loc[reduced_df['Reviewer_Score'] <= 6.9]\n",
        "negative_reviews=negative_reviews.drop(columns='Positive_Review')\n",
        "negative_reviews.head(10)"
      ],
      "execution_count": 175,
      "outputs": [
        {
          "output_type": "execute_result",
          "data": {
            "text/html": [
              "<div>\n",
              "<style scoped>\n",
              "    .dataframe tbody tr th:only-of-type {\n",
              "        vertical-align: middle;\n",
              "    }\n",
              "\n",
              "    .dataframe tbody tr th {\n",
              "        vertical-align: top;\n",
              "    }\n",
              "\n",
              "    .dataframe thead th {\n",
              "        text-align: right;\n",
              "    }\n",
              "</style>\n",
              "<table border=\"1\" class=\"dataframe\">\n",
              "  <thead>\n",
              "    <tr style=\"text-align: right;\">\n",
              "      <th></th>\n",
              "      <th>Negative_Review</th>\n",
              "      <th>Reviewer_Score</th>\n",
              "    </tr>\n",
              "  </thead>\n",
              "  <tbody>\n",
              "    <tr>\n",
              "      <th>0</th>\n",
              "      <td>I am so angry that i made this post available...</td>\n",
              "      <td>2.9</td>\n",
              "    </tr>\n",
              "    <tr>\n",
              "      <th>3</th>\n",
              "      <td>My room was dirty and I was afraid to walk ba...</td>\n",
              "      <td>3.8</td>\n",
              "    </tr>\n",
              "    <tr>\n",
              "      <th>4</th>\n",
              "      <td>You When I booked with your company on line y...</td>\n",
              "      <td>6.7</td>\n",
              "    </tr>\n",
              "    <tr>\n",
              "      <th>5</th>\n",
              "      <td>Backyard of the hotel is total mess shouldn t...</td>\n",
              "      <td>6.7</td>\n",
              "    </tr>\n",
              "    <tr>\n",
              "      <th>6</th>\n",
              "      <td>Cleaner did not change our sheet and duvet ev...</td>\n",
              "      <td>4.6</td>\n",
              "    </tr>\n",
              "    <tr>\n",
              "      <th>8</th>\n",
              "      <td>Even though the pictures show very clean room...</td>\n",
              "      <td>6.5</td>\n",
              "    </tr>\n",
              "    <tr>\n",
              "      <th>11</th>\n",
              "      <td>6 30 AM started big noise workers loading woo...</td>\n",
              "      <td>5.8</td>\n",
              "    </tr>\n",
              "    <tr>\n",
              "      <th>12</th>\n",
              "      <td>The floor in my room was filfy dirty Very bas...</td>\n",
              "      <td>4.6</td>\n",
              "    </tr>\n",
              "    <tr>\n",
              "      <th>16</th>\n",
              "      <td>Very steep steps in room up to the bed not sa...</td>\n",
              "      <td>6.3</td>\n",
              "    </tr>\n",
              "    <tr>\n",
              "      <th>20</th>\n",
              "      <td>Bed was on upper level with a narrow twist st...</td>\n",
              "      <td>6.3</td>\n",
              "    </tr>\n",
              "  </tbody>\n",
              "</table>\n",
              "</div>"
            ],
            "text/plain": [
              "                                      Negative_Review  Reviewer_Score\n",
              "0    I am so angry that i made this post available...             2.9\n",
              "3    My room was dirty and I was afraid to walk ba...             3.8\n",
              "4    You When I booked with your company on line y...             6.7\n",
              "5    Backyard of the hotel is total mess shouldn t...             6.7\n",
              "6    Cleaner did not change our sheet and duvet ev...             4.6\n",
              "8    Even though the pictures show very clean room...             6.5\n",
              "11   6 30 AM started big noise workers loading woo...             5.8\n",
              "12   The floor in my room was filfy dirty Very bas...             4.6\n",
              "16   Very steep steps in room up to the bed not sa...             6.3\n",
              "20   Bed was on upper level with a narrow twist st...             6.3"
            ]
          },
          "metadata": {
            "tags": []
          },
          "execution_count": 175
        }
      ]
    },
    {
      "cell_type": "markdown",
      "metadata": {
        "id": "EO-jUpHGRp1l"
      },
      "source": [
        "### Text preprocessing"
      ]
    },
    {
      "cell_type": "markdown",
      "metadata": {
        "id": "Mynjq6hoRp1l"
      },
      "source": [
        "#### Lowercase"
      ]
    },
    {
      "cell_type": "code",
      "metadata": {
        "scrolled": false,
        "colab": {
          "base_uri": "https://localhost:8080/",
          "height": 203
        },
        "id": "nH2OcwbtRp1m",
        "outputId": "df0e5a4f-3ce9-4ba8-c027-d08a69847958"
      },
      "source": [
        "negative_reviews.loc[:,\"Negative_Review_lower\"] = negative_reviews.Negative_Review.apply(lambda x : str.lower(x))\n",
        "negative_reviews.head()"
      ],
      "execution_count": 176,
      "outputs": [
        {
          "output_type": "execute_result",
          "data": {
            "text/html": [
              "<div>\n",
              "<style scoped>\n",
              "    .dataframe tbody tr th:only-of-type {\n",
              "        vertical-align: middle;\n",
              "    }\n",
              "\n",
              "    .dataframe tbody tr th {\n",
              "        vertical-align: top;\n",
              "    }\n",
              "\n",
              "    .dataframe thead th {\n",
              "        text-align: right;\n",
              "    }\n",
              "</style>\n",
              "<table border=\"1\" class=\"dataframe\">\n",
              "  <thead>\n",
              "    <tr style=\"text-align: right;\">\n",
              "      <th></th>\n",
              "      <th>Negative_Review</th>\n",
              "      <th>Reviewer_Score</th>\n",
              "      <th>Negative_Review_lower</th>\n",
              "    </tr>\n",
              "  </thead>\n",
              "  <tbody>\n",
              "    <tr>\n",
              "      <th>0</th>\n",
              "      <td>I am so angry that i made this post available...</td>\n",
              "      <td>2.9</td>\n",
              "      <td>i am so angry that i made this post available...</td>\n",
              "    </tr>\n",
              "    <tr>\n",
              "      <th>3</th>\n",
              "      <td>My room was dirty and I was afraid to walk ba...</td>\n",
              "      <td>3.8</td>\n",
              "      <td>my room was dirty and i was afraid to walk ba...</td>\n",
              "    </tr>\n",
              "    <tr>\n",
              "      <th>4</th>\n",
              "      <td>You When I booked with your company on line y...</td>\n",
              "      <td>6.7</td>\n",
              "      <td>you when i booked with your company on line y...</td>\n",
              "    </tr>\n",
              "    <tr>\n",
              "      <th>5</th>\n",
              "      <td>Backyard of the hotel is total mess shouldn t...</td>\n",
              "      <td>6.7</td>\n",
              "      <td>backyard of the hotel is total mess shouldn t...</td>\n",
              "    </tr>\n",
              "    <tr>\n",
              "      <th>6</th>\n",
              "      <td>Cleaner did not change our sheet and duvet ev...</td>\n",
              "      <td>4.6</td>\n",
              "      <td>cleaner did not change our sheet and duvet ev...</td>\n",
              "    </tr>\n",
              "  </tbody>\n",
              "</table>\n",
              "</div>"
            ],
            "text/plain": [
              "                                     Negative_Review  ...                              Negative_Review_lower\n",
              "0   I am so angry that i made this post available...  ...   i am so angry that i made this post available...\n",
              "3   My room was dirty and I was afraid to walk ba...  ...   my room was dirty and i was afraid to walk ba...\n",
              "4   You When I booked with your company on line y...  ...   you when i booked with your company on line y...\n",
              "5   Backyard of the hotel is total mess shouldn t...  ...   backyard of the hotel is total mess shouldn t...\n",
              "6   Cleaner did not change our sheet and duvet ev...  ...   cleaner did not change our sheet and duvet ev...\n",
              "\n",
              "[5 rows x 3 columns]"
            ]
          },
          "metadata": {
            "tags": []
          },
          "execution_count": 176
        }
      ]
    },
    {
      "cell_type": "code",
      "metadata": {
        "colab": {
          "base_uri": "https://localhost:8080/",
          "height": 203
        },
        "id": "ZCzmB5hwRp1m",
        "outputId": "fbe0e8a1-8c1a-4f4f-9a5d-c32bf2ff9210"
      },
      "source": [
        "positive_reviews.loc[:,\"Positive_Review_lower\"] = positive_reviews.Positive_Review.apply(lambda x : str.lower(x))\n",
        "positive_reviews.head()"
      ],
      "execution_count": 177,
      "outputs": [
        {
          "output_type": "execute_result",
          "data": {
            "text/html": [
              "<div>\n",
              "<style scoped>\n",
              "    .dataframe tbody tr th:only-of-type {\n",
              "        vertical-align: middle;\n",
              "    }\n",
              "\n",
              "    .dataframe tbody tr th {\n",
              "        vertical-align: top;\n",
              "    }\n",
              "\n",
              "    .dataframe thead th {\n",
              "        text-align: right;\n",
              "    }\n",
              "</style>\n",
              "<table border=\"1\" class=\"dataframe\">\n",
              "  <thead>\n",
              "    <tr style=\"text-align: right;\">\n",
              "      <th></th>\n",
              "      <th>Positive_Review</th>\n",
              "      <th>Reviewer_Score</th>\n",
              "      <th>Positive_Review_lower</th>\n",
              "    </tr>\n",
              "  </thead>\n",
              "  <tbody>\n",
              "    <tr>\n",
              "      <th>7</th>\n",
              "      <td>Good location Set in a lovely park friendly s...</td>\n",
              "      <td>10.0</td>\n",
              "      <td>good location set in a lovely park friendly s...</td>\n",
              "    </tr>\n",
              "    <tr>\n",
              "      <th>10</th>\n",
              "      <td>Rooms were stunningly decorated and really sp...</td>\n",
              "      <td>10.0</td>\n",
              "      <td>rooms were stunningly decorated and really sp...</td>\n",
              "    </tr>\n",
              "    <tr>\n",
              "      <th>13</th>\n",
              "      <td>This hotel is being renovated with great care...</td>\n",
              "      <td>9.2</td>\n",
              "      <td>this hotel is being renovated with great care...</td>\n",
              "    </tr>\n",
              "    <tr>\n",
              "      <th>14</th>\n",
              "      <td>It was very good very historic building that ...</td>\n",
              "      <td>8.8</td>\n",
              "      <td>it was very good very historic building that ...</td>\n",
              "    </tr>\n",
              "    <tr>\n",
              "      <th>15</th>\n",
              "      <td>This hotel is awesome I took it sincirely bec...</td>\n",
              "      <td>10.0</td>\n",
              "      <td>this hotel is awesome i took it sincirely bec...</td>\n",
              "    </tr>\n",
              "  </tbody>\n",
              "</table>\n",
              "</div>"
            ],
            "text/plain": [
              "                                      Positive_Review  ...                              Positive_Review_lower\n",
              "7    Good location Set in a lovely park friendly s...  ...   good location set in a lovely park friendly s...\n",
              "10   Rooms were stunningly decorated and really sp...  ...   rooms were stunningly decorated and really sp...\n",
              "13   This hotel is being renovated with great care...  ...   this hotel is being renovated with great care...\n",
              "14   It was very good very historic building that ...  ...   it was very good very historic building that ...\n",
              "15   This hotel is awesome I took it sincirely bec...  ...   this hotel is awesome i took it sincirely bec...\n",
              "\n",
              "[5 rows x 3 columns]"
            ]
          },
          "metadata": {
            "tags": []
          },
          "execution_count": 177
        }
      ]
    },
    {
      "cell_type": "markdown",
      "metadata": {
        "id": "w0z6P0XkRp1m"
      },
      "source": [
        "#### Stopwords"
      ]
    },
    {
      "cell_type": "code",
      "metadata": {
        "colab": {
          "base_uri": "https://localhost:8080/"
        },
        "id": "v3-wLaLqDnPB",
        "outputId": "7b0d484d-2ed7-4515-8dc9-c22457e61253"
      },
      "source": [
        "import nltk\n",
        "\n",
        "nltk.download('stopwords')\n",
        "nltk.download('punkt')"
      ],
      "execution_count": 178,
      "outputs": [
        {
          "output_type": "stream",
          "text": [
            "[nltk_data] Downloading package stopwords to /root/nltk_data...\n",
            "[nltk_data]   Package stopwords is already up-to-date!\n",
            "[nltk_data] Downloading package punkt to /root/nltk_data...\n",
            "[nltk_data]   Package punkt is already up-to-date!\n"
          ],
          "name": "stdout"
        },
        {
          "output_type": "execute_result",
          "data": {
            "text/plain": [
              "True"
            ]
          },
          "metadata": {
            "tags": []
          },
          "execution_count": 178
        }
      ]
    },
    {
      "cell_type": "code",
      "metadata": {
        "scrolled": true,
        "colab": {
          "base_uri": "https://localhost:8080/",
          "height": 203
        },
        "id": "pR49uq0JRp1n",
        "outputId": "d59a3a83-205e-40ee-ca7b-bfd5ec997820"
      },
      "source": [
        "from nltk.corpus import stopwords \n",
        "\n",
        "stop_words = set(stopwords.words('english')) \n",
        "\n",
        "def remove_stopWords(s):\n",
        "    s = ' '.join(word for word in s.split() if word not in stop_words)\n",
        "    return s\n",
        "\n",
        "negative_reviews.loc[:,\"Negative_Review_lower\"] = negative_reviews.Negative_Review_lower.apply(lambda x: remove_stopWords(x))\n",
        "\n",
        "negative_reviews.head()"
      ],
      "execution_count": 179,
      "outputs": [
        {
          "output_type": "execute_result",
          "data": {
            "text/html": [
              "<div>\n",
              "<style scoped>\n",
              "    .dataframe tbody tr th:only-of-type {\n",
              "        vertical-align: middle;\n",
              "    }\n",
              "\n",
              "    .dataframe tbody tr th {\n",
              "        vertical-align: top;\n",
              "    }\n",
              "\n",
              "    .dataframe thead th {\n",
              "        text-align: right;\n",
              "    }\n",
              "</style>\n",
              "<table border=\"1\" class=\"dataframe\">\n",
              "  <thead>\n",
              "    <tr style=\"text-align: right;\">\n",
              "      <th></th>\n",
              "      <th>Negative_Review</th>\n",
              "      <th>Reviewer_Score</th>\n",
              "      <th>Negative_Review_lower</th>\n",
              "    </tr>\n",
              "  </thead>\n",
              "  <tbody>\n",
              "    <tr>\n",
              "      <th>0</th>\n",
              "      <td>I am so angry that i made this post available...</td>\n",
              "      <td>2.9</td>\n",
              "      <td>angry made post available via possible sites u...</td>\n",
              "    </tr>\n",
              "    <tr>\n",
              "      <th>3</th>\n",
              "      <td>My room was dirty and I was afraid to walk ba...</td>\n",
              "      <td>3.8</td>\n",
              "      <td>room dirty afraid walk barefoot floor looked c...</td>\n",
              "    </tr>\n",
              "    <tr>\n",
              "      <th>4</th>\n",
              "      <td>You When I booked with your company on line y...</td>\n",
              "      <td>6.7</td>\n",
              "      <td>booked company line showed pictures room thoug...</td>\n",
              "    </tr>\n",
              "    <tr>\n",
              "      <th>5</th>\n",
              "      <td>Backyard of the hotel is total mess shouldn t...</td>\n",
              "      <td>6.7</td>\n",
              "      <td>backyard hotel total mess happen hotel 4 stars</td>\n",
              "    </tr>\n",
              "    <tr>\n",
              "      <th>6</th>\n",
              "      <td>Cleaner did not change our sheet and duvet ev...</td>\n",
              "      <td>4.6</td>\n",
              "      <td>cleaner change sheet duvet everyday made bed a...</td>\n",
              "    </tr>\n",
              "  </tbody>\n",
              "</table>\n",
              "</div>"
            ],
            "text/plain": [
              "                                     Negative_Review  ...                              Negative_Review_lower\n",
              "0   I am so angry that i made this post available...  ...  angry made post available via possible sites u...\n",
              "3   My room was dirty and I was afraid to walk ba...  ...  room dirty afraid walk barefoot floor looked c...\n",
              "4   You When I booked with your company on line y...  ...  booked company line showed pictures room thoug...\n",
              "5   Backyard of the hotel is total mess shouldn t...  ...     backyard hotel total mess happen hotel 4 stars\n",
              "6   Cleaner did not change our sheet and duvet ev...  ...  cleaner change sheet duvet everyday made bed a...\n",
              "\n",
              "[5 rows x 3 columns]"
            ]
          },
          "metadata": {
            "tags": []
          },
          "execution_count": 179
        }
      ]
    },
    {
      "cell_type": "code",
      "metadata": {
        "colab": {
          "base_uri": "https://localhost:8080/",
          "height": 203
        },
        "id": "_MW64Ri-Rp1n",
        "outputId": "b38a8a72-2bfc-4050-dffa-45265a8b4c58"
      },
      "source": [
        "positive_reviews.loc[:,\"Positive_Review_lower\"] = positive_reviews.Positive_Review_lower.apply(lambda x: remove_stopWords(x))\n",
        "positive_reviews.head()"
      ],
      "execution_count": 180,
      "outputs": [
        {
          "output_type": "execute_result",
          "data": {
            "text/html": [
              "<div>\n",
              "<style scoped>\n",
              "    .dataframe tbody tr th:only-of-type {\n",
              "        vertical-align: middle;\n",
              "    }\n",
              "\n",
              "    .dataframe tbody tr th {\n",
              "        vertical-align: top;\n",
              "    }\n",
              "\n",
              "    .dataframe thead th {\n",
              "        text-align: right;\n",
              "    }\n",
              "</style>\n",
              "<table border=\"1\" class=\"dataframe\">\n",
              "  <thead>\n",
              "    <tr style=\"text-align: right;\">\n",
              "      <th></th>\n",
              "      <th>Positive_Review</th>\n",
              "      <th>Reviewer_Score</th>\n",
              "      <th>Positive_Review_lower</th>\n",
              "    </tr>\n",
              "  </thead>\n",
              "  <tbody>\n",
              "    <tr>\n",
              "      <th>7</th>\n",
              "      <td>Good location Set in a lovely park friendly s...</td>\n",
              "      <td>10.0</td>\n",
              "      <td>good location set lovely park friendly staff f...</td>\n",
              "    </tr>\n",
              "    <tr>\n",
              "      <th>10</th>\n",
              "      <td>Rooms were stunningly decorated and really sp...</td>\n",
              "      <td>10.0</td>\n",
              "      <td>rooms stunningly decorated really spacious top...</td>\n",
              "    </tr>\n",
              "    <tr>\n",
              "      <th>13</th>\n",
              "      <td>This hotel is being renovated with great care...</td>\n",
              "      <td>9.2</td>\n",
              "      <td>hotel renovated great care appreciation unique...</td>\n",
              "    </tr>\n",
              "    <tr>\n",
              "      <th>14</th>\n",
              "      <td>It was very good very historic building that ...</td>\n",
              "      <td>8.8</td>\n",
              "      <td>good historic building chose</td>\n",
              "    </tr>\n",
              "    <tr>\n",
              "      <th>15</th>\n",
              "      <td>This hotel is awesome I took it sincirely bec...</td>\n",
              "      <td>10.0</td>\n",
              "      <td>hotel awesome took sincirely bit cheaper struc...</td>\n",
              "    </tr>\n",
              "  </tbody>\n",
              "</table>\n",
              "</div>"
            ],
            "text/plain": [
              "                                      Positive_Review  ...                              Positive_Review_lower\n",
              "7    Good location Set in a lovely park friendly s...  ...  good location set lovely park friendly staff f...\n",
              "10   Rooms were stunningly decorated and really sp...  ...  rooms stunningly decorated really spacious top...\n",
              "13   This hotel is being renovated with great care...  ...  hotel renovated great care appreciation unique...\n",
              "14   It was very good very historic building that ...  ...                       good historic building chose\n",
              "15   This hotel is awesome I took it sincirely bec...  ...  hotel awesome took sincirely bit cheaper struc...\n",
              "\n",
              "[5 rows x 3 columns]"
            ]
          },
          "metadata": {
            "tags": []
          },
          "execution_count": 180
        }
      ]
    },
    {
      "cell_type": "code",
      "metadata": {
        "colab": {
          "base_uri": "https://localhost:8080/"
        },
        "id": "vnmpUByQRp1n",
        "outputId": "753e2128-9bc7-4431-be28-8cba65169d48"
      },
      "source": [
        "print(stop_words)"
      ],
      "execution_count": 181,
      "outputs": [
        {
          "output_type": "stream",
          "text": [
            "{'no', 'do', 'too', \"you'd\", 've', 'further', 'am', 'most', \"should've\", 'theirs', 'more', 'down', \"wasn't\", 'where', 'into', 'o', 'i', 'ourselves', 'your', 'will', 'didn', \"you've\", \"aren't\", 'himself', 'these', 'but', 'those', 'this', 'before', \"haven't\", 'weren', 'above', 'myself', 'now', 'for', 'once', 'd', 'have', \"needn't\", 'at', 'just', 'haven', \"mustn't\", \"you're\", \"she's\", 'through', 'had', \"it's\", \"won't\", 'against', 'than', 'our', 'him', 'off', 'any', 'nor', 'by', 'and', 'wouldn', 'did', 'other', 'should', 'their', 'being', 'all', 'were', 'he', 'an', 'doing', 'of', 'that', 'then', 'you', 'both', 'ain', 's', 'hadn', 'only', 'shouldn', 'with', 'to', 'itself', 'if', 'over', 'ours', 'up', \"that'll\", 'under', 'out', 'they', 'between', \"mightn't\", 'very', 'we', 't', 'in', 'is', 'isn', 'how', 'it', 'yourself', 'does', 'them', 'was', \"you'll\", 'the', 'about', 'whom', 'shan', 'from', 'when', \"wouldn't\", 'my', 'be', 'while', 'so', 'having', 'can', 'here', 'she', 'won', \"shouldn't\", \"shan't\", 'hers', 'has', 'her', 'own', 'same', 'what', 'aren', 'yourselves', 'ma', \"doesn't\", \"didn't\", 'themselves', 'herself', 'or', 'm', 'mightn', 'a', \"hasn't\", 'me', \"isn't\", 'below', 'been', 'll', \"hadn't\", 'as', 'who', 'couldn', 'because', 're', 'few', \"don't\", 'y', 'after', 'its', 'hasn', \"weren't\", \"couldn't\", 'which', 'are', 'not', 'mustn', 'needn', 'there', 'again', 'doesn', 'his', 'don', 'why', 'wasn', 'on', 'each', 'until', 'some', 'such', 'yours', 'during'}\n"
          ],
          "name": "stdout"
        }
      ]
    },
    {
      "cell_type": "markdown",
      "metadata": {
        "id": "EfGOlwyHRp1n"
      },
      "source": [
        "#### Tokenizing"
      ]
    },
    {
      "cell_type": "code",
      "metadata": {
        "colab": {
          "base_uri": "https://localhost:8080/",
          "height": 203
        },
        "id": "sZTNiNs7Rp1o",
        "outputId": "b9198e6c-4d63-4111-84bf-d4db6459e268"
      },
      "source": [
        "# nltk tokenize method\n",
        "\n",
        "\n",
        "\n",
        "# def identify_tokens(row):\n",
        "#     neg_tokens = nltk.word_tokenize(row)\n",
        "#     # taken only words (not punctuation)\n",
        "#     neg_token_words = [w for w in neg_tokens if w.isalpha()]\n",
        "#     return neg_token_words\n",
        "\n",
        "def identify_neg_tokens(row):\n",
        "    neg_review = row['Negative_Review_lower']\n",
        "    neg_tokens = nltk.word_tokenize(neg_review)\n",
        "    # taken only words (not punctuation)\n",
        "    neg_token_words = [w for w in neg_tokens if w.isalpha()]\n",
        "    return neg_token_words\n",
        "\n",
        "negative_reviews['Negative_Review_tokens'] = negative_reviews.apply(identify_neg_tokens, axis=1)\n",
        "negative_reviews.head()"
      ],
      "execution_count": 182,
      "outputs": [
        {
          "output_type": "execute_result",
          "data": {
            "text/html": [
              "<div>\n",
              "<style scoped>\n",
              "    .dataframe tbody tr th:only-of-type {\n",
              "        vertical-align: middle;\n",
              "    }\n",
              "\n",
              "    .dataframe tbody tr th {\n",
              "        vertical-align: top;\n",
              "    }\n",
              "\n",
              "    .dataframe thead th {\n",
              "        text-align: right;\n",
              "    }\n",
              "</style>\n",
              "<table border=\"1\" class=\"dataframe\">\n",
              "  <thead>\n",
              "    <tr style=\"text-align: right;\">\n",
              "      <th></th>\n",
              "      <th>Negative_Review</th>\n",
              "      <th>Reviewer_Score</th>\n",
              "      <th>Negative_Review_lower</th>\n",
              "      <th>Negative_Review_tokens</th>\n",
              "    </tr>\n",
              "  </thead>\n",
              "  <tbody>\n",
              "    <tr>\n",
              "      <th>0</th>\n",
              "      <td>I am so angry that i made this post available...</td>\n",
              "      <td>2.9</td>\n",
              "      <td>angry made post available via possible sites u...</td>\n",
              "      <td>[angry, made, post, available, via, possible, ...</td>\n",
              "    </tr>\n",
              "    <tr>\n",
              "      <th>3</th>\n",
              "      <td>My room was dirty and I was afraid to walk ba...</td>\n",
              "      <td>3.8</td>\n",
              "      <td>room dirty afraid walk barefoot floor looked c...</td>\n",
              "      <td>[room, dirty, afraid, walk, barefoot, floor, l...</td>\n",
              "    </tr>\n",
              "    <tr>\n",
              "      <th>4</th>\n",
              "      <td>You When I booked with your company on line y...</td>\n",
              "      <td>6.7</td>\n",
              "      <td>booked company line showed pictures room thoug...</td>\n",
              "      <td>[booked, company, line, showed, pictures, room...</td>\n",
              "    </tr>\n",
              "    <tr>\n",
              "      <th>5</th>\n",
              "      <td>Backyard of the hotel is total mess shouldn t...</td>\n",
              "      <td>6.7</td>\n",
              "      <td>backyard hotel total mess happen hotel 4 stars</td>\n",
              "      <td>[backyard, hotel, total, mess, happen, hotel, ...</td>\n",
              "    </tr>\n",
              "    <tr>\n",
              "      <th>6</th>\n",
              "      <td>Cleaner did not change our sheet and duvet ev...</td>\n",
              "      <td>4.6</td>\n",
              "      <td>cleaner change sheet duvet everyday made bed a...</td>\n",
              "      <td>[cleaner, change, sheet, duvet, everyday, made...</td>\n",
              "    </tr>\n",
              "  </tbody>\n",
              "</table>\n",
              "</div>"
            ],
            "text/plain": [
              "                                     Negative_Review  ...                             Negative_Review_tokens\n",
              "0   I am so angry that i made this post available...  ...  [angry, made, post, available, via, possible, ...\n",
              "3   My room was dirty and I was afraid to walk ba...  ...  [room, dirty, afraid, walk, barefoot, floor, l...\n",
              "4   You When I booked with your company on line y...  ...  [booked, company, line, showed, pictures, room...\n",
              "5   Backyard of the hotel is total mess shouldn t...  ...  [backyard, hotel, total, mess, happen, hotel, ...\n",
              "6   Cleaner did not change our sheet and duvet ev...  ...  [cleaner, change, sheet, duvet, everyday, made...\n",
              "\n",
              "[5 rows x 4 columns]"
            ]
          },
          "metadata": {
            "tags": []
          },
          "execution_count": 182
        }
      ]
    },
    {
      "cell_type": "code",
      "metadata": {
        "scrolled": true,
        "colab": {
          "base_uri": "https://localhost:8080/",
          "height": 203
        },
        "id": "1d_InSaURp1o",
        "outputId": "161d4c10-768e-4377-ee75-127a8db4e5fe"
      },
      "source": [
        "def identify_pos_tokens(row):\n",
        "    pos_review = row['Positive_Review_lower']\n",
        "    pos_tokens = nltk.word_tokenize(pos_review)\n",
        "    # taken only words (not punctuation)\n",
        "    pos_token_words = [w for w in pos_tokens if w.isalpha()]\n",
        "    return pos_token_words\n",
        "\n",
        "positive_reviews['Positive_Review_tokens'] = positive_reviews.apply(identify_pos_tokens, axis=1)\n",
        "positive_reviews.head()"
      ],
      "execution_count": 183,
      "outputs": [
        {
          "output_type": "execute_result",
          "data": {
            "text/html": [
              "<div>\n",
              "<style scoped>\n",
              "    .dataframe tbody tr th:only-of-type {\n",
              "        vertical-align: middle;\n",
              "    }\n",
              "\n",
              "    .dataframe tbody tr th {\n",
              "        vertical-align: top;\n",
              "    }\n",
              "\n",
              "    .dataframe thead th {\n",
              "        text-align: right;\n",
              "    }\n",
              "</style>\n",
              "<table border=\"1\" class=\"dataframe\">\n",
              "  <thead>\n",
              "    <tr style=\"text-align: right;\">\n",
              "      <th></th>\n",
              "      <th>Positive_Review</th>\n",
              "      <th>Reviewer_Score</th>\n",
              "      <th>Positive_Review_lower</th>\n",
              "      <th>Positive_Review_tokens</th>\n",
              "    </tr>\n",
              "  </thead>\n",
              "  <tbody>\n",
              "    <tr>\n",
              "      <th>7</th>\n",
              "      <td>Good location Set in a lovely park friendly s...</td>\n",
              "      <td>10.0</td>\n",
              "      <td>good location set lovely park friendly staff f...</td>\n",
              "      <td>[good, location, set, lovely, park, friendly, ...</td>\n",
              "    </tr>\n",
              "    <tr>\n",
              "      <th>10</th>\n",
              "      <td>Rooms were stunningly decorated and really sp...</td>\n",
              "      <td>10.0</td>\n",
              "      <td>rooms stunningly decorated really spacious top...</td>\n",
              "      <td>[rooms, stunningly, decorated, really, spaciou...</td>\n",
              "    </tr>\n",
              "    <tr>\n",
              "      <th>13</th>\n",
              "      <td>This hotel is being renovated with great care...</td>\n",
              "      <td>9.2</td>\n",
              "      <td>hotel renovated great care appreciation unique...</td>\n",
              "      <td>[hotel, renovated, great, care, appreciation, ...</td>\n",
              "    </tr>\n",
              "    <tr>\n",
              "      <th>14</th>\n",
              "      <td>It was very good very historic building that ...</td>\n",
              "      <td>8.8</td>\n",
              "      <td>good historic building chose</td>\n",
              "      <td>[good, historic, building, chose]</td>\n",
              "    </tr>\n",
              "    <tr>\n",
              "      <th>15</th>\n",
              "      <td>This hotel is awesome I took it sincirely bec...</td>\n",
              "      <td>10.0</td>\n",
              "      <td>hotel awesome took sincirely bit cheaper struc...</td>\n",
              "      <td>[hotel, awesome, took, sincirely, bit, cheaper...</td>\n",
              "    </tr>\n",
              "  </tbody>\n",
              "</table>\n",
              "</div>"
            ],
            "text/plain": [
              "                                      Positive_Review  ...                             Positive_Review_tokens\n",
              "7    Good location Set in a lovely park friendly s...  ...  [good, location, set, lovely, park, friendly, ...\n",
              "10   Rooms were stunningly decorated and really sp...  ...  [rooms, stunningly, decorated, really, spaciou...\n",
              "13   This hotel is being renovated with great care...  ...  [hotel, renovated, great, care, appreciation, ...\n",
              "14   It was very good very historic building that ...  ...                  [good, historic, building, chose]\n",
              "15   This hotel is awesome I took it sincirely bec...  ...  [hotel, awesome, took, sincirely, bit, cheaper...\n",
              "\n",
              "[5 rows x 4 columns]"
            ]
          },
          "metadata": {
            "tags": []
          },
          "execution_count": 183
        }
      ]
    },
    {
      "cell_type": "markdown",
      "metadata": {
        "id": "9atmaMUFRp1o"
      },
      "source": [
        "#### Stemming"
      ]
    },
    {
      "cell_type": "code",
      "metadata": {
        "scrolled": true,
        "colab": {
          "base_uri": "https://localhost:8080/",
          "height": 237
        },
        "id": "VeTP0l2TRp1o",
        "outputId": "a1582b25-f9e6-4dac-df6d-c0bf20ef577e"
      },
      "source": [
        "from nltk.stem import PorterStemmer\n",
        "stemming = PorterStemmer()\n",
        "\n",
        "def neg_stem_list(row):\n",
        "    my_list = row['Negative_Review_tokens']\n",
        "    stemmed_list = [stemming.stem(word) for word in my_list]\n",
        "    return (stemmed_list)\n",
        "\n",
        "negative_reviews['Negative_Review_Stemmed'] = negative_reviews.apply(neg_stem_list, axis=1)\n",
        "negative_reviews.head()"
      ],
      "execution_count": 184,
      "outputs": [
        {
          "output_type": "execute_result",
          "data": {
            "text/html": [
              "<div>\n",
              "<style scoped>\n",
              "    .dataframe tbody tr th:only-of-type {\n",
              "        vertical-align: middle;\n",
              "    }\n",
              "\n",
              "    .dataframe tbody tr th {\n",
              "        vertical-align: top;\n",
              "    }\n",
              "\n",
              "    .dataframe thead th {\n",
              "        text-align: right;\n",
              "    }\n",
              "</style>\n",
              "<table border=\"1\" class=\"dataframe\">\n",
              "  <thead>\n",
              "    <tr style=\"text-align: right;\">\n",
              "      <th></th>\n",
              "      <th>Negative_Review</th>\n",
              "      <th>Reviewer_Score</th>\n",
              "      <th>Negative_Review_lower</th>\n",
              "      <th>Negative_Review_tokens</th>\n",
              "      <th>Negative_Review_Stemmed</th>\n",
              "    </tr>\n",
              "  </thead>\n",
              "  <tbody>\n",
              "    <tr>\n",
              "      <th>0</th>\n",
              "      <td>I am so angry that i made this post available...</td>\n",
              "      <td>2.9</td>\n",
              "      <td>angry made post available via possible sites u...</td>\n",
              "      <td>[angry, made, post, available, via, possible, ...</td>\n",
              "      <td>[angri, made, post, avail, via, possibl, site,...</td>\n",
              "    </tr>\n",
              "    <tr>\n",
              "      <th>3</th>\n",
              "      <td>My room was dirty and I was afraid to walk ba...</td>\n",
              "      <td>3.8</td>\n",
              "      <td>room dirty afraid walk barefoot floor looked c...</td>\n",
              "      <td>[room, dirty, afraid, walk, barefoot, floor, l...</td>\n",
              "      <td>[room, dirti, afraid, walk, barefoot, floor, l...</td>\n",
              "    </tr>\n",
              "    <tr>\n",
              "      <th>4</th>\n",
              "      <td>You When I booked with your company on line y...</td>\n",
              "      <td>6.7</td>\n",
              "      <td>booked company line showed pictures room thoug...</td>\n",
              "      <td>[booked, company, line, showed, pictures, room...</td>\n",
              "      <td>[book, compani, line, show, pictur, room, thou...</td>\n",
              "    </tr>\n",
              "    <tr>\n",
              "      <th>5</th>\n",
              "      <td>Backyard of the hotel is total mess shouldn t...</td>\n",
              "      <td>6.7</td>\n",
              "      <td>backyard hotel total mess happen hotel 4 stars</td>\n",
              "      <td>[backyard, hotel, total, mess, happen, hotel, ...</td>\n",
              "      <td>[backyard, hotel, total, mess, happen, hotel, ...</td>\n",
              "    </tr>\n",
              "    <tr>\n",
              "      <th>6</th>\n",
              "      <td>Cleaner did not change our sheet and duvet ev...</td>\n",
              "      <td>4.6</td>\n",
              "      <td>cleaner change sheet duvet everyday made bed a...</td>\n",
              "      <td>[cleaner, change, sheet, duvet, everyday, made...</td>\n",
              "      <td>[cleaner, chang, sheet, duvet, everyday, made,...</td>\n",
              "    </tr>\n",
              "  </tbody>\n",
              "</table>\n",
              "</div>"
            ],
            "text/plain": [
              "                                     Negative_Review  ...                            Negative_Review_Stemmed\n",
              "0   I am so angry that i made this post available...  ...  [angri, made, post, avail, via, possibl, site,...\n",
              "3   My room was dirty and I was afraid to walk ba...  ...  [room, dirti, afraid, walk, barefoot, floor, l...\n",
              "4   You When I booked with your company on line y...  ...  [book, compani, line, show, pictur, room, thou...\n",
              "5   Backyard of the hotel is total mess shouldn t...  ...  [backyard, hotel, total, mess, happen, hotel, ...\n",
              "6   Cleaner did not change our sheet and duvet ev...  ...  [cleaner, chang, sheet, duvet, everyday, made,...\n",
              "\n",
              "[5 rows x 5 columns]"
            ]
          },
          "metadata": {
            "tags": []
          },
          "execution_count": 184
        }
      ]
    },
    {
      "cell_type": "code",
      "metadata": {
        "colab": {
          "base_uri": "https://localhost:8080/",
          "height": 203
        },
        "id": "cCHw33QdRp1p",
        "outputId": "1f986cb4-b279-4302-c75c-e82326807fd8"
      },
      "source": [
        "def pos_stem_list(row):\n",
        "    my_list = row['Positive_Review_tokens']\n",
        "    stemmed_list = [stemming.stem(word) for word in my_list]\n",
        "    return (stemmed_list)\n",
        "\n",
        "positive_reviews['Positive_Review_Stemmed'] = positive_reviews.apply(pos_stem_list, axis=1)\n",
        "positive_reviews.head()"
      ],
      "execution_count": 185,
      "outputs": [
        {
          "output_type": "execute_result",
          "data": {
            "text/html": [
              "<div>\n",
              "<style scoped>\n",
              "    .dataframe tbody tr th:only-of-type {\n",
              "        vertical-align: middle;\n",
              "    }\n",
              "\n",
              "    .dataframe tbody tr th {\n",
              "        vertical-align: top;\n",
              "    }\n",
              "\n",
              "    .dataframe thead th {\n",
              "        text-align: right;\n",
              "    }\n",
              "</style>\n",
              "<table border=\"1\" class=\"dataframe\">\n",
              "  <thead>\n",
              "    <tr style=\"text-align: right;\">\n",
              "      <th></th>\n",
              "      <th>Positive_Review</th>\n",
              "      <th>Reviewer_Score</th>\n",
              "      <th>Positive_Review_lower</th>\n",
              "      <th>Positive_Review_tokens</th>\n",
              "      <th>Positive_Review_Stemmed</th>\n",
              "    </tr>\n",
              "  </thead>\n",
              "  <tbody>\n",
              "    <tr>\n",
              "      <th>7</th>\n",
              "      <td>Good location Set in a lovely park friendly s...</td>\n",
              "      <td>10.0</td>\n",
              "      <td>good location set lovely park friendly staff f...</td>\n",
              "      <td>[good, location, set, lovely, park, friendly, ...</td>\n",
              "      <td>[good, locat, set, love, park, friendli, staff...</td>\n",
              "    </tr>\n",
              "    <tr>\n",
              "      <th>10</th>\n",
              "      <td>Rooms were stunningly decorated and really sp...</td>\n",
              "      <td>10.0</td>\n",
              "      <td>rooms stunningly decorated really spacious top...</td>\n",
              "      <td>[rooms, stunningly, decorated, really, spaciou...</td>\n",
              "      <td>[room, stunningli, decor, realli, spaciou, top...</td>\n",
              "    </tr>\n",
              "    <tr>\n",
              "      <th>13</th>\n",
              "      <td>This hotel is being renovated with great care...</td>\n",
              "      <td>9.2</td>\n",
              "      <td>hotel renovated great care appreciation unique...</td>\n",
              "      <td>[hotel, renovated, great, care, appreciation, ...</td>\n",
              "      <td>[hotel, renov, great, care, appreci, uniqu, st...</td>\n",
              "    </tr>\n",
              "    <tr>\n",
              "      <th>14</th>\n",
              "      <td>It was very good very historic building that ...</td>\n",
              "      <td>8.8</td>\n",
              "      <td>good historic building chose</td>\n",
              "      <td>[good, historic, building, chose]</td>\n",
              "      <td>[good, histor, build, chose]</td>\n",
              "    </tr>\n",
              "    <tr>\n",
              "      <th>15</th>\n",
              "      <td>This hotel is awesome I took it sincirely bec...</td>\n",
              "      <td>10.0</td>\n",
              "      <td>hotel awesome took sincirely bit cheaper struc...</td>\n",
              "      <td>[hotel, awesome, took, sincirely, bit, cheaper...</td>\n",
              "      <td>[hotel, awesom, took, sincir, bit, cheaper, st...</td>\n",
              "    </tr>\n",
              "  </tbody>\n",
              "</table>\n",
              "</div>"
            ],
            "text/plain": [
              "                                      Positive_Review  ...                            Positive_Review_Stemmed\n",
              "7    Good location Set in a lovely park friendly s...  ...  [good, locat, set, love, park, friendli, staff...\n",
              "10   Rooms were stunningly decorated and really sp...  ...  [room, stunningli, decor, realli, spaciou, top...\n",
              "13   This hotel is being renovated with great care...  ...  [hotel, renov, great, care, appreci, uniqu, st...\n",
              "14   It was very good very historic building that ...  ...                       [good, histor, build, chose]\n",
              "15   This hotel is awesome I took it sincirely bec...  ...  [hotel, awesom, took, sincir, bit, cheaper, st...\n",
              "\n",
              "[5 rows x 5 columns]"
            ]
          },
          "metadata": {
            "tags": []
          },
          "execution_count": 185
        }
      ]
    },
    {
      "cell_type": "markdown",
      "metadata": {
        "id": "_8yHoVxRQbLm"
      },
      "source": [
        "#Whole preprocessing pipeline"
      ]
    },
    {
      "cell_type": "code",
      "metadata": {
        "id": "4IfJJdI_QeaN"
      },
      "source": [
        "def preprocess(opinion):\n",
        "  opinion = str.lower(opinion)\n",
        "  opinion = remove_stopWords(opinion)\n",
        "  opinion = [stemming.stem(word) for word in nltk.word_tokenize(opinion) if word.isalpha()]\n",
        "  return opinion"
      ],
      "execution_count": 212,
      "outputs": []
    },
    {
      "cell_type": "code",
      "metadata": {
        "colab": {
          "base_uri": "https://localhost:8080/",
          "height": 120
        },
        "id": "yG-H_xJZRFK0",
        "outputId": "a2350d73-d48a-41c6-8eb6-7177dea9fe2c"
      },
      "source": [
        "negative_reviews.Negative_Review[0]"
      ],
      "execution_count": 213,
      "outputs": [
        {
          "output_type": "execute_result",
          "data": {
            "application/vnd.google.colaboratory.intrinsic+json": {
              "type": "string"
            },
            "text/plain": [
              "' I am so angry that i made this post available via all possible sites i use when planing my trips so no one will make the mistake of booking this place I made my booking via booking com We stayed for 6 nights in this hotel from 11 to 17 July Upon arrival we were placed in a small room on the 2nd floor of the hotel It turned out that this was not the room we booked I had specially reserved the 2 level duplex room so that we would have a big windows and high ceilings The room itself was ok if you don t mind the broken window that can not be closed hello rain and a mini fridge that contained some sort of a bio weapon at least i guessed so by the smell of it I intimately asked to change the room and after explaining 2 times that i booked a duplex btw it costs the same as a simple double but got way more volume due to the high ceiling was offered a room but only the next day SO i had to check out the next day before 11 o clock in order to get the room i waned to Not the best way to begin your holiday So we had to wait till 13 00 in order to check in my new room what a wonderful waist of my time The room 023 i got was just as i wanted to peaceful internal garden view big window We were tired from waiting the room so we placed our belongings and rushed to the city In the evening it turned out that there was a constant noise in the room i guess it was made by vibrating vent tubes or something it was constant and annoying as hell AND it did not stop even at 2 am making it hard to fall asleep for me and my wife I have an audio recording that i can not attach here but if you want i can send it via e mail The next day the technician came but was not able to determine the cause of the disturbing sound so i was offered to change the room once again the hotel was fully booked and they had only 1 room left the one that was smaller but seems newer '"
            ]
          },
          "metadata": {
            "tags": []
          },
          "execution_count": 213
        }
      ]
    },
    {
      "cell_type": "code",
      "metadata": {
        "colab": {
          "base_uri": "https://localhost:8080/"
        },
        "id": "zDVOQCMjQufd",
        "outputId": "a4723e6e-3357-4d86-e7f0-64278bc7b056"
      },
      "source": [
        "preprocess(negative_reviews.Negative_Review[0])"
      ],
      "execution_count": 214,
      "outputs": [
        {
          "output_type": "execute_result",
          "data": {
            "text/plain": [
              "['angri',\n",
              " 'made',\n",
              " 'post',\n",
              " 'avail',\n",
              " 'via',\n",
              " 'possibl',\n",
              " 'site',\n",
              " 'use',\n",
              " 'plane',\n",
              " 'trip',\n",
              " 'one',\n",
              " 'make',\n",
              " 'mistak',\n",
              " 'book',\n",
              " 'place',\n",
              " 'made',\n",
              " 'book',\n",
              " 'via',\n",
              " 'book',\n",
              " 'com',\n",
              " 'stay',\n",
              " 'night',\n",
              " 'hotel',\n",
              " 'juli',\n",
              " 'upon',\n",
              " 'arriv',\n",
              " 'place',\n",
              " 'small',\n",
              " 'room',\n",
              " 'floor',\n",
              " 'hotel',\n",
              " 'turn',\n",
              " 'room',\n",
              " 'book',\n",
              " 'special',\n",
              " 'reserv',\n",
              " 'level',\n",
              " 'duplex',\n",
              " 'room',\n",
              " 'would',\n",
              " 'big',\n",
              " 'window',\n",
              " 'high',\n",
              " 'ceil',\n",
              " 'room',\n",
              " 'ok',\n",
              " 'mind',\n",
              " 'broken',\n",
              " 'window',\n",
              " 'close',\n",
              " 'hello',\n",
              " 'rain',\n",
              " 'mini',\n",
              " 'fridg',\n",
              " 'contain',\n",
              " 'sort',\n",
              " 'bio',\n",
              " 'weapon',\n",
              " 'least',\n",
              " 'guess',\n",
              " 'smell',\n",
              " 'intim',\n",
              " 'ask',\n",
              " 'chang',\n",
              " 'room',\n",
              " 'explain',\n",
              " 'time',\n",
              " 'book',\n",
              " 'duplex',\n",
              " 'btw',\n",
              " 'cost',\n",
              " 'simpl',\n",
              " 'doubl',\n",
              " 'got',\n",
              " 'way',\n",
              " 'volum',\n",
              " 'due',\n",
              " 'high',\n",
              " 'ceil',\n",
              " 'offer',\n",
              " 'room',\n",
              " 'next',\n",
              " 'day',\n",
              " 'check',\n",
              " 'next',\n",
              " 'day',\n",
              " 'clock',\n",
              " 'order',\n",
              " 'get',\n",
              " 'room',\n",
              " 'wane',\n",
              " 'best',\n",
              " 'way',\n",
              " 'begin',\n",
              " 'holiday',\n",
              " 'wait',\n",
              " 'till',\n",
              " 'order',\n",
              " 'check',\n",
              " 'new',\n",
              " 'room',\n",
              " 'wonder',\n",
              " 'waist',\n",
              " 'time',\n",
              " 'room',\n",
              " 'got',\n",
              " 'want',\n",
              " 'peac',\n",
              " 'intern',\n",
              " 'garden',\n",
              " 'view',\n",
              " 'big',\n",
              " 'window',\n",
              " 'tire',\n",
              " 'wait',\n",
              " 'room',\n",
              " 'place',\n",
              " 'belong',\n",
              " 'rush',\n",
              " 'citi',\n",
              " 'even',\n",
              " 'turn',\n",
              " 'constant',\n",
              " 'nois',\n",
              " 'room',\n",
              " 'guess',\n",
              " 'made',\n",
              " 'vibrat',\n",
              " 'vent',\n",
              " 'tube',\n",
              " 'someth',\n",
              " 'constant',\n",
              " 'annoy',\n",
              " 'hell',\n",
              " 'stop',\n",
              " 'even',\n",
              " 'make',\n",
              " 'hard',\n",
              " 'fall',\n",
              " 'asleep',\n",
              " 'wife',\n",
              " 'audio',\n",
              " 'record',\n",
              " 'attach',\n",
              " 'want',\n",
              " 'send',\n",
              " 'via',\n",
              " 'e',\n",
              " 'mail',\n",
              " 'next',\n",
              " 'day',\n",
              " 'technician',\n",
              " 'came',\n",
              " 'abl',\n",
              " 'determin',\n",
              " 'caus',\n",
              " 'disturb',\n",
              " 'sound',\n",
              " 'offer',\n",
              " 'chang',\n",
              " 'room',\n",
              " 'hotel',\n",
              " 'fulli',\n",
              " 'book',\n",
              " 'room',\n",
              " 'left',\n",
              " 'one',\n",
              " 'smaller',\n",
              " 'seem',\n",
              " 'newer']"
            ]
          },
          "metadata": {
            "tags": []
          },
          "execution_count": 214
        }
      ]
    },
    {
      "cell_type": "markdown",
      "metadata": {
        "id": "rrZpCBK1Q_s-"
      },
      "source": [
        "#Reshaping"
      ]
    },
    {
      "cell_type": "code",
      "metadata": {
        "scrolled": true,
        "colab": {
          "base_uri": "https://localhost:8080/"
        },
        "id": "Pcglzbc8Rp1p",
        "outputId": "d752a3cd-56d3-4f46-8e62-f340dfe237ce"
      },
      "source": [
        "negative_reviews.info()"
      ],
      "execution_count": 189,
      "outputs": [
        {
          "output_type": "stream",
          "text": [
            "<class 'pandas.core.frame.DataFrame'>\n",
            "Int64Index: 86851 entries, 0 to 515735\n",
            "Data columns (total 5 columns):\n",
            " #   Column                   Non-Null Count  Dtype  \n",
            "---  ------                   --------------  -----  \n",
            " 0   Negative_Review          86851 non-null  object \n",
            " 1   Reviewer_Score           86851 non-null  float64\n",
            " 2   Negative_Review_lower    86851 non-null  object \n",
            " 3   Negative_Review_tokens   86851 non-null  object \n",
            " 4   Negative_Review_Stemmed  86851 non-null  object \n",
            "dtypes: float64(1), object(4)\n",
            "memory usage: 6.5+ MB\n"
          ],
          "name": "stdout"
        }
      ]
    },
    {
      "cell_type": "code",
      "metadata": {
        "colab": {
          "base_uri": "https://localhost:8080/",
          "height": 424
        },
        "id": "G6TZoAkURp1p",
        "outputId": "f875cf92-733b-42c6-cdea-d36cca82e627"
      },
      "source": [
        "negative_reviews=negative_reviews.reset_index(drop=True)\n",
        "negative_reviews.head(10)"
      ],
      "execution_count": 190,
      "outputs": [
        {
          "output_type": "execute_result",
          "data": {
            "text/html": [
              "<div>\n",
              "<style scoped>\n",
              "    .dataframe tbody tr th:only-of-type {\n",
              "        vertical-align: middle;\n",
              "    }\n",
              "\n",
              "    .dataframe tbody tr th {\n",
              "        vertical-align: top;\n",
              "    }\n",
              "\n",
              "    .dataframe thead th {\n",
              "        text-align: right;\n",
              "    }\n",
              "</style>\n",
              "<table border=\"1\" class=\"dataframe\">\n",
              "  <thead>\n",
              "    <tr style=\"text-align: right;\">\n",
              "      <th></th>\n",
              "      <th>Negative_Review</th>\n",
              "      <th>Reviewer_Score</th>\n",
              "      <th>Negative_Review_lower</th>\n",
              "      <th>Negative_Review_tokens</th>\n",
              "      <th>Negative_Review_Stemmed</th>\n",
              "    </tr>\n",
              "  </thead>\n",
              "  <tbody>\n",
              "    <tr>\n",
              "      <th>0</th>\n",
              "      <td>I am so angry that i made this post available...</td>\n",
              "      <td>2.9</td>\n",
              "      <td>angry made post available via possible sites u...</td>\n",
              "      <td>[angry, made, post, available, via, possible, ...</td>\n",
              "      <td>[angri, made, post, avail, via, possibl, site,...</td>\n",
              "    </tr>\n",
              "    <tr>\n",
              "      <th>1</th>\n",
              "      <td>My room was dirty and I was afraid to walk ba...</td>\n",
              "      <td>3.8</td>\n",
              "      <td>room dirty afraid walk barefoot floor looked c...</td>\n",
              "      <td>[room, dirty, afraid, walk, barefoot, floor, l...</td>\n",
              "      <td>[room, dirti, afraid, walk, barefoot, floor, l...</td>\n",
              "    </tr>\n",
              "    <tr>\n",
              "      <th>2</th>\n",
              "      <td>You When I booked with your company on line y...</td>\n",
              "      <td>6.7</td>\n",
              "      <td>booked company line showed pictures room thoug...</td>\n",
              "      <td>[booked, company, line, showed, pictures, room...</td>\n",
              "      <td>[book, compani, line, show, pictur, room, thou...</td>\n",
              "    </tr>\n",
              "    <tr>\n",
              "      <th>3</th>\n",
              "      <td>Backyard of the hotel is total mess shouldn t...</td>\n",
              "      <td>6.7</td>\n",
              "      <td>backyard hotel total mess happen hotel 4 stars</td>\n",
              "      <td>[backyard, hotel, total, mess, happen, hotel, ...</td>\n",
              "      <td>[backyard, hotel, total, mess, happen, hotel, ...</td>\n",
              "    </tr>\n",
              "    <tr>\n",
              "      <th>4</th>\n",
              "      <td>Cleaner did not change our sheet and duvet ev...</td>\n",
              "      <td>4.6</td>\n",
              "      <td>cleaner change sheet duvet everyday made bed a...</td>\n",
              "      <td>[cleaner, change, sheet, duvet, everyday, made...</td>\n",
              "      <td>[cleaner, chang, sheet, duvet, everyday, made,...</td>\n",
              "    </tr>\n",
              "    <tr>\n",
              "      <th>5</th>\n",
              "      <td>Even though the pictures show very clean room...</td>\n",
              "      <td>6.5</td>\n",
              "      <td>even though pictures show clean rooms actual r...</td>\n",
              "      <td>[even, though, pictures, show, clean, rooms, a...</td>\n",
              "      <td>[even, though, pictur, show, clean, room, actu...</td>\n",
              "    </tr>\n",
              "    <tr>\n",
              "      <th>6</th>\n",
              "      <td>6 30 AM started big noise workers loading woo...</td>\n",
              "      <td>5.8</td>\n",
              "      <td>6 30 started big noise workers loading wood wi...</td>\n",
              "      <td>[started, big, noise, workers, loading, wood, ...</td>\n",
              "      <td>[start, big, nois, worker, load, wood, window,...</td>\n",
              "    </tr>\n",
              "    <tr>\n",
              "      <th>7</th>\n",
              "      <td>The floor in my room was filfy dirty Very bas...</td>\n",
              "      <td>4.6</td>\n",
              "      <td>floor room filfy dirty basic rooms 20yr old tv...</td>\n",
              "      <td>[floor, room, filfy, dirty, basic, rooms, old,...</td>\n",
              "      <td>[floor, room, filfi, dirti, basic, room, old, ...</td>\n",
              "    </tr>\n",
              "    <tr>\n",
              "      <th>8</th>\n",
              "      <td>Very steep steps in room up to the bed not sa...</td>\n",
              "      <td>6.3</td>\n",
              "      <td>steep steps room bed safe children asked move ...</td>\n",
              "      <td>[steep, steps, room, bed, safe, children, aske...</td>\n",
              "      <td>[steep, step, room, bed, safe, children, ask, ...</td>\n",
              "    </tr>\n",
              "    <tr>\n",
              "      <th>9</th>\n",
              "      <td>Bed was on upper level with a narrow twist st...</td>\n",
              "      <td>6.3</td>\n",
              "      <td>bed upper level narrow twist staircase usb por...</td>\n",
              "      <td>[bed, upper, level, narrow, twist, staircase, ...</td>\n",
              "      <td>[bed, upper, level, narrow, twist, staircas, u...</td>\n",
              "    </tr>\n",
              "  </tbody>\n",
              "</table>\n",
              "</div>"
            ],
            "text/plain": [
              "                                     Negative_Review  ...                            Negative_Review_Stemmed\n",
              "0   I am so angry that i made this post available...  ...  [angri, made, post, avail, via, possibl, site,...\n",
              "1   My room was dirty and I was afraid to walk ba...  ...  [room, dirti, afraid, walk, barefoot, floor, l...\n",
              "2   You When I booked with your company on line y...  ...  [book, compani, line, show, pictur, room, thou...\n",
              "3   Backyard of the hotel is total mess shouldn t...  ...  [backyard, hotel, total, mess, happen, hotel, ...\n",
              "4   Cleaner did not change our sheet and duvet ev...  ...  [cleaner, chang, sheet, duvet, everyday, made,...\n",
              "5   Even though the pictures show very clean room...  ...  [even, though, pictur, show, clean, room, actu...\n",
              "6   6 30 AM started big noise workers loading woo...  ...  [start, big, nois, worker, load, wood, window,...\n",
              "7   The floor in my room was filfy dirty Very bas...  ...  [floor, room, filfi, dirti, basic, room, old, ...\n",
              "8   Very steep steps in room up to the bed not sa...  ...  [steep, step, room, bed, safe, children, ask, ...\n",
              "9   Bed was on upper level with a narrow twist st...  ...  [bed, upper, level, narrow, twist, staircas, u...\n",
              "\n",
              "[10 rows x 5 columns]"
            ]
          },
          "metadata": {
            "tags": []
          },
          "execution_count": 190
        }
      ]
    },
    {
      "cell_type": "code",
      "metadata": {
        "colab": {
          "base_uri": "https://localhost:8080/"
        },
        "id": "H7XgybNcRp1q",
        "outputId": "e05d072e-3da2-4b31-cfb8-86649747812b"
      },
      "source": [
        "positive_reviews.info()"
      ],
      "execution_count": 191,
      "outputs": [
        {
          "output_type": "stream",
          "text": [
            "<class 'pandas.core.frame.DataFrame'>\n",
            "Int64Index: 293466 entries, 7 to 515736\n",
            "Data columns (total 5 columns):\n",
            " #   Column                   Non-Null Count   Dtype  \n",
            "---  ------                   --------------   -----  \n",
            " 0   Positive_Review          293466 non-null  object \n",
            " 1   Reviewer_Score           293466 non-null  float64\n",
            " 2   Positive_Review_lower    293466 non-null  object \n",
            " 3   Positive_Review_tokens   293466 non-null  object \n",
            " 4   Positive_Review_Stemmed  293466 non-null  object \n",
            "dtypes: float64(1), object(4)\n",
            "memory usage: 13.4+ MB\n"
          ],
          "name": "stdout"
        }
      ]
    },
    {
      "cell_type": "code",
      "metadata": {
        "colab": {
          "base_uri": "https://localhost:8080/",
          "height": 357
        },
        "id": "Df3zgNibRp1q",
        "outputId": "58fa9824-61e6-4095-b873-246ab5198f69"
      },
      "source": [
        "positive_reviews=positive_reviews.reset_index(drop=True)\n",
        "positive_reviews.head(10)"
      ],
      "execution_count": 192,
      "outputs": [
        {
          "output_type": "execute_result",
          "data": {
            "text/html": [
              "<div>\n",
              "<style scoped>\n",
              "    .dataframe tbody tr th:only-of-type {\n",
              "        vertical-align: middle;\n",
              "    }\n",
              "\n",
              "    .dataframe tbody tr th {\n",
              "        vertical-align: top;\n",
              "    }\n",
              "\n",
              "    .dataframe thead th {\n",
              "        text-align: right;\n",
              "    }\n",
              "</style>\n",
              "<table border=\"1\" class=\"dataframe\">\n",
              "  <thead>\n",
              "    <tr style=\"text-align: right;\">\n",
              "      <th></th>\n",
              "      <th>Positive_Review</th>\n",
              "      <th>Reviewer_Score</th>\n",
              "      <th>Positive_Review_lower</th>\n",
              "      <th>Positive_Review_tokens</th>\n",
              "      <th>Positive_Review_Stemmed</th>\n",
              "    </tr>\n",
              "  </thead>\n",
              "  <tbody>\n",
              "    <tr>\n",
              "      <th>0</th>\n",
              "      <td>Good location Set in a lovely park friendly s...</td>\n",
              "      <td>10.0</td>\n",
              "      <td>good location set lovely park friendly staff f...</td>\n",
              "      <td>[good, location, set, lovely, park, friendly, ...</td>\n",
              "      <td>[good, locat, set, love, park, friendli, staff...</td>\n",
              "    </tr>\n",
              "    <tr>\n",
              "      <th>1</th>\n",
              "      <td>Rooms were stunningly decorated and really sp...</td>\n",
              "      <td>10.0</td>\n",
              "      <td>rooms stunningly decorated really spacious top...</td>\n",
              "      <td>[rooms, stunningly, decorated, really, spaciou...</td>\n",
              "      <td>[room, stunningli, decor, realli, spaciou, top...</td>\n",
              "    </tr>\n",
              "    <tr>\n",
              "      <th>2</th>\n",
              "      <td>This hotel is being renovated with great care...</td>\n",
              "      <td>9.2</td>\n",
              "      <td>hotel renovated great care appreciation unique...</td>\n",
              "      <td>[hotel, renovated, great, care, appreciation, ...</td>\n",
              "      <td>[hotel, renov, great, care, appreci, uniqu, st...</td>\n",
              "    </tr>\n",
              "    <tr>\n",
              "      <th>3</th>\n",
              "      <td>It was very good very historic building that ...</td>\n",
              "      <td>8.8</td>\n",
              "      <td>good historic building chose</td>\n",
              "      <td>[good, historic, building, chose]</td>\n",
              "      <td>[good, histor, build, chose]</td>\n",
              "    </tr>\n",
              "    <tr>\n",
              "      <th>4</th>\n",
              "      <td>This hotel is awesome I took it sincirely bec...</td>\n",
              "      <td>10.0</td>\n",
              "      <td>hotel awesome took sincirely bit cheaper struc...</td>\n",
              "      <td>[hotel, awesome, took, sincirely, bit, cheaper...</td>\n",
              "      <td>[hotel, awesom, took, sincir, bit, cheaper, st...</td>\n",
              "    </tr>\n",
              "    <tr>\n",
              "      <th>5</th>\n",
              "      <td>Bed was extremely comfy and the staff where w...</td>\n",
              "      <td>9.6</td>\n",
              "      <td>bed extremely comfy staff well spoken also gav...</td>\n",
              "      <td>[bed, extremely, comfy, staff, well, spoken, a...</td>\n",
              "      <td>[bed, extrem, comfi, staff, well, spoken, also...</td>\n",
              "    </tr>\n",
              "    <tr>\n",
              "      <th>6</th>\n",
              "      <td>Lovely hotel with extremely comfortable huge ...</td>\n",
              "      <td>9.6</td>\n",
              "      <td>lovely hotel extremely comfortable huge double...</td>\n",
              "      <td>[lovely, hotel, extremely, comfortable, huge, ...</td>\n",
              "      <td>[love, hotel, extrem, comfort, huge, doubl, be...</td>\n",
              "    </tr>\n",
              "    <tr>\n",
              "      <th>7</th>\n",
              "      <td>The Hotel itself is in a lovely location a 5m...</td>\n",
              "      <td>9.6</td>\n",
              "      <td>hotel lovely location 5min tram ride center tr...</td>\n",
              "      <td>[hotel, lovely, location, tram, ride, center, ...</td>\n",
              "      <td>[hotel, love, locat, tram, ride, center, train...</td>\n",
              "    </tr>\n",
              "    <tr>\n",
              "      <th>8</th>\n",
              "      <td>The hotel is located in a beautiful old monas...</td>\n",
              "      <td>9.2</td>\n",
              "      <td>hotel located beautiful old monastery building...</td>\n",
              "      <td>[hotel, located, beautiful, old, monastery, bu...</td>\n",
              "      <td>[hotel, locat, beauti, old, monasteri, build, ...</td>\n",
              "    </tr>\n",
              "    <tr>\n",
              "      <th>9</th>\n",
              "      <td>The staff were so friendly and helpful plus t...</td>\n",
              "      <td>9.2</td>\n",
              "      <td>staff friendly helpful plus bar restaurant are...</td>\n",
              "      <td>[staff, friendly, helpful, plus, bar, restaura...</td>\n",
              "      <td>[staff, friendli, help, plu, bar, restaur, are...</td>\n",
              "    </tr>\n",
              "  </tbody>\n",
              "</table>\n",
              "</div>"
            ],
            "text/plain": [
              "                                     Positive_Review  ...                            Positive_Review_Stemmed\n",
              "0   Good location Set in a lovely park friendly s...  ...  [good, locat, set, love, park, friendli, staff...\n",
              "1   Rooms were stunningly decorated and really sp...  ...  [room, stunningli, decor, realli, spaciou, top...\n",
              "2   This hotel is being renovated with great care...  ...  [hotel, renov, great, care, appreci, uniqu, st...\n",
              "3   It was very good very historic building that ...  ...                       [good, histor, build, chose]\n",
              "4   This hotel is awesome I took it sincirely bec...  ...  [hotel, awesom, took, sincir, bit, cheaper, st...\n",
              "5   Bed was extremely comfy and the staff where w...  ...  [bed, extrem, comfi, staff, well, spoken, also...\n",
              "6   Lovely hotel with extremely comfortable huge ...  ...  [love, hotel, extrem, comfort, huge, doubl, be...\n",
              "7   The Hotel itself is in a lovely location a 5m...  ...  [hotel, love, locat, tram, ride, center, train...\n",
              "8   The hotel is located in a beautiful old monas...  ...  [hotel, locat, beauti, old, monasteri, build, ...\n",
              "9   The staff were so friendly and helpful plus t...  ...  [staff, friendli, help, plu, bar, restaur, are...\n",
              "\n",
              "[10 rows x 5 columns]"
            ]
          },
          "metadata": {
            "tags": []
          },
          "execution_count": 192
        }
      ]
    },
    {
      "cell_type": "code",
      "metadata": {
        "colab": {
          "base_uri": "https://localhost:8080/",
          "height": 525
        },
        "id": "NWDCcaOxRp1q",
        "outputId": "6b0ff850-b56e-47f7-ce88-7d1751c63e44"
      },
      "source": [
        "def neg_final_review(row):\n",
        "    neg_review = row['Negative_Review_Stemmed']\n",
        "    review = \" \".join(neg_review)\n",
        "    return review\n",
        "\n",
        "negative_reviews['Final_review'] = negative_reviews.apply(neg_final_review, axis=1)\n",
        "\n",
        "negative_reviews.head(10)"
      ],
      "execution_count": 193,
      "outputs": [
        {
          "output_type": "execute_result",
          "data": {
            "text/html": [
              "<div>\n",
              "<style scoped>\n",
              "    .dataframe tbody tr th:only-of-type {\n",
              "        vertical-align: middle;\n",
              "    }\n",
              "\n",
              "    .dataframe tbody tr th {\n",
              "        vertical-align: top;\n",
              "    }\n",
              "\n",
              "    .dataframe thead th {\n",
              "        text-align: right;\n",
              "    }\n",
              "</style>\n",
              "<table border=\"1\" class=\"dataframe\">\n",
              "  <thead>\n",
              "    <tr style=\"text-align: right;\">\n",
              "      <th></th>\n",
              "      <th>Negative_Review</th>\n",
              "      <th>Reviewer_Score</th>\n",
              "      <th>Negative_Review_lower</th>\n",
              "      <th>Negative_Review_tokens</th>\n",
              "      <th>Negative_Review_Stemmed</th>\n",
              "      <th>Final_review</th>\n",
              "    </tr>\n",
              "  </thead>\n",
              "  <tbody>\n",
              "    <tr>\n",
              "      <th>0</th>\n",
              "      <td>I am so angry that i made this post available...</td>\n",
              "      <td>2.9</td>\n",
              "      <td>angry made post available via possible sites u...</td>\n",
              "      <td>[angry, made, post, available, via, possible, ...</td>\n",
              "      <td>[angri, made, post, avail, via, possibl, site,...</td>\n",
              "      <td>angri made post avail via possibl site use pla...</td>\n",
              "    </tr>\n",
              "    <tr>\n",
              "      <th>1</th>\n",
              "      <td>My room was dirty and I was afraid to walk ba...</td>\n",
              "      <td>3.8</td>\n",
              "      <td>room dirty afraid walk barefoot floor looked c...</td>\n",
              "      <td>[room, dirty, afraid, walk, barefoot, floor, l...</td>\n",
              "      <td>[room, dirti, afraid, walk, barefoot, floor, l...</td>\n",
              "      <td>room dirti afraid walk barefoot floor look cle...</td>\n",
              "    </tr>\n",
              "    <tr>\n",
              "      <th>2</th>\n",
              "      <td>You When I booked with your company on line y...</td>\n",
              "      <td>6.7</td>\n",
              "      <td>booked company line showed pictures room thoug...</td>\n",
              "      <td>[booked, company, line, showed, pictures, room...</td>\n",
              "      <td>[book, compani, line, show, pictur, room, thou...</td>\n",
              "      <td>book compani line show pictur room thought get...</td>\n",
              "    </tr>\n",
              "    <tr>\n",
              "      <th>3</th>\n",
              "      <td>Backyard of the hotel is total mess shouldn t...</td>\n",
              "      <td>6.7</td>\n",
              "      <td>backyard hotel total mess happen hotel 4 stars</td>\n",
              "      <td>[backyard, hotel, total, mess, happen, hotel, ...</td>\n",
              "      <td>[backyard, hotel, total, mess, happen, hotel, ...</td>\n",
              "      <td>backyard hotel total mess happen hotel star</td>\n",
              "    </tr>\n",
              "    <tr>\n",
              "      <th>4</th>\n",
              "      <td>Cleaner did not change our sheet and duvet ev...</td>\n",
              "      <td>4.6</td>\n",
              "      <td>cleaner change sheet duvet everyday made bed a...</td>\n",
              "      <td>[cleaner, change, sheet, duvet, everyday, made...</td>\n",
              "      <td>[cleaner, chang, sheet, duvet, everyday, made,...</td>\n",
              "      <td>cleaner chang sheet duvet everyday made bed al...</td>\n",
              "    </tr>\n",
              "    <tr>\n",
              "      <th>5</th>\n",
              "      <td>Even though the pictures show very clean room...</td>\n",
              "      <td>6.5</td>\n",
              "      <td>even though pictures show clean rooms actual r...</td>\n",
              "      <td>[even, though, pictures, show, clean, rooms, a...</td>\n",
              "      <td>[even, though, pictur, show, clean, room, actu...</td>\n",
              "      <td>even though pictur show clean room actual room...</td>\n",
              "    </tr>\n",
              "    <tr>\n",
              "      <th>6</th>\n",
              "      <td>6 30 AM started big noise workers loading woo...</td>\n",
              "      <td>5.8</td>\n",
              "      <td>6 30 started big noise workers loading wood wi...</td>\n",
              "      <td>[started, big, noise, workers, loading, wood, ...</td>\n",
              "      <td>[start, big, nois, worker, load, wood, window,...</td>\n",
              "      <td>start big nois worker load wood window stupid ...</td>\n",
              "    </tr>\n",
              "    <tr>\n",
              "      <th>7</th>\n",
              "      <td>The floor in my room was filfy dirty Very bas...</td>\n",
              "      <td>4.6</td>\n",
              "      <td>floor room filfy dirty basic rooms 20yr old tv...</td>\n",
              "      <td>[floor, room, filfy, dirty, basic, rooms, old,...</td>\n",
              "      <td>[floor, room, filfi, dirti, basic, room, old, ...</td>\n",
              "      <td>floor room filfi dirti basic room old tv room ...</td>\n",
              "    </tr>\n",
              "    <tr>\n",
              "      <th>8</th>\n",
              "      <td>Very steep steps in room up to the bed not sa...</td>\n",
              "      <td>6.3</td>\n",
              "      <td>steep steps room bed safe children asked move ...</td>\n",
              "      <td>[steep, steps, room, bed, safe, children, aske...</td>\n",
              "      <td>[steep, step, room, bed, safe, children, ask, ...</td>\n",
              "      <td>steep step room bed safe children ask move roo...</td>\n",
              "    </tr>\n",
              "    <tr>\n",
              "      <th>9</th>\n",
              "      <td>Bed was on upper level with a narrow twist st...</td>\n",
              "      <td>6.3</td>\n",
              "      <td>bed upper level narrow twist staircase usb por...</td>\n",
              "      <td>[bed, upper, level, narrow, twist, staircase, ...</td>\n",
              "      <td>[bed, upper, level, narrow, twist, staircas, u...</td>\n",
              "      <td>bed upper level narrow twist staircas usb port...</td>\n",
              "    </tr>\n",
              "  </tbody>\n",
              "</table>\n",
              "</div>"
            ],
            "text/plain": [
              "                                     Negative_Review  ...                                       Final_review\n",
              "0   I am so angry that i made this post available...  ...  angri made post avail via possibl site use pla...\n",
              "1   My room was dirty and I was afraid to walk ba...  ...  room dirti afraid walk barefoot floor look cle...\n",
              "2   You When I booked with your company on line y...  ...  book compani line show pictur room thought get...\n",
              "3   Backyard of the hotel is total mess shouldn t...  ...        backyard hotel total mess happen hotel star\n",
              "4   Cleaner did not change our sheet and duvet ev...  ...  cleaner chang sheet duvet everyday made bed al...\n",
              "5   Even though the pictures show very clean room...  ...  even though pictur show clean room actual room...\n",
              "6   6 30 AM started big noise workers loading woo...  ...  start big nois worker load wood window stupid ...\n",
              "7   The floor in my room was filfy dirty Very bas...  ...  floor room filfi dirti basic room old tv room ...\n",
              "8   Very steep steps in room up to the bed not sa...  ...  steep step room bed safe children ask move roo...\n",
              "9   Bed was on upper level with a narrow twist st...  ...  bed upper level narrow twist staircas usb port...\n",
              "\n",
              "[10 rows x 6 columns]"
            ]
          },
          "metadata": {
            "tags": []
          },
          "execution_count": 193
        }
      ]
    },
    {
      "cell_type": "code",
      "metadata": {
        "scrolled": true,
        "colab": {
          "base_uri": "https://localhost:8080/",
          "height": 525
        },
        "id": "JRet48t5Rp1q",
        "outputId": "e4e744eb-0a4f-4d22-a463-d89afc95bd8a"
      },
      "source": [
        "def pos_final_review(row):\n",
        "    pos_review = row['Positive_Review_Stemmed']\n",
        "    review = \" \".join(pos_review)\n",
        "    return review\n",
        "\n",
        "positive_reviews['Final_review'] = positive_reviews.apply(pos_final_review, axis=1)\n",
        "\n",
        "positive_reviews.head(10)"
      ],
      "execution_count": 194,
      "outputs": [
        {
          "output_type": "execute_result",
          "data": {
            "text/html": [
              "<div>\n",
              "<style scoped>\n",
              "    .dataframe tbody tr th:only-of-type {\n",
              "        vertical-align: middle;\n",
              "    }\n",
              "\n",
              "    .dataframe tbody tr th {\n",
              "        vertical-align: top;\n",
              "    }\n",
              "\n",
              "    .dataframe thead th {\n",
              "        text-align: right;\n",
              "    }\n",
              "</style>\n",
              "<table border=\"1\" class=\"dataframe\">\n",
              "  <thead>\n",
              "    <tr style=\"text-align: right;\">\n",
              "      <th></th>\n",
              "      <th>Positive_Review</th>\n",
              "      <th>Reviewer_Score</th>\n",
              "      <th>Positive_Review_lower</th>\n",
              "      <th>Positive_Review_tokens</th>\n",
              "      <th>Positive_Review_Stemmed</th>\n",
              "      <th>Final_review</th>\n",
              "    </tr>\n",
              "  </thead>\n",
              "  <tbody>\n",
              "    <tr>\n",
              "      <th>0</th>\n",
              "      <td>Good location Set in a lovely park friendly s...</td>\n",
              "      <td>10.0</td>\n",
              "      <td>good location set lovely park friendly staff f...</td>\n",
              "      <td>[good, location, set, lovely, park, friendly, ...</td>\n",
              "      <td>[good, locat, set, love, park, friendli, staff...</td>\n",
              "      <td>good locat set love park friendli staff food h...</td>\n",
              "    </tr>\n",
              "    <tr>\n",
              "      <th>1</th>\n",
              "      <td>Rooms were stunningly decorated and really sp...</td>\n",
              "      <td>10.0</td>\n",
              "      <td>rooms stunningly decorated really spacious top...</td>\n",
              "      <td>[rooms, stunningly, decorated, really, spaciou...</td>\n",
              "      <td>[room, stunningli, decor, realli, spaciou, top...</td>\n",
              "      <td>room stunningli decor realli spaciou top build...</td>\n",
              "    </tr>\n",
              "    <tr>\n",
              "      <th>2</th>\n",
              "      <td>This hotel is being renovated with great care...</td>\n",
              "      <td>9.2</td>\n",
              "      <td>hotel renovated great care appreciation unique...</td>\n",
              "      <td>[hotel, renovated, great, care, appreciation, ...</td>\n",
              "      <td>[hotel, renov, great, care, appreci, uniqu, st...</td>\n",
              "      <td>hotel renov great care appreci uniqu structur ...</td>\n",
              "    </tr>\n",
              "    <tr>\n",
              "      <th>3</th>\n",
              "      <td>It was very good very historic building that ...</td>\n",
              "      <td>8.8</td>\n",
              "      <td>good historic building chose</td>\n",
              "      <td>[good, historic, building, chose]</td>\n",
              "      <td>[good, histor, build, chose]</td>\n",
              "      <td>good histor build chose</td>\n",
              "    </tr>\n",
              "    <tr>\n",
              "      <th>4</th>\n",
              "      <td>This hotel is awesome I took it sincirely bec...</td>\n",
              "      <td>10.0</td>\n",
              "      <td>hotel awesome took sincirely bit cheaper struc...</td>\n",
              "      <td>[hotel, awesome, took, sincirely, bit, cheaper...</td>\n",
              "      <td>[hotel, awesom, took, sincir, bit, cheaper, st...</td>\n",
              "      <td>hotel awesom took sincir bit cheaper structur ...</td>\n",
              "    </tr>\n",
              "    <tr>\n",
              "      <th>5</th>\n",
              "      <td>Bed was extremely comfy and the staff where w...</td>\n",
              "      <td>9.6</td>\n",
              "      <td>bed extremely comfy staff well spoken also gav...</td>\n",
              "      <td>[bed, extremely, comfy, staff, well, spoken, a...</td>\n",
              "      <td>[bed, extrem, comfi, staff, well, spoken, also...</td>\n",
              "      <td>bed extrem comfi staff well spoken also gave u...</td>\n",
              "    </tr>\n",
              "    <tr>\n",
              "      <th>6</th>\n",
              "      <td>Lovely hotel with extremely comfortable huge ...</td>\n",
              "      <td>9.6</td>\n",
              "      <td>lovely hotel extremely comfortable huge double...</td>\n",
              "      <td>[lovely, hotel, extremely, comfortable, huge, ...</td>\n",
              "      <td>[love, hotel, extrem, comfort, huge, doubl, be...</td>\n",
              "      <td>love hotel extrem comfort huge doubl bed stay ...</td>\n",
              "    </tr>\n",
              "    <tr>\n",
              "      <th>7</th>\n",
              "      <td>The Hotel itself is in a lovely location a 5m...</td>\n",
              "      <td>9.6</td>\n",
              "      <td>hotel lovely location 5min tram ride center tr...</td>\n",
              "      <td>[hotel, lovely, location, tram, ride, center, ...</td>\n",
              "      <td>[hotel, love, locat, tram, ride, center, train...</td>\n",
              "      <td>hotel love locat tram ride center train right ...</td>\n",
              "    </tr>\n",
              "    <tr>\n",
              "      <th>8</th>\n",
              "      <td>The hotel is located in a beautiful old monas...</td>\n",
              "      <td>9.2</td>\n",
              "      <td>hotel located beautiful old monastery building...</td>\n",
              "      <td>[hotel, located, beautiful, old, monastery, bu...</td>\n",
              "      <td>[hotel, locat, beauti, old, monasteri, build, ...</td>\n",
              "      <td>hotel locat beauti old monasteri build special...</td>\n",
              "    </tr>\n",
              "    <tr>\n",
              "      <th>9</th>\n",
              "      <td>The staff were so friendly and helpful plus t...</td>\n",
              "      <td>9.2</td>\n",
              "      <td>staff friendly helpful plus bar restaurant are...</td>\n",
              "      <td>[staff, friendly, helpful, plus, bar, restaura...</td>\n",
              "      <td>[staff, friendli, help, plu, bar, restaur, are...</td>\n",
              "      <td>staff friendli help plu bar restaur area beaut...</td>\n",
              "    </tr>\n",
              "  </tbody>\n",
              "</table>\n",
              "</div>"
            ],
            "text/plain": [
              "                                     Positive_Review  ...                                       Final_review\n",
              "0   Good location Set in a lovely park friendly s...  ...  good locat set love park friendli staff food h...\n",
              "1   Rooms were stunningly decorated and really sp...  ...  room stunningli decor realli spaciou top build...\n",
              "2   This hotel is being renovated with great care...  ...  hotel renov great care appreci uniqu structur ...\n",
              "3   It was very good very historic building that ...  ...                            good histor build chose\n",
              "4   This hotel is awesome I took it sincirely bec...  ...  hotel awesom took sincir bit cheaper structur ...\n",
              "5   Bed was extremely comfy and the staff where w...  ...  bed extrem comfi staff well spoken also gave u...\n",
              "6   Lovely hotel with extremely comfortable huge ...  ...  love hotel extrem comfort huge doubl bed stay ...\n",
              "7   The Hotel itself is in a lovely location a 5m...  ...  hotel love locat tram ride center train right ...\n",
              "8   The hotel is located in a beautiful old monas...  ...  hotel locat beauti old monasteri build special...\n",
              "9   The staff were so friendly and helpful plus t...  ...  staff friendli help plu bar restaur area beaut...\n",
              "\n",
              "[10 rows x 6 columns]"
            ]
          },
          "metadata": {
            "tags": []
          },
          "execution_count": 194
        }
      ]
    },
    {
      "cell_type": "code",
      "metadata": {
        "scrolled": true,
        "colab": {
          "base_uri": "https://localhost:8080/"
        },
        "id": "tUjD-LDARp1r",
        "outputId": "7e013d79-9207-48fc-e436-c70f3bed86d0"
      },
      "source": [
        "negative_reviews_list = negative_reviews['Final_review'].tolist()\n",
        "print (negative_reviews_list[0:10])"
      ],
      "execution_count": 195,
      "outputs": [
        {
          "output_type": "stream",
          "text": [
            "['angri made post avail via possibl site use plane trip one make mistak book place made book via book com stay night hotel juli upon arriv place small room floor hotel turn room book special reserv level duplex room would big window high ceil room ok mind broken window close hello rain mini fridg contain sort bio weapon least guess smell intim ask chang room explain time book duplex btw cost simpl doubl got way volum due high ceil offer room next day check next day clock order get room wane best way begin holiday wait till order check new room wonder waist time room got want peac intern garden view big window tire wait room place belong rush citi even turn constant nois room guess made vibrat vent tube someth constant annoy hell stop even make hard fall asleep wife audio record attach want send via e mail next day technician came abl determin caus disturb sound offer chang room hotel fulli book room left one smaller seem newer', 'room dirti afraid walk barefoot floor look clean week white furnitur look nice pictur dirti door look like attack angri dog shower drain clog staff respond request clean day heavi rainfal pretti common occurr amsterdam roof room leak luckili bed could also see sign earlier water damag also saw insect run floor overal second floor properti look dirti badli kept top repairman came fix someth room next door midnight noisi mani guest understand challeng run hotel old build neglig inconsist price demand hotel last night complain water damag night shift manag offer move differ room offer came pretti late around midnight alreadi bed readi sleep', 'book compani line show pictur room thought get pay arriv room book staff told could book villa suit theough directli complet fals advertis realis group lot room photo togeth leav consum confus extreamli disgruntl especi wife birthday present pleas make websit clear price photo realli know pay much wnded photo told get someth happi use', 'backyard hotel total mess happen hotel star', 'cleaner chang sheet duvet everyday made bed also clean floor chang bodi gel run', 'even though pictur show clean room actual room quit dirti outliv also check clock room readi time', 'start big nois worker load wood window stupid room number system took minut night guard final find room check staff point us wrong direct late dinner bar close ugli view trash lorri window inform computer telephon huge price differ book com price euro hotel price', 'floor room filfi dirti basic room old tv room fridg work overpr breakfast', 'steep step room bed safe children ask move room put anoth ident one room decor minamilist like felt prison cell spars', 'bed upper level narrow twist staircas usb port mobil phone charg even via thr tv socket work loos cover danger corridor poorli lit']\n"
          ],
          "name": "stdout"
        }
      ]
    },
    {
      "cell_type": "code",
      "metadata": {
        "scrolled": true,
        "colab": {
          "base_uri": "https://localhost:8080/"
        },
        "id": "3F6DFGv6Rp1r",
        "outputId": "abd38715-6c7c-4cb2-d199-ecbbc33da808"
      },
      "source": [
        "positive_reviews_list = positive_reviews['Final_review'].tolist()\n",
        "print (positive_reviews_list[0:10])"
      ],
      "execution_count": 196,
      "outputs": [
        {
          "output_type": "stream",
          "text": [
            "['good locat set love park friendli staff food high qualiti oth enjoy breakfast', 'room stunningli decor realli spaciou top build pictur room true beauti build kept modernis brilliantli also bath love big invit great coupl restaur menu bit pricey load littl eateri place nearbi within walk distanc tram stop centr minut walk away stop centr amsterdam would recommend hotel anyon unbeliev well price', 'hotel renov great care appreci uniqu structur locat spaciou comfort room larg doubl pane glass window onto lush greeneri park breakfast select spectacular consid great hotel price plan return', 'good histor build chose', 'hotel awesom took sincir bit cheaper structur seem hold church close one awesom park arriv citi like minut tram super easi hotel insid awesom realli cool room incred nice two floor one super big comfort room come back sure staff gentl one spanish man realli realli good', 'bed extrem comfi staff well spoken also gave us help easiest way citi centr relev transport ticket uniqu locat visit definit return citi beauti peopl friendli', 'love hotel extrem comfort huge doubl bed stay split level room realli like difficulti get stair request stay room one level oosterpark beauti shop restaur great lot varieti choos get metro close walk tram short walk away run station get within min walk hotel beauti hotel friendli staff shampoo soap shower tea coffe facil room locat relax central amsterdam return', 'hotel love locat tram ride center train right outsid hotel easi access everywher staff super friendli alway hand help advic wonder bright comfort clean room bed amaz felt sleep cloud bathroom clean spaciou airi shampoo bodi wash alongsid hair dryer towel safe wardrob hanger cloth holder desk chair room servic hair dryer fridg kettl cup tea coffe liter everyth need room perfect hotel fault love smell restaur downstair great tenni court outsid hotel littl pond well huge park walk around', 'hotel locat beauti old monasteri build special mood combin modern featur big park opposit hotel public transport nice bakeri breakfast also close good wifi around hotel', 'staff friendli help plu bar restaur area beauti locat park old build simpli stun']\n"
          ],
          "name": "stdout"
        }
      ]
    },
    {
      "cell_type": "code",
      "metadata": {
        "colab": {
          "base_uri": "https://localhost:8080/"
        },
        "id": "OdU5r3TlRp1r",
        "outputId": "ce719ec5-b83c-42a3-f968-0d13a1fb2f48"
      },
      "source": [
        "reviews_list = negative_reviews_list[0:500] + positive_reviews_list[0:500]\n",
        "reviews_list[0:5]"
      ],
      "execution_count": 197,
      "outputs": [
        {
          "output_type": "execute_result",
          "data": {
            "text/plain": [
              "['angri made post avail via possibl site use plane trip one make mistak book place made book via book com stay night hotel juli upon arriv place small room floor hotel turn room book special reserv level duplex room would big window high ceil room ok mind broken window close hello rain mini fridg contain sort bio weapon least guess smell intim ask chang room explain time book duplex btw cost simpl doubl got way volum due high ceil offer room next day check next day clock order get room wane best way begin holiday wait till order check new room wonder waist time room got want peac intern garden view big window tire wait room place belong rush citi even turn constant nois room guess made vibrat vent tube someth constant annoy hell stop even make hard fall asleep wife audio record attach want send via e mail next day technician came abl determin caus disturb sound offer chang room hotel fulli book room left one smaller seem newer',\n",
              " 'room dirti afraid walk barefoot floor look clean week white furnitur look nice pictur dirti door look like attack angri dog shower drain clog staff respond request clean day heavi rainfal pretti common occurr amsterdam roof room leak luckili bed could also see sign earlier water damag also saw insect run floor overal second floor properti look dirti badli kept top repairman came fix someth room next door midnight noisi mani guest understand challeng run hotel old build neglig inconsist price demand hotel last night complain water damag night shift manag offer move differ room offer came pretti late around midnight alreadi bed readi sleep',\n",
              " 'book compani line show pictur room thought get pay arriv room book staff told could book villa suit theough directli complet fals advertis realis group lot room photo togeth leav consum confus extreamli disgruntl especi wife birthday present pleas make websit clear price photo realli know pay much wnded photo told get someth happi use',\n",
              " 'backyard hotel total mess happen hotel star',\n",
              " 'cleaner chang sheet duvet everyday made bed also clean floor chang bodi gel run']"
            ]
          },
          "metadata": {
            "tags": []
          },
          "execution_count": 197
        }
      ]
    },
    {
      "cell_type": "code",
      "metadata": {
        "id": "80NQ7fIw1-bG"
      },
      "source": [
        "negative_reviews_list_flatten =  ' '.join(negative_reviews_list)\n",
        "positive_reviews_list_flatten = [item  for sentence in positive_reviews_list for item in sentence]"
      ],
      "execution_count": 198,
      "outputs": []
    },
    {
      "cell_type": "code",
      "metadata": {
        "id": "aDS6tChHRp1s"
      },
      "source": [
        "review_list = [' '.join(negative_reviews_list), ' '.join(positive_reviews_list)]"
      ],
      "execution_count": 201,
      "outputs": []
    },
    {
      "cell_type": "markdown",
      "metadata": {
        "id": "44PGqCFIPOUm"
      },
      "source": [
        "#Finding top n positive and negative uni- and bigrams"
      ]
    },
    {
      "cell_type": "code",
      "metadata": {
        "id": "OIk3UVYXW2QQ"
      },
      "source": [
        "n=75\n",
        "import math"
      ],
      "execution_count": 322,
      "outputs": []
    },
    {
      "cell_type": "markdown",
      "metadata": {
        "id": "NqgDenrarNqH"
      },
      "source": [
        "##For both uni- and bigrams."
      ]
    },
    {
      "cell_type": "code",
      "metadata": {
        "id": "FFLHToS1Rp1t"
      },
      "source": [
        "from sklearn.feature_extraction.text import TfidfVectorizer\n",
        "\n",
        "v = TfidfVectorizer(analyzer='word', token_pattern=r'\\w{1,}', ngram_range=(1,2), max_features=1000)\n",
        "tfidf_matrix = v.fit_transform(reviews_list)\n",
        "feature_names = v.get_feature_names()"
      ],
      "execution_count": 323,
      "outputs": []
    },
    {
      "cell_type": "markdown",
      "metadata": {
        "id": "YrNlJnxiPnqk"
      },
      "source": [
        "Conditional values for +/-"
      ]
    },
    {
      "cell_type": "code",
      "metadata": {
        "colab": {
          "base_uri": "https://localhost:8080/"
        },
        "id": "PqucoEqn-HY5",
        "outputId": "541bb8f1-02b8-4aee-8e21-5cf3a7a3e302"
      },
      "source": [
        "from sklearn.naive_bayes import MultinomialNB\n",
        "\n",
        "clf = MultinomialNB()\n",
        "clf.fit(tfidf_matrix, [-1 if i <500 else 1 for i in range(1000)])"
      ],
      "execution_count": 324,
      "outputs": [
        {
          "output_type": "execute_result",
          "data": {
            "text/plain": [
              "MultinomialNB(alpha=1.0, class_prior=None, fit_prior=True)"
            ]
          },
          "metadata": {
            "tags": []
          },
          "execution_count": 324
        }
      ]
    },
    {
      "cell_type": "code",
      "metadata": {
        "id": "aKg5FhkVrK2_"
      },
      "source": [
        "clf.score(tfidf_matrix, [-1 if i <500 else 1 for i in range(1000)])"
      ],
      "execution_count": null,
      "outputs": []
    },
    {
      "cell_type": "code",
      "metadata": {
        "id": "WF3fx_VjEEBR"
      },
      "source": [
        "positive_ones = {}\n",
        "negative_ones = {}\n",
        "\n",
        "#pick all words with tf-idf scores\n",
        "for col in x.nonzero()[1]:\n",
        "  positive_ones[feature_names[col]] = clf.coef_[0, col]\n",
        "  negative_ones[feature_names[col]] = clf.coef_[0, col]\n",
        "\n",
        "positive_ones = [[key, math.exp(value)] for key, value in positive_ones.items()]\n",
        "negative_ones = [[key, math.exp(value)] for key, value in negative_ones.items()]\n",
        "\n",
        "positive_ones_df= pd.DataFrame(sorted(positive_ones, key= lambda x: x[1], reverse=True)[:25])\n",
        "\n",
        "positive_ones = {el[0] for el in sorted(positive_ones, key= lambda x: x[1], reverse=True)[:n]}\n",
        "negative_ones = {el[0] for el in sorted(negative_ones, key= lambda x: x[1])[:n]}"
      ],
      "execution_count": 325,
      "outputs": []
    },
    {
      "cell_type": "code",
      "metadata": {
        "colab": {
          "base_uri": "https://localhost:8080/",
          "height": 819
        },
        "id": "mzjNkIGjZCDf",
        "outputId": "097495bc-9261-40b1-dcc1-eb4f33c9431b"
      },
      "source": [
        "positive_ones_df"
      ],
      "execution_count": 326,
      "outputs": [
        {
          "output_type": "execute_result",
          "data": {
            "text/html": [
              "<div>\n",
              "<style scoped>\n",
              "    .dataframe tbody tr th:only-of-type {\n",
              "        vertical-align: middle;\n",
              "    }\n",
              "\n",
              "    .dataframe tbody tr th {\n",
              "        vertical-align: top;\n",
              "    }\n",
              "\n",
              "    .dataframe thead th {\n",
              "        text-align: right;\n",
              "    }\n",
              "</style>\n",
              "<table border=\"1\" class=\"dataframe\">\n",
              "  <thead>\n",
              "    <tr style=\"text-align: right;\">\n",
              "      <th></th>\n",
              "      <th>0</th>\n",
              "      <th>1</th>\n",
              "    </tr>\n",
              "  </thead>\n",
              "  <tbody>\n",
              "    <tr>\n",
              "      <th>0</th>\n",
              "      <td>hotel</td>\n",
              "      <td>0.010565</td>\n",
              "    </tr>\n",
              "    <tr>\n",
              "      <th>1</th>\n",
              "      <td>great</td>\n",
              "      <td>0.010153</td>\n",
              "    </tr>\n",
              "    <tr>\n",
              "      <th>2</th>\n",
              "      <td>good</td>\n",
              "      <td>0.008812</td>\n",
              "    </tr>\n",
              "    <tr>\n",
              "      <th>3</th>\n",
              "      <td>breakfast</td>\n",
              "      <td>0.008681</td>\n",
              "    </tr>\n",
              "    <tr>\n",
              "      <th>4</th>\n",
              "      <td>friendli</td>\n",
              "      <td>0.008294</td>\n",
              "    </tr>\n",
              "    <tr>\n",
              "      <th>5</th>\n",
              "      <td>help</td>\n",
              "      <td>0.008138</td>\n",
              "    </tr>\n",
              "    <tr>\n",
              "      <th>6</th>\n",
              "      <td>comfort</td>\n",
              "      <td>0.007593</td>\n",
              "    </tr>\n",
              "    <tr>\n",
              "      <th>7</th>\n",
              "      <td>excel</td>\n",
              "      <td>0.007278</td>\n",
              "    </tr>\n",
              "    <tr>\n",
              "      <th>8</th>\n",
              "      <td>bed</td>\n",
              "      <td>0.007215</td>\n",
              "    </tr>\n",
              "    <tr>\n",
              "      <th>9</th>\n",
              "      <td>garden</td>\n",
              "      <td>0.006601</td>\n",
              "    </tr>\n",
              "    <tr>\n",
              "      <th>10</th>\n",
              "      <td>clean</td>\n",
              "      <td>0.006369</td>\n",
              "    </tr>\n",
              "    <tr>\n",
              "      <th>11</th>\n",
              "      <td>everyth</td>\n",
              "      <td>0.005086</td>\n",
              "    </tr>\n",
              "    <tr>\n",
              "      <th>12</th>\n",
              "      <td>beauti</td>\n",
              "      <td>0.004748</td>\n",
              "    </tr>\n",
              "    <tr>\n",
              "      <th>13</th>\n",
              "      <td>close</td>\n",
              "      <td>0.004279</td>\n",
              "    </tr>\n",
              "    <tr>\n",
              "      <th>14</th>\n",
              "      <td>comfi</td>\n",
              "      <td>0.003936</td>\n",
              "    </tr>\n",
              "    <tr>\n",
              "      <th>15</th>\n",
              "      <td>amaz</td>\n",
              "      <td>0.003766</td>\n",
              "    </tr>\n",
              "    <tr>\n",
              "      <th>16</th>\n",
              "      <td>help staff</td>\n",
              "      <td>0.003667</td>\n",
              "    </tr>\n",
              "    <tr>\n",
              "      <th>17</th>\n",
              "      <td>court</td>\n",
              "      <td>0.003472</td>\n",
              "    </tr>\n",
              "    <tr>\n",
              "      <th>18</th>\n",
              "      <td>great locat</td>\n",
              "      <td>0.003402</td>\n",
              "    </tr>\n",
              "    <tr>\n",
              "      <th>19</th>\n",
              "      <td>earl</td>\n",
              "      <td>0.003397</td>\n",
              "    </tr>\n",
              "    <tr>\n",
              "      <th>20</th>\n",
              "      <td>earl court</td>\n",
              "      <td>0.003397</td>\n",
              "    </tr>\n",
              "    <tr>\n",
              "      <th>21</th>\n",
              "      <td>friendli help</td>\n",
              "      <td>0.003394</td>\n",
              "    </tr>\n",
              "    <tr>\n",
              "      <th>22</th>\n",
              "      <td>friendli staff</td>\n",
              "      <td>0.003175</td>\n",
              "    </tr>\n",
              "    <tr>\n",
              "      <th>23</th>\n",
              "      <td>area</td>\n",
              "      <td>0.003080</td>\n",
              "    </tr>\n",
              "    <tr>\n",
              "      <th>24</th>\n",
              "      <td>bar</td>\n",
              "      <td>0.003019</td>\n",
              "    </tr>\n",
              "  </tbody>\n",
              "</table>\n",
              "</div>"
            ],
            "text/plain": [
              "                 0         1\n",
              "0            hotel  0.010565\n",
              "1            great  0.010153\n",
              "2             good  0.008812\n",
              "3        breakfast  0.008681\n",
              "4         friendli  0.008294\n",
              "5             help  0.008138\n",
              "6          comfort  0.007593\n",
              "7            excel  0.007278\n",
              "8              bed  0.007215\n",
              "9           garden  0.006601\n",
              "10           clean  0.006369\n",
              "11         everyth  0.005086\n",
              "12          beauti  0.004748\n",
              "13           close  0.004279\n",
              "14           comfi  0.003936\n",
              "15            amaz  0.003766\n",
              "16      help staff  0.003667\n",
              "17           court  0.003472\n",
              "18     great locat  0.003402\n",
              "19            earl  0.003397\n",
              "20      earl court  0.003397\n",
              "21   friendli help  0.003394\n",
              "22  friendli staff  0.003175\n",
              "23            area  0.003080\n",
              "24             bar  0.003019"
            ]
          },
          "metadata": {
            "tags": []
          },
          "execution_count": 326
        }
      ]
    },
    {
      "cell_type": "code",
      "metadata": {
        "id": "v2_nR3c1Fszo"
      },
      "source": [
        "def print_colorful_opinion(opinion):\n",
        "     \n",
        "    if type(opinion) == str:\n",
        "#         print('size == 1')\n",
        "        input_frase = opinion.split()\n",
        "    else:\n",
        "#         print('size != 1')\n",
        "        input_frase = opinion\n",
        "        \n",
        "    colors = {0:\"\\033[0;31m\", 1:'\\033[32m'} # red,  green\n",
        "    frase = str()\n",
        "    if not input_frase:\n",
        "        return \"\"\n",
        "    i = 0\n",
        "    n = len(input_frase)\n",
        "    while i < n:\n",
        "      #for bigrams\n",
        "        if i+1  < n and  input_frase[i] + ' ' + input_frase[i+1] in positive_ones:\n",
        "          frase += colors.get(1) + input_frase[i] + \" \" +  input_frase[i+1] + \" \"  + '\\x1b[0m'+ \" \" \n",
        "          i = i+1\n",
        "        elif i+1  < n and  input_frase[i] + ' ' + input_frase[i+1] in negative_ones:\n",
        "          frase += colors.get(0) + input_frase[i] + \" \" +  input_frase[i+1] + \" \"  + '\\x1b[0m'+ \" \" \n",
        "          i = i+1\n",
        "        #for unigrams\n",
        "        elif input_frase[i] in positive_ones:\n",
        "            frase += colors.get(1) + input_frase[i] + '\\x1b[0m'+ \" \" \n",
        "        elif input_frase[i] in negative_ones:\n",
        "            frase += colors.get(0) + input_frase[i] + '\\x1b[0m'+ \" \" \n",
        "        else:\n",
        "            frase += input_frase[i] + \" \"\n",
        "        i = i + 1\n",
        "            \n",
        "    print(frase)"
      ],
      "execution_count": 327,
      "outputs": []
    },
    {
      "cell_type": "code",
      "metadata": {
        "colab": {
          "base_uri": "https://localhost:8080/"
        },
        "id": "ZRAJAmQIMOi-",
        "outputId": "d221603e-1e91-47d3-8d65-e921fe2bdd45"
      },
      "source": [
        "for i in range(20):\n",
        "  print_colorful_opinion(positive_reviews_list[i])\n",
        "  print_colorful_opinion(negative_reviews_list[i])"
      ],
      "execution_count": 328,
      "outputs": [
        {
          "output_type": "stream",
          "text": [
            "\u001b[32mgood locat \u001b[0m set love park \u001b[32mfriendli staff \u001b[0m \u001b[32mfood\u001b[0m high qualiti oth enjoy \u001b[32mbreakfast\u001b[0m \n",
            "angri made post avail via possibl site use plane trip one make mistak book place made book via book com stay night \u001b[32mhotel\u001b[0m juli upon arriv place small room floor \u001b[32mhotel\u001b[0m turn room book special reserv level duplex room would \u001b[32mbig\u001b[0m window high ceil room ok mind broken window \u001b[32mclose\u001b[0m hello rain mini fridg contain sort bio weapon least \u001b[0;31mguess\u001b[0m smell intim ask \u001b[0;31mchang room \u001b[0m \u001b[0;31mexplain\u001b[0m time book duplex btw cost simpl doubl got way volum due high ceil offer room next day check next day clock order \u001b[32mget\u001b[0m room wane \u001b[32mbest\u001b[0m way begin holiday wait till order check new room wonder waist time room got want peac intern \u001b[32mgarden\u001b[0m view \u001b[32mbig\u001b[0m window tire wait room place belong rush \u001b[32mciti\u001b[0m \u001b[32meven\u001b[0m turn \u001b[0;31mconstant\u001b[0m nois room \u001b[0;31mguess\u001b[0m made vibrat vent tube someth \u001b[0;31mconstant\u001b[0m annoy hell stop \u001b[32meven\u001b[0m make \u001b[0;31mhard\u001b[0m fall asleep wife audio record attach want send via e mail next day technician came abl determin \u001b[0;31mcaus\u001b[0m disturb sound offer \u001b[0;31mchang room \u001b[0m \u001b[32mhotel\u001b[0m fulli book room left one smaller seem newer \n",
            "room stunningli \u001b[32mdecor\u001b[0m realli spaciou top \u001b[32mbuild\u001b[0m pictur room true \u001b[32mbeauti\u001b[0m \u001b[32mbuild\u001b[0m kept modernis brilliantli \u001b[32malso\u001b[0m bath love \u001b[32mbig\u001b[0m invit \u001b[32mgreat\u001b[0m coupl restaur menu bit pricey load littl eateri place nearbi within walk distanc tram stop \u001b[32mcentr\u001b[0m minut walk \u001b[32maway\u001b[0m stop \u001b[32mcentr\u001b[0m \u001b[32mamsterdam\u001b[0m would recommend \u001b[32mhotel\u001b[0m anyon unbeliev well price \n",
            "room dirti afraid walk barefoot floor look \u001b[32mclean\u001b[0m week white \u001b[0;31mfurnitur\u001b[0m look nice pictur dirti door look like attack angri dog shower \u001b[0;31mdrain\u001b[0m clog staff respond request \u001b[32mclean\u001b[0m day heavi rainfal pretti common occurr \u001b[32mamsterdam\u001b[0m roof room \u001b[0;31mleak\u001b[0m luckili \u001b[32mbed\u001b[0m could \u001b[32malso\u001b[0m see sign earlier water damag \u001b[32malso\u001b[0m saw insect run floor overal second floor properti look dirti \u001b[0;31mbadli\u001b[0m kept top repairman came fix someth room next door midnight noisi mani guest understand challeng run \u001b[32mhotel\u001b[0m old \u001b[32mbuild\u001b[0m neglig inconsist price demand \u001b[32mhotel\u001b[0m last night \u001b[0;31mcomplain\u001b[0m water damag night shift manag offer move differ room offer came pretti late \u001b[32maround\u001b[0m midnight alreadi \u001b[32mbed\u001b[0m readi sleep \n",
            "\u001b[32mhotel\u001b[0m renov \u001b[32mgreat\u001b[0m care appreci uniqu structur locat spaciou \u001b[32mcomfort room \u001b[0m larg doubl pane glass window onto lush greeneri park \u001b[32mbreakfast\u001b[0m select spectacular consid \u001b[32mgreat\u001b[0m \u001b[32mhotel\u001b[0m price plan return \n",
            "book compani line show pictur room thought \u001b[32mget\u001b[0m pay arriv room book staff told could book villa suit theough directli complet fals advertis realis \u001b[0;31mgroup\u001b[0m lot room photo togeth leav consum confus extreamli disgruntl \u001b[32mespeci\u001b[0m wife birthday present pleas make websit \u001b[0;31mclear\u001b[0m price photo realli know pay much wnded photo told \u001b[32mget\u001b[0m someth happi use \n",
            "\u001b[32mgood\u001b[0m histor \u001b[32mbuild\u001b[0m chose \n",
            "backyard \u001b[32mhotel\u001b[0m total mess \u001b[0;31mhappen\u001b[0m \u001b[32mhotel\u001b[0m star \n",
            "\u001b[32mhotel\u001b[0m awesom took sincir bit cheaper structur seem hold church \u001b[32mclose\u001b[0m one awesom park arriv \u001b[32mciti\u001b[0m like minut tram super \u001b[32measi\u001b[0m \u001b[32mhotel\u001b[0m insid awesom realli cool room incred nice two floor one super \u001b[32mbig\u001b[0m \u001b[32mcomfort room \u001b[0m come \u001b[32mback\u001b[0m sure staff gentl one spanish man realli realli \u001b[32mgood\u001b[0m \n",
            "\u001b[0;31mcleaner\u001b[0m chang sheet duvet everyday made \u001b[32mbed\u001b[0m \u001b[32malso\u001b[0m \u001b[32mclean\u001b[0m floor chang bodi gel run \n",
            "\u001b[32mbed\u001b[0m extrem \u001b[32mcomfi\u001b[0m staff well spoken \u001b[32malso\u001b[0m gave us \u001b[32mhelp\u001b[0m easiest way \u001b[32mciti\u001b[0m \u001b[32mcentr\u001b[0m relev transport ticket uniqu locat visit \u001b[32mdefinit\u001b[0m return \u001b[32mciti\u001b[0m \u001b[32mbeauti\u001b[0m peopl \u001b[32mfriendli\u001b[0m \n",
            "\u001b[32meven\u001b[0m though pictur show \u001b[32mclean\u001b[0m room actual room quit dirti outliv \u001b[32malso\u001b[0m check clock room readi time \n",
            "love \u001b[32mhotel\u001b[0m extrem \u001b[32mcomfort\u001b[0m \u001b[32mhuge\u001b[0m doubl \u001b[32mbed\u001b[0m stay split level room realli like difficulti \u001b[32mget\u001b[0m stair request stay room one level oosterpark \u001b[32mbeauti\u001b[0m shop restaur \u001b[32mgreat\u001b[0m lot varieti choos \u001b[32mget\u001b[0m metro \u001b[32mclose\u001b[0m walk tram short walk \u001b[32maway\u001b[0m run station \u001b[32mget\u001b[0m within min walk \u001b[32mhotel\u001b[0m \u001b[32mbeauti\u001b[0m \u001b[32mhotel\u001b[0m \u001b[32mfriendli staff \u001b[0m shampoo soap shower tea coffe \u001b[32mfacil\u001b[0m room locat relax \u001b[32mcentral\u001b[0m \u001b[32mamsterdam\u001b[0m return \n",
            "start \u001b[32mbig\u001b[0m nois worker load wood window stupid room number system took minut night guard final find room check staff point us wrong direct late dinner \u001b[32mbar\u001b[0m \u001b[32mclose\u001b[0m ugli view trash lorri window inform computer telephon \u001b[32mhuge\u001b[0m price differ book com price euro \u001b[32mhotel\u001b[0m price \n",
            "\u001b[32mhotel\u001b[0m love locat tram ride center train right outsid \u001b[32mhotel\u001b[0m \u001b[32measi\u001b[0m \u001b[32maccess\u001b[0m everywher staff super \u001b[32mfriendli\u001b[0m \u001b[32malway\u001b[0m hand \u001b[32mhelp\u001b[0m advic wonder bright \u001b[32mcomfort\u001b[0m \u001b[32mclean\u001b[0m room \u001b[32mbed\u001b[0m \u001b[32mamaz\u001b[0m felt sleep cloud \u001b[32mbathroom\u001b[0m \u001b[32mclean\u001b[0m spaciou airi shampoo bodi wash alongsid hair dryer towel safe wardrob hanger cloth holder \u001b[32mdesk\u001b[0m chair room servic hair dryer fridg kettl cup tea coffe liter \u001b[32meveryth\u001b[0m need room perfect \u001b[32mhotel\u001b[0m fault love smell restaur downstair \u001b[32mgreat\u001b[0m tenni \u001b[32mcourt\u001b[0m outsid \u001b[32mhotel\u001b[0m littl pond well \u001b[32mhuge\u001b[0m park walk \u001b[32maround\u001b[0m \n",
            "floor room filfi dirti basic room old tv room fridg work overpr \u001b[32mbreakfast\u001b[0m \n",
            "\u001b[32mhotel\u001b[0m locat \u001b[32mbeauti\u001b[0m old monasteri \u001b[32mbuild\u001b[0m special mood combin modern featur \u001b[32mbig\u001b[0m park opposit \u001b[32mhotel\u001b[0m public transport nice bakeri \u001b[32mbreakfast\u001b[0m \u001b[32malso\u001b[0m \u001b[32mclose\u001b[0m \u001b[32mgood\u001b[0m wifi \u001b[32maround\u001b[0m \u001b[32mhotel\u001b[0m \n",
            "steep step room \u001b[32mbed\u001b[0m safe children \u001b[0;31mask move \u001b[0m room put anoth ident one room \u001b[32mdecor\u001b[0m minamilist like felt prison cell spars \n",
            "staff \u001b[32mfriendli help \u001b[0m plu \u001b[32mbar\u001b[0m restaur \u001b[32marea\u001b[0m \u001b[32mbeauti\u001b[0m locat park old \u001b[32mbuild\u001b[0m simpli stun \n",
            "\u001b[32mbed\u001b[0m upper level narrow twist staircas usb port mobil phone charg \u001b[32meven\u001b[0m via thr tv socket work loos \u001b[0;31mcover\u001b[0m \u001b[0;31mdanger\u001b[0m corridor poorli lit \n",
            "nice \u001b[32mhotel\u001b[0m locat park ca minut walk \u001b[32mciti\u001b[0m center typic \u001b[32mamsterdam\u001b[0m sinc \u001b[32mciti\u001b[0m \u001b[32mhotel\u001b[0m locat small \u001b[32mbuild\u001b[0m pay attent fact room two storey use stair \u001b[32mget\u001b[0m \u001b[32mbed\u001b[0m \n",
            "room overr \u001b[0;31mdisast\u001b[0m room dirti smelli hot noisi \u001b[0;31mbang\u001b[0m door corridor room move couch bid dirt dust month \u001b[32mclean\u001b[0m \u001b[0;31mappear\u001b[0m smell gutter disturb light weak black \u001b[32mbathroom\u001b[0m worst \u001b[32mdesign\u001b[0m \u001b[0;31mdisast\u001b[0m one imagin found whole \u001b[32mhotel\u001b[0m dirti dusti date spend euro dirti attic room daylight robberi \n",
            "locat \u001b[32mamaz\u001b[0m room \u001b[32mfantast\u001b[0m east \u001b[32maccess\u001b[0m public transport set love oosterpark lot place eat drink near nice walk main \u001b[32marea\u001b[0m \u001b[32mamsterdam\u001b[0m would \u001b[32mdefinit\u001b[0m like stay \u001b[32mbreakfast\u001b[0m restaur site fairli standard brit connoisseur cook \u001b[32mbreakfast\u001b[0m littl disappoint hot \u001b[32mfood\u001b[0m gener lot offer everyon cook \u001b[32mbreakfast\u001b[0m like english \u001b[32mhelp staff \u001b[0m nice place sit coffe start day least worri due mani \u001b[32mgood\u001b[0m place eat \u001b[32maround\u001b[0m person prefer wander explor dine experi qualifi give true opinion restaur certainli busi \u001b[32meven\u001b[0m suggest pretti \u001b[32mgood\u001b[0m \u001b[32mdefinit\u001b[0m stay possibl next time take trip \u001b[32mamsterdam\u001b[0m \n",
            "sadli can not say room \u001b[32mclean\u001b[0m enough got room immedi notic someth wet sticki like juic someth next \u001b[32mbed\u001b[0m call front \u001b[32mdesk\u001b[0m said send \u001b[32mclean\u001b[0m \u001b[0;31mladi\u001b[0m us wait least half hour one show \u001b[32mgo\u001b[0m front \u001b[32mdesk\u001b[0m \u001b[0;31mcomplain\u001b[0m got \u001b[32mback\u001b[0m later \u001b[32meven\u001b[0m juic remov still hair spot howev interest \u001b[0;31mcomplain\u001b[0m anymor \u001b[32malso\u001b[0m wall room \u001b[0;31mcurtain\u001b[0m \u001b[32mbathroom\u001b[0m lot stain ignor whole time feel \u001b[32mcomfort\u001b[0m staff front \u001b[32mdesk\u001b[0m \u001b[32mfriendli\u001b[0m howev \u001b[0;31mguess\u001b[0m pay realli bad \u001b[32mclean\u001b[0m \u001b[0;31mladi\u001b[0m first greet \u001b[32mclean\u001b[0m staff run one \u001b[0;31mhallway\u001b[0m annoy got woke morn \u001b[32mclean\u001b[0m \u001b[0;31mladi\u001b[0m \u001b[0;31mclose door \u001b[0m loudli \u001b[32mclean\u001b[0m room \u001b[32mclose\u001b[0m loudli least hour kept open \u001b[0;31mclose door \u001b[0m realli annoy holiday want \u001b[32mgood\u001b[0m sleep least park place small ok arriv ticket machin broken someon told us need ticket \u001b[32mget\u001b[0m inform front \u001b[32mdesk\u001b[0m check paid day check drove ticket machin broken actual plug ticket paid lot money cours pay park still happi feel paid noth \n",
            "staff \u001b[32mamaz\u001b[0m \u001b[32mfriendli\u001b[0m proud place work cafe cool \u001b[32mback\u001b[0m \n",
            "\u001b[32mbathroom\u001b[0m urin order shower slipperi shower chair handl \u001b[32mbar\u001b[0m \u001b[0;31mbed uncomfort \u001b[0m mattress pad \u001b[32mbig\u001b[0m felt like fall expens \u001b[32mbreakfast\u001b[0m includ construct remodel \u001b[32mgo\u001b[0m inconvenienc park nice \u001b[32mclose\u001b[0m town museum \n",
            "qualiti \u001b[32mhotel\u001b[0m \u001b[32mbrilliant\u001b[0m \u001b[32meven\u001b[0m though renov disrupt nois locat \u001b[32mhotel\u001b[0m far enough \u001b[32maway\u001b[0m \u001b[32mcentr\u001b[0m \u001b[32mciti\u001b[0m feel like tourist trap \u001b[32malso\u001b[0m situat \u001b[32mfantast\u001b[0m park near \u001b[32mgreat\u001b[0m \u001b[32mbar\u001b[0m restaur can not fault staff \u001b[32mfacil\u001b[0m price would highli recommend anyon \n",
            "pleas see \n",
            "room upgrad renov part \u001b[32mbuild\u001b[0m room given enorm \u001b[32mcomfort\u001b[0m wish stay week one night \n",
            "staff \u001b[32mfriendli\u001b[0m will enough \u001b[32mhelp\u001b[0m ran one gentleman seem train total ineffect everi question ask refer someon els make eye \u001b[0;31mcontact\u001b[0m \u001b[32meven\u001b[0m say know answer let find seem manag \u001b[32maround\u001b[0m unfortun still lot construct \u001b[32mgo\u001b[0m \u001b[0;31mdifficult\u001b[0m see \u001b[32mbuild\u001b[0m like finish temporari recept \u001b[32marea\u001b[0m small dark \u001b[32marea\u001b[0m \u001b[32mcentral\u001b[0m staircas bad \u001b[32mbreakfast\u001b[0m overpr \u001b[32mgood\u001b[0m ordinari buffet \n",
            "locat quiet park \u001b[32mgreat\u001b[0m terrac space room exquisit lot tast gigant \u001b[32mbed\u001b[0m pillow bedsheet super \u001b[32mcomfort\u001b[0m dark silent someth imposs find \u001b[32mamsterdam\u001b[0m staff \u001b[32mfriendli\u001b[0m accommod restaur view park \u001b[32mgreat\u001b[0m work eat \n",
            "\u001b[32mhotel\u001b[0m undergo \u001b[32mbuild\u001b[0m new wing \u001b[0;31mcaus\u001b[0m us issu except sign \u001b[32mbuild\u001b[0m work meant recept temporari pop affair room tire need love first room broken window mechan sign \u001b[0;31mdamp\u001b[0m chunk plaster miss \u001b[32maround\u001b[0m window \u001b[32marea\u001b[0m shower \u001b[0;31mdrain\u001b[0m properli overflow coupl minut request anoth room duli transfer better although \u001b[32mbathroom\u001b[0m light would work longer minut went \u001b[0;31mguess\u001b[0m problem transform overload fault report rectifi stay \u001b[32mbuild\u001b[0m magnific room need care attent \u001b[32mhotel\u001b[0m would first rate \n",
            "\u001b[32mbeauti\u001b[0m set love park room spaciou \u001b[32mclean comfort \u001b[0m \u001b[32mbar\u001b[0m \u001b[32marea\u001b[0m look park stun locat peac outskirt \u001b[32mciti\u001b[0m \u001b[32measi\u001b[0m travel \u001b[32maround\u001b[0m tram system old \u001b[32mbuild\u001b[0m modern refurbish suit us perfectli \n",
            "\u001b[32mhotel\u001b[0m \u001b[32mgo\u001b[0m major construct renov mention book process staff poorli train check work \u001b[32mbreakfast\u001b[0m staff interest sign \u001b[32mbreakfast\u001b[0m check although prepaid \u001b[32mbreakfast\u001b[0m serv cappuccino room \u001b[32mhuge\u001b[0m meter high ceil \u001b[0;31mfreez\u001b[0m cold heat work \u001b[32mbathroom\u001b[0m hot room abl take shower morn water boil hot could regul temperatur forget work room work \u001b[32marea\u001b[0m feel like sanatorium paid never \n",
            "\u001b[32mhotel\u001b[0m love staff \u001b[32mamaz\u001b[0m \u001b[32meven\u001b[0m sort book meal taxi email first book onlin \u001b[32mgood\u001b[0m idea found one \u001b[32mbest\u001b[0m town set park look \u001b[32mamaz\u001b[0m outsid insid top draw would highli recommend \n",
            "servic aw refus take ownership mistak part \u001b[32meven\u001b[0m ask morn \n",
            "basic \u001b[32meveryth\u001b[0m style \u001b[32mhotel\u001b[0m realli \u001b[32mgreat\u001b[0m \u001b[32mbreakfast\u001b[0m realli \u001b[32mgood\u001b[0m \u001b[32mgood\u001b[0m qualiti \u001b[32mfood\u001b[0m realli realli nice coff order \u001b[32mbar\u001b[0m wifi \u001b[32mgood\u001b[0m room \u001b[32malso\u001b[0m throuout \u001b[32mhotel\u001b[0m locat near metro station \u001b[32measi\u001b[0m \u001b[32mget\u001b[0m center love \u001b[32mhotel\u001b[0m honestli stay sure staff care \u001b[32mgood\u001b[0m stay realli like thumb \n",
            "\u001b[32mhotel\u001b[0m construct never mention book point arriv wander \u001b[32maround\u001b[0m empti half finish corridor look temporari lobbi room nice \u001b[32mbathroom\u001b[0m glass box insid bedroom anyway privat shower use toilet feel aptli like perform kinki \u001b[32mamsterdam\u001b[0m window \u001b[32malso\u001b[0m nail stick \u001b[0;31mentranc\u001b[0m glass \u001b[32mbathroom\u001b[0m first discov barefoot woke sound scaffold hammer togeth someon drill concret hardli relax break noisey london believ book pictur \u001b[32mhotel\u001b[0m look park yet room look empti courtyard scatter random bit scaffold debri first floor corridor smell like seriou block plumb issu perhap anoth guest unwel \u001b[32mbreakfast\u001b[0m realli lazili thrown togeth cheap product entir tasteless honestli worth \u001b[32mget\u001b[0m \u001b[32mbreakfast\u001b[0m somewher els instead spent day uber \u001b[32mhotel\u001b[0m mile anyth novelti walk \u001b[32maround\u001b[0m pretti canal end minut \u001b[32mhotel\u001b[0m \u001b[32meven\u001b[0m come view \u001b[32malso\u001b[0m take \u001b[0;31mdeposit\u001b[0m \u001b[0;31madvanc\u001b[0m everi day plan stay meant arriv suddenli pay \u001b[0;31mcaus\u001b[0m non sterl transact charg card full amount refund left minu bank charg pointless menditori transact made \u001b[32mbest\u001b[0m realli wish open current state place \u001b[32mdefinit\u001b[0m would stay somewher els \n",
            "\u001b[32mhotel\u001b[0m \u001b[32mfantast\u001b[0m love set park \u001b[32mhotel\u001b[0m \u001b[32mdecor\u001b[0m \u001b[32mgood\u001b[0m standard \n",
            "servic \u001b[0;31mhorribl\u001b[0m pillow super stiff \u001b[32mbig\u001b[0m could break neck room servic done remov towel leav us anyth door \u001b[32mclose\u001b[0m found second day easili open servic gener poor would stay \n"
          ],
          "name": "stdout"
        }
      ]
    },
    {
      "cell_type": "markdown",
      "metadata": {
        "id": "WIW-gicHVSpZ"
      },
      "source": [
        "##For bigrams only"
      ]
    },
    {
      "cell_type": "code",
      "metadata": {
        "id": "n6GGwhtmVVEs"
      },
      "source": [
        "v = TfidfVectorizer(analyzer='word', token_pattern=r'\\w{1,}', ngram_range=(2,2), max_features=1000)\n",
        "tfidf_matrix = v.fit_transform(reviews_list)\n",
        "feature_names = v.get_feature_names()\n",
        "\n",
        "clf = MultinomialNB()\n",
        "clf.fit(tfidf_matrix, [-1 if i <500 else 1 for i in range(1000)])\n",
        "\n",
        "positive_ones = {}\n",
        "negative_ones = {}\n",
        "\n",
        "#pick all words with tf-idf scores\n",
        "for col in x.nonzero()[1]:\n",
        "  positive_ones[feature_names[col]] = clf.coef_[0, col]\n",
        "  negative_ones[feature_names[col]] = clf.coef_[0, col]\n",
        "\n",
        "positive_ones = [[key, value] for key, value in positive_ones.items()]\n",
        "negative_ones = [[key, value] for key, value in negative_ones.items()]\n",
        "\n",
        "positive_ones = {el[0] for el in sorted(positive_ones, key= lambda x: x[1], reverse=True)[:n]}\n",
        "negative_ones = {el[0] for el in sorted(negative_ones, key= lambda x: x[1])[:n]}"
      ],
      "execution_count": 329,
      "outputs": []
    },
    {
      "cell_type": "code",
      "metadata": {
        "colab": {
          "base_uri": "https://localhost:8080/"
        },
        "id": "HYiA4nzHqR5k",
        "outputId": "53f6dffe-cc8c-479f-8fc6-2185fdd1beca"
      },
      "source": [
        "clf.score(tfidf_matrix, [-1 if i <500 else 1 for i in range(1000)])"
      ],
      "execution_count": 332,
      "outputs": [
        {
          "output_type": "execute_result",
          "data": {
            "text/plain": [
              "0.917"
            ]
          },
          "metadata": {
            "tags": []
          },
          "execution_count": 332
        }
      ]
    },
    {
      "cell_type": "code",
      "metadata": {
        "id": "lNlsCrWwVsdl"
      },
      "source": [
        "def print_colorful_opinion(opinion):\n",
        "     \n",
        "    if type(opinion) == str:\n",
        "#         print('size == 1')\n",
        "        input_frase = opinion.split()\n",
        "    else:\n",
        "#         print('size != 1')\n",
        "        input_frase = opinion\n",
        "        \n",
        "    colors = {0:\"\\033[0;31m\", 1:'\\033[32m'} # red,  green\n",
        "    frase = str()\n",
        "    if not input_frase:\n",
        "        return \"\"\n",
        "    i = 0\n",
        "    n = len(input_frase)\n",
        "    while i < n:\n",
        "        if i+1  < n and  input_frase[i] + ' ' + input_frase[i+1] in positive_ones:\n",
        "          frase += colors.get(1) + input_frase[i] + \" \" +  input_frase[i+1] + \" \"  + '\\x1b[0m'+ \" \" \n",
        "          i = i+1\n",
        "        elif i+1  < n and  input_frase[i] + ' ' + input_frase[i+1] in negative_ones:\n",
        "          frase += colors.get(0) + input_frase[i] + \" \" +  input_frase[i+1] + \" \"  + '\\x1b[0m'+ \" \" \n",
        "          i = i+1\n",
        "        else:\n",
        "          frase += input_frase[i] + \" \"\n",
        "        i = i + 1\n",
        "            \n",
        "    print(frase)"
      ],
      "execution_count": 330,
      "outputs": []
    },
    {
      "cell_type": "code",
      "metadata": {
        "colab": {
          "base_uri": "https://localhost:8080/"
        },
        "id": "0TnoJvidVeqD",
        "outputId": "85c97336-c7aa-40b5-b361-c54c1927c2dd"
      },
      "source": [
        "for i in range(20):\n",
        "  print_colorful_opinion(positive_reviews_list[i])\n",
        "  print_colorful_opinion(negative_reviews_list[i])"
      ],
      "execution_count": 331,
      "outputs": [
        {
          "output_type": "stream",
          "text": [
            "\u001b[32mgood locat \u001b[0m set love park \u001b[32mfriendli staff \u001b[0m food high qualiti oth enjoy breakfast \n",
            "angri made post avail via possibl site use plane trip one make mistak book place made book via book com stay night hotel juli upon arriv place small room floor hotel turn room book special reserv level duplex room would \u001b[0;31mbig window \u001b[0m high ceil room ok mind broken window close hello rain mini fridg contain sort bio weapon least guess smell intim ask \u001b[0;31mchang room \u001b[0m explain time book duplex btw cost simpl doubl got way volum due high ceil offer room next day check next day clock order get room wane best way begin holiday wait till order check new room wonder waist time room got want peac intern garden view \u001b[0;31mbig window \u001b[0m tire wait room place belong rush citi even turn \u001b[0;31mconstant nois \u001b[0m room guess made vibrat vent tube someth constant annoy hell stop even make hard fall asleep wife audio record attach want send via e mail next day technician came abl determin caus disturb sound offer \u001b[0;31mchang room \u001b[0m hotel \u001b[0;31mfulli book \u001b[0m room left one smaller seem newer \n",
            "room stunningli decor realli spaciou top build pictur room true beauti build kept modernis brilliantli also bath love big invit great coupl restaur menu bit pricey load littl eateri place nearbi within walk distanc tram stop centr minut walk away stop centr amsterdam would recommend hotel anyon unbeliev well price \n",
            "room dirti afraid walk barefoot floor look clean week white furnitur look nice pictur dirti door look like attack angri dog shower drain clog staff respond request \u001b[0;31mclean day \u001b[0m heavi rainfal pretti common occurr amsterdam roof room leak luckili bed could also see sign earlier water damag also saw insect run floor overal second floor properti look dirti badli kept top repairman came fix someth room next door midnight noisi mani guest understand challeng run hotel old build neglig inconsist price demand hotel last night complain water damag night shift manag offer move \u001b[0;31mdiffer room \u001b[0m offer came pretti late around midnight alreadi bed readi sleep \n",
            "hotel renov great care appreci uniqu structur locat spaciou \u001b[32mcomfort room \u001b[0m larg doubl pane glass window onto lush greeneri park breakfast select spectacular consid \u001b[32mgreat hotel \u001b[0m price plan return \n",
            "book compani line show pictur room thought \u001b[0;31mget pay \u001b[0m arriv room book staff told could book villa suit theough directli complet fals advertis realis group lot room photo togeth leav consum confus extreamli disgruntl especi wife birthday present pleas make websit clear price photo realli know pay much wnded photo told get someth happi use \n",
            "good histor build chose \n",
            "backyard hotel total mess happen \u001b[0;31mhotel star \u001b[0m \n",
            "hotel awesom took sincir bit cheaper structur seem hold church close one awesom park arriv citi like minut tram super easi hotel insid awesom realli cool room incred nice two floor one super big \u001b[32mcomfort room \u001b[0m come back sure staff gentl one spanish man realli realli good \n",
            "cleaner chang sheet duvet everyday made \u001b[0;31mbed also \u001b[0m clean floor chang bodi gel run \n",
            "bed extrem comfi staff well spoken also \u001b[32mgave us \u001b[0m help easiest way \u001b[32mciti centr \u001b[0m relev transport ticket uniqu locat visit definit return citi beauti peopl friendli \n",
            "even though pictur show \u001b[32mclean room \u001b[0m \u001b[0;31mactual room \u001b[0m quit dirti outliv also check clock room readi time \n",
            "love hotel extrem comfort huge doubl bed stay split level room realli like difficulti get stair request stay room one level oosterpark beauti shop restaur great lot varieti choos get metro close walk tram short walk away run station get within min walk \u001b[32mhotel beauti \u001b[0m hotel \u001b[32mfriendli staff \u001b[0m shampoo soap shower tea coffe facil room locat relax central amsterdam return \n",
            "start big nois worker load wood window stupid room number system took minut night guard final find room check staff point us wrong direct late dinner bar close ugli view trash lorri window inform computer telephon huge price differ book com price euro hotel price \n",
            "\u001b[32mhotel love \u001b[0m locat tram ride center train right outsid hotel \u001b[32measi access \u001b[0m everywher staff super friendli alway hand help advic wonder bright comfort \u001b[32mclean room \u001b[0m bed amaz felt sleep cloud bathroom clean spaciou airi shampoo bodi wash alongsid hair dryer towel safe wardrob hanger cloth holder desk chair room servic hair dryer fridg kettl cup tea coffe liter everyth need room perfect hotel fault love smell restaur downstair great tenni court outsid hotel littl pond well huge park walk around \n",
            "floor room filfi dirti basic room old tv room fridg work overpr breakfast \n",
            "\u001b[32mhotel locat \u001b[0m beauti old monasteri build special mood combin modern featur big park opposit hotel public transport nice bakeri breakfast also close good wifi around hotel \n",
            "steep step room bed safe children ask move room put anoth ident one room decor minamilist like felt prison cell spars \n",
            "staff \u001b[32mfriendli help \u001b[0m plu \u001b[32mbar restaur \u001b[0m area beauti locat park old build simpli stun \n",
            "bed upper level narrow twist staircas usb port mobil phone charg even via thr tv socket work loos cover danger corridor poorli lit \n",
            "nice \u001b[32mhotel locat \u001b[0m park ca minut walk citi center typic amsterdam sinc citi \u001b[32mhotel locat \u001b[0m small build pay attent fact room two storey use stair get bed \n",
            "room overr disast room dirti smelli hot noisi bang door corridor room move couch bid dirt dust month clean appear smell gutter disturb light weak black bathroom worst design disast one imagin found whole hotel dirti dusti date spend euro dirti attic room daylight robberi \n",
            "locat amaz room fantast east access public transport set love oosterpark lot place eat drink near nice walk main area amsterdam would definit like stay breakfast restaur site fairli standard brit connoisseur cook breakfast littl disappoint hot food gener lot offer everyon cook breakfast like english \u001b[32mhelp staff \u001b[0m nice place sit coffe start day least worri due mani good place eat around person prefer wander explor dine experi qualifi give true opinion restaur certainli busi even suggest pretti good \u001b[32mdefinit stay \u001b[0m possibl next time take trip amsterdam \n",
            "sadli can not say room \u001b[0;31mclean enough \u001b[0m got room immedi notic someth wet sticki like juic someth next bed call \u001b[32mfront desk \u001b[0m said send clean ladi us wait least half hour one show go \u001b[32mfront desk \u001b[0m complain got back later even juic remov still hair spot howev interest complain anymor also wall room curtain bathroom lot stain ignor whole time feel comfort staff \u001b[32mfront desk \u001b[0m friendli howev guess pay realli bad clean ladi first greet \u001b[32mclean staff \u001b[0m run one hallway annoy got woke morn clean ladi \u001b[0;31mclose door \u001b[0m loudli \u001b[32mclean room \u001b[0m close loudli least hour kept open \u001b[0;31mclose door \u001b[0m realli annoy holiday want good sleep least park place small ok arriv ticket machin broken someon told us need ticket get inform \u001b[32mfront desk \u001b[0m check paid day check drove ticket machin broken actual plug ticket paid lot money cours pay park still happi feel paid noth \n",
            "staff amaz friendli proud place work cafe cool back \n",
            "bathroom urin order shower slipperi shower chair handl bar bed uncomfort mattress pad big felt like fall expens breakfast includ construct remodel go inconvenienc park nice close town museum \n",
            "qualiti hotel brilliant even though renov disrupt nois \u001b[32mlocat hotel \u001b[0m far enough away centr citi feel like tourist trap also situat fantast park near great \u001b[32mbar restaur \u001b[0m can not fault staff facil price would highli recommend anyon \n",
            "pleas see \n",
            "room upgrad renov part build room given enorm comfort wish stay week one night \n",
            "staff friendli will enough help ran one gentleman seem train total ineffect everi question ask refer someon els make eye contact even say know answer let find seem manag around unfortun still lot construct go difficult see build like finish temporari recept area small dark area central staircas bad breakfast overpr good ordinari buffet \n",
            "\u001b[32mlocat quiet \u001b[0m park great terrac space room exquisit lot tast gigant bed pillow bedsheet super comfort dark silent someth imposs find amsterdam staff friendli accommod restaur view park great work eat \n",
            "hotel undergo build new wing caus us issu except sign build work meant recept temporari pop affair room tire need love first room broken window mechan sign damp chunk plaster miss around window area shower drain properli overflow coupl minut request anoth room duli transfer better although bathroom light would work longer minut went guess problem transform overload fault report rectifi stay build magnific room need care attent hotel would first rate \n",
            "beauti set love park room spaciou \u001b[32mclean comfort \u001b[0m \u001b[32mbar area \u001b[0m look park stun locat peac outskirt citi easi travel around tram system old build modern refurbish suit us perfectli \n",
            "hotel go major construct renov mention \u001b[0;31mbook process \u001b[0m staff poorli train check work breakfast staff interest sign breakfast check although prepaid breakfast serv cappuccino room huge meter high ceil freez cold \u001b[0;31mheat work \u001b[0m bathroom hot room abl take shower morn water boil hot could regul temperatur forget work room work area feel like sanatorium paid never \n",
            "\u001b[32mhotel love \u001b[0m staff amaz even sort book meal taxi email first book onlin good idea found one best town set park look amaz outsid insid top draw would highli recommend \n",
            "servic aw refus take ownership mistak part even ask morn \n",
            "basic everyth style hotel realli \u001b[32mgreat breakfast \u001b[0m realli good good qualiti food realli realli nice coff order bar wifi good room also throuout \u001b[32mhotel locat \u001b[0m near metro station \u001b[32measi get \u001b[0m center love hotel honestli stay sure staff care good stay realli like thumb \n",
            "hotel construct never mention book point arriv wander around empti half finish corridor look temporari lobbi room nice bathroom glass box insid bedroom anyway privat shower use toilet feel aptli like perform kinki amsterdam window also nail stick entranc glass bathroom first discov barefoot woke sound scaffold hammer togeth someon drill concret hardli relax break noisey london believ book pictur hotel look park yet room look empti courtyard scatter random bit scaffold debri first floor corridor smell like seriou block plumb issu perhap anoth guest unwel breakfast realli lazili thrown togeth cheap product entir tasteless honestli worth get breakfast somewher els instead spent day uber hotel mile anyth novelti walk around pretti canal end minut hotel even come view also take deposit advanc everi day plan stay meant arriv suddenli pay caus non sterl transact charg card \u001b[0;31mfull amount \u001b[0m refund left minu bank charg pointless menditori transact made best realli wish open current state place definit would stay somewher els \n",
            "hotel fantast love set park hotel decor good standard \n",
            "servic horribl pillow super stiff big could break neck room servic done remov towel leav us anyth door close found second day easili open servic gener poor would stay \n"
          ],
          "name": "stdout"
        }
      ]
    }
  ]
}