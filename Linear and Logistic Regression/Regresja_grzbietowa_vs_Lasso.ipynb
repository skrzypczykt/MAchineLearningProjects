{
  "nbformat": 4,
  "nbformat_minor": 0,
  "metadata": {
    "colab": {
      "name": "Regresja grzbietowa vs Lasso.ipynb",
      "provenance": [],
      "authorship_tag": "ABX9TyPEoLefzVVbRjQc1gWoQM9x",
      "include_colab_link": true
    },
    "kernelspec": {
      "name": "python3",
      "display_name": "Python 3"
    },
    "language_info": {
      "name": "python"
    }
  },
  "cells": [
    {
      "cell_type": "markdown",
      "metadata": {
        "id": "view-in-github",
        "colab_type": "text"
      },
      "source": [
        "<a href=\"https://colab.research.google.com/github/skrzypczykt/MAchineLearningProjects/blob/main/Linear%20and%20Logistic%20Regression/Regresja_grzbietowa_vs_Lasso.ipynb\" target=\"_parent\"><img src=\"https://colab.research.google.com/assets/colab-badge.svg\" alt=\"Open In Colab\"/></a>"
      ]
    },
    {
      "cell_type": "markdown",
      "metadata": {
        "id": "bEAeH6Lkr7_z"
      },
      "source": [
        "#Metody Regularyzacji zadanie"
      ]
    },
    {
      "cell_type": "markdown",
      "metadata": {
        "id": "nRvNYos7VfKO"
      },
      "source": [
        "#Zadanie"
      ]
    },
    {
      "cell_type": "markdown",
      "metadata": {
        "id": "X6Q_BDrnVeHX"
      },
      "source": [
        "Przeprowadziliśmy procedurę wyboru najlepszego modelu dla regresji LASSO. Przeprowadź taką samą analizę dla regresji grzbietowej i modelu Elastic-Net. Który z modeli jest najlepszy? Odpowiedź uzasadnij (10 pkt.)."
      ]
    },
    {
      "cell_type": "code",
      "metadata": {
        "id": "3jIIICuMQGEe"
      },
      "source": [
        "import numpy as np\n",
        "import pandas as pd\n",
        "from sklearn.linear_model import LogisticRegression\n",
        "from sklearn.model_selection import GridSearchCV\n",
        "from sklearn.model_selection import train_test_split\n",
        "from sklearn.preprocessing import StandardScaler\n",
        "from sklearn.metrics import accuracy_score\n",
        "from scipy.stats import uniform\n",
        "from sklearn.metrics import confusion_matrix\n",
        "data = np.genfromtxt('/content/australian.dat',\n",
        "                     skip_header=0,\n",
        "                     skip_footer=0,\n",
        "                     names=True,\n",
        "                     dtype=float,\n",
        "                     delimiter=' ')\n",
        "df = pd.DataFrame(data)\n",
        "column_names = [f'x{i}' for i in range(14)]\n",
        "column_names.append('class')\n",
        "df.columns =  column_names"
      ],
      "execution_count": null,
      "outputs": []
    },
    {
      "cell_type": "code",
      "metadata": {
        "id": "OrOsONjdTwHR"
      },
      "source": [
        "X,y = df.drop(['class'],axis=1), df['class']\n",
        "\n",
        "train_ratio = 0.7\n",
        "\n",
        "X_train,X_test, y_train,y_test  = train_test_split(X,y, test_size=1 - train_ratio , random_state=42)"
      ],
      "execution_count": null,
      "outputs": []
    },
    {
      "cell_type": "code",
      "metadata": {
        "id": "V88y0nOAUJ0N"
      },
      "source": [
        "#Standaryzacja\n",
        "scaler = StandardScaler()\n",
        "X_train_scaled = scaler.fit_transform(X_train)\n",
        "X_test_scaled = scaler.transform(X_test)"
      ],
      "execution_count": null,
      "outputs": []
    },
    {
      "cell_type": "code",
      "metadata": {
        "colab": {
          "base_uri": "https://localhost:8080/"
        },
        "id": "zQ1cBwMwVFSl",
        "outputId": "3db977de-7215-4f45-901e-5edc92b51b2d"
      },
      "source": [
        "##Regresja grzbietowa\n",
        "\n",
        "distributions = dict(C=np.arange(00.01,3,0.2))\n",
        "lr_l2 = LogisticRegression(penalty='l2')\n",
        "grzbietowa = GridSearchCV(lr_l2, distributions,  refit=True, verbose=1)\n",
        "search = grzbietowa.fit(X_train_scaled, y_train)\n",
        "grzbietowa_pred = grzbietowa.predict(X_test_scaled)\n",
        "search.best_params_\n",
        "#Najlepsze parametry:"
      ],
      "execution_count": null,
      "outputs": [
        {
          "output_type": "stream",
          "text": [
            "Fitting 5 folds for each of 15 candidates, totalling 75 fits\n"
          ],
          "name": "stdout"
        },
        {
          "output_type": "stream",
          "text": [
            "[Parallel(n_jobs=1)]: Using backend SequentialBackend with 1 concurrent workers.\n",
            "[Parallel(n_jobs=1)]: Done  75 out of  75 | elapsed:    0.4s finished\n"
          ],
          "name": "stderr"
        },
        {
          "output_type": "execute_result",
          "data": {
            "text/plain": [
              "{'C': 0.21000000000000002}"
            ]
          },
          "metadata": {
            "tags": []
          },
          "execution_count": 29
        }
      ]
    },
    {
      "cell_type": "code",
      "metadata": {
        "colab": {
          "base_uri": "https://localhost:8080/"
        },
        "id": "m4-XSyPOp279",
        "outputId": "8e6ad553-5e14-48b7-eebf-d8256890f304"
      },
      "source": [
        "print(\"Macierz pomylek regresji grzbietowej\")\n",
        "confusion_matrix(y_test, grzbietowa_pred)"
      ],
      "execution_count": null,
      "outputs": [
        {
          "output_type": "stream",
          "text": [
            "Macierz pomylek regresji grzbietowej\n"
          ],
          "name": "stdout"
        },
        {
          "output_type": "execute_result",
          "data": {
            "text/plain": [
              "array([[101,  23],\n",
              "       [  5,  78]])"
            ]
          },
          "metadata": {
            "tags": []
          },
          "execution_count": 30
        }
      ]
    },
    {
      "cell_type": "code",
      "metadata": {
        "id": "DixStlB6opic",
        "colab": {
          "base_uri": "https://localhost:8080/"
        },
        "outputId": "32ff8c86-f513-48f1-9751-eb9fffa01b3f"
      },
      "source": [
        "accuracy_l2 = accuracy_score(y_test, grzbietowa_pred)\n",
        "accuracy_l2"
      ],
      "execution_count": null,
      "outputs": [
        {
          "output_type": "execute_result",
          "data": {
            "text/plain": [
              "0.8647342995169082"
            ]
          },
          "metadata": {
            "tags": []
          },
          "execution_count": 31
        }
      ]
    },
    {
      "cell_type": "code",
      "metadata": {
        "colab": {
          "base_uri": "https://localhost:8080/"
        },
        "id": "4w8brTW4Vrct",
        "outputId": "18ef8c7a-7863-4279-f49d-f9bbd687c3ba"
      },
      "source": [
        "distributions = dict(C=np.arange(00.01,2,0.1),l1_ratio=np.arange(00.01,0.95,0.1))\n",
        "lr_elastic = LogisticRegression(penalty='elasticnet',solver='saga', max_iter=1000)\n",
        "clf_elastic = GridSearchCV(lr_elastic, distributions , refit=True, verbose=1)\n",
        "search = clf_elastic.fit(X_train_scaled, y_train)\n",
        "elastic_pred = clf_elastic.predict(X_test_scaled)\n",
        "search.best_params_\n",
        "#Najlepsze parametry:"
      ],
      "execution_count": null,
      "outputs": [
        {
          "output_type": "stream",
          "text": [
            "Fitting 5 folds for each of 200 candidates, totalling 1000 fits\n"
          ],
          "name": "stdout"
        },
        {
          "output_type": "stream",
          "text": [
            "[Parallel(n_jobs=1)]: Using backend SequentialBackend with 1 concurrent workers.\n",
            "[Parallel(n_jobs=1)]: Done 1000 out of 1000 | elapsed:   18.8s finished\n"
          ],
          "name": "stderr"
        },
        {
          "output_type": "execute_result",
          "data": {
            "text/plain": [
              "{'C': 0.11, 'l1_ratio': 0.11}"
            ]
          },
          "metadata": {
            "tags": []
          },
          "execution_count": 37
        }
      ]
    },
    {
      "cell_type": "code",
      "metadata": {
        "colab": {
          "base_uri": "https://localhost:8080/"
        },
        "id": "joBjGLwoqLPr",
        "outputId": "0ff23e8b-de4d-4eac-9e96-0d7337053c58"
      },
      "source": [
        "print(\"Confusion matrix dla elasticnet\")\n",
        "confusion_matrix(y_test, elastic_pred)"
      ],
      "execution_count": null,
      "outputs": [
        {
          "output_type": "stream",
          "text": [
            "Confusion matrix dla elasticnet\n"
          ],
          "name": "stdout"
        },
        {
          "output_type": "execute_result",
          "data": {
            "text/plain": [
              "array([[101,  23],\n",
              "       [  5,  78]])"
            ]
          },
          "metadata": {
            "tags": []
          },
          "execution_count": 39
        }
      ]
    },
    {
      "cell_type": "code",
      "metadata": {
        "id": "Va_lTYoapip9"
      },
      "source": [
        "accuracy_elastic_net = accuracy_score(y_test,elastic_pred )"
      ],
      "execution_count": null,
      "outputs": []
    },
    {
      "cell_type": "markdown",
      "metadata": {
        "id": "k-jCrSv3oe38"
      },
      "source": [
        "#Wnioski"
      ]
    },
    {
      "cell_type": "markdown",
      "metadata": {
        "id": "_F9d_xLCVD4g"
      },
      "source": [
        "Lasso dokladnosc =\n",
        "**0.87**01923076923077. Model grzbietowej ma najwyższą dokładność więc jest najlepszy (poza lasso)."
      ]
    }
  ]
}